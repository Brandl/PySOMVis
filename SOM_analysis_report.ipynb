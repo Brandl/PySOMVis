{
 "cells": [
  {
   "cell_type": "code",
   "execution_count": 1,
   "id": "28820aea",
   "metadata": {},
   "outputs": [],
   "source": [
    "# Read data from Java SOMToolbox\n",
    "from SOMToolBox_Parse import SOMToolBox_Parse\n",
    "idata = SOMToolBox_Parse(\"iris\\\\iris.vec\").read_weight_file()\n",
    "weights = SOMToolBox_Parse(\"iris\\\\iris.wgt.gz\").read_weight_file()\n",
    "classes = SOMToolBox_Parse(\"iris\\\\iris.cls\").read_weight_file()"
   ]
  },
  {
   "cell_type": "code",
   "execution_count": 3,
   "id": "99c6677b",
   "metadata": {},
   "outputs": [
    {
     "data": {
      "application/vnd.holoviews_exec.v0+json": "",
      "text/html": [
       "<div id='2212'>\n",
       "\n",
       "\n",
       "\n",
       "\n",
       "\n",
       "  <div class=\"bk-root\" id=\"7769c808-7fc2-4726-a054-63a970fba3f3\" data-root-id=\"2212\"></div>\n",
       "</div>\n",
       "<script type=\"application/javascript\">(function(root) {\n",
       "  function embed_document(root) {\n",
       "    var docs_json = {\"6ff8f545-a899-4e29-b0cd-54ce3a23c1c0\":{\"defs\":[],\"roots\":{\"references\":[{\"attributes\":{\"margin\":[5,5,5,5],\"name\":\"Str08081\",\"text\":\"&lt;pre&gt;Slicing weight vector according it&#x27;s components.&lt;/pre&gt;\"},\"id\":\"2394\",\"type\":\"panel.models.markup.HTML\"},{\"attributes\":{\"source\":{\"id\":\"2273\"}},\"id\":\"2279\",\"type\":\"CDSView\"},{\"attributes\":{\"end\":3,\"margin\":[5,10,5,10],\"start\":0,\"title\":\"setosa\",\"value\":0},\"id\":\"2393\",\"type\":\"Slider\"},{\"attributes\":{\"margin\":[5,10,5,10],\"name\":\"\",\"text\":\"<b>Component Planes</b>\"},\"id\":\"2392\",\"type\":\"Div\"},{\"attributes\":{},\"id\":\"2292\",\"type\":\"UnionRenderers\"},{\"attributes\":{\"data_source\":{\"id\":\"2273\"},\"glyph\":{\"id\":\"2276\"},\"hover_glyph\":null,\"muted_glyph\":null,\"nonselection_glyph\":{\"id\":\"2277\"},\"selection_glyph\":{\"id\":\"2280\"},\"view\":{\"id\":\"2279\"}},\"id\":\"2278\",\"type\":\"GlyphRenderer\"},{\"attributes\":{\"icon\":null,\"label\":\"\\u21aa\",\"margin\":[5,10,5,10],\"subscribed_events\":[\"button_click\"]},\"id\":\"2220\",\"type\":\"Button\"},{\"attributes\":{\"bottom_units\":\"screen\",\"fill_alpha\":0.5,\"fill_color\":\"lightgrey\",\"left_units\":\"screen\",\"level\":\"overlay\",\"line_alpha\":1.0,\"line_color\":\"black\",\"line_dash\":[4,4],\"line_width\":2,\"right_units\":\"screen\",\"syncable\":false,\"top_units\":\"screen\"},\"id\":\"2248\",\"type\":\"BoxAnnotation\"},{\"attributes\":{\"margin\":[0,0,0,0],\"name\":\"Row08064\"},\"id\":\"2396\",\"type\":\"Row\"},{\"attributes\":{\"line_alpha\":{\"value\":0.1},\"line_color\":{\"value\":\"red\"},\"x0\":{\"field\":\"x0\"},\"x1\":{\"field\":\"x1\"},\"y0\":{\"field\":\"y0\"},\"y1\":{\"field\":\"y1\"}},\"id\":\"2277\",\"type\":\"Segment\"},{\"attributes\":{},\"id\":\"2236\",\"type\":\"BasicTicker\"},{\"attributes\":{\"source\":{\"id\":\"2262\"}},\"id\":\"2270\",\"type\":\"CDSView\"},{\"attributes\":{\"axis_label\":\"x\",\"formatter\":{\"id\":\"2256\"},\"major_label_policy\":{\"id\":\"2255\"},\"ticker\":{\"id\":\"2236\"}},\"id\":\"2235\",\"type\":\"LinearAxis\"},{\"attributes\":{\"data_source\":{\"id\":\"2262\"},\"glyph\":{\"id\":\"2265\"},\"hover_glyph\":null,\"muted_glyph\":null,\"nonselection_glyph\":{\"id\":\"2267\"},\"selection_glyph\":{\"id\":\"2271\"},\"view\":{\"id\":\"2270\"}},\"id\":\"2269\",\"type\":\"GlyphRenderer\"},{\"attributes\":{\"line_alpha\":{\"value\":1.0},\"line_cap\":{\"value\":\"butt\"},\"line_color\":{\"value\":\"red\"},\"line_dash\":{\"value\":[]},\"line_dash_offset\":{\"value\":0},\"line_join\":{\"value\":\"bevel\"},\"line_width\":{\"value\":1},\"x0\":{\"field\":\"x0\"},\"x1\":{\"field\":\"x1\"},\"y0\":{\"field\":\"y0\"},\"y1\":{\"field\":\"y1\"}},\"id\":\"2280\",\"type\":\"Segment\"},{\"attributes\":{\"axis\":{\"id\":\"2235\"},\"grid_line_color\":null,\"ticker\":null},\"id\":\"2238\",\"type\":\"Grid\"},{\"attributes\":{},\"id\":\"2259\",\"type\":\"BasicTickFormatter\"},{\"attributes\":{\"client_comm_id\":\"d398cb87e0fd4155b7f5509f1f18c95d\",\"comm_id\":\"93f163f00f1a4d548f2af3c98c4d8fe1\",\"plot_id\":\"2212\"},\"id\":\"2433\",\"type\":\"panel.models.comm_manager.CommManager\"},{\"attributes\":{\"axis_label\":\"y\",\"formatter\":{\"id\":\"2259\"},\"major_label_policy\":{\"id\":\"2258\"},\"ticker\":{\"id\":\"2240\"}},\"id\":\"2239\",\"type\":\"LinearAxis\"},{\"attributes\":{\"children\":[{\"id\":\"2392\"},{\"id\":\"2393\"}],\"margin\":[5,5,5,5],\"min_width\":300,\"name\":\"Component Planes\",\"width\":300},\"id\":\"2391\",\"type\":\"Column\"},{\"attributes\":{\"color_mapper\":{\"id\":\"2261\"},\"dh\":{\"field\":\"dh\"},\"dw\":{\"field\":\"dw\"},\"image\":{\"field\":\"image\"},\"x\":{\"field\":\"x\"},\"y\":{\"field\":\"y\"}},\"id\":\"2271\",\"type\":\"Image\"},{\"attributes\":{\"children\":[{\"id\":\"2213\"},{\"id\":\"2395\"}],\"margin\":[0,0,0,0],\"name\":\"Column08068\"},\"id\":\"2212\",\"type\":\"Column\"},{\"attributes\":{\"high\":7.67601165456414,\"low\":4.462297776500628,\"nan_color\":\"rgba(0, 0, 0, 0)\",\"palette\":[\"#00007f\",\"#000084\",\"#000088\",\"#00008d\",\"#000091\",\"#000096\",\"#00009a\",\"#00009f\",\"#0000a3\",\"#0000a8\",\"#0000ac\",\"#0000b1\",\"#0000b6\",\"#0000ba\",\"#0000bf\",\"#0000c3\",\"#0000c8\",\"#0000cc\",\"#0000d1\",\"#0000d5\",\"#0000da\",\"#0000de\",\"#0000e3\",\"#0000e8\",\"#0000ec\",\"#0000f1\",\"#0000f5\",\"#0000fa\",\"#0000fe\",\"#0000ff\",\"#0000ff\",\"#0000ff\",\"#0000ff\",\"#0004ff\",\"#0008ff\",\"#000cff\",\"#0010ff\",\"#0014ff\",\"#0018ff\",\"#001cff\",\"#0020ff\",\"#0024ff\",\"#0028ff\",\"#002cff\",\"#0030ff\",\"#0034ff\",\"#0038ff\",\"#003cff\",\"#0040ff\",\"#0044ff\",\"#0048ff\",\"#004cff\",\"#0050ff\",\"#0054ff\",\"#0058ff\",\"#005cff\",\"#0060ff\",\"#0064ff\",\"#0068ff\",\"#006cff\",\"#0070ff\",\"#0074ff\",\"#0078ff\",\"#007cff\",\"#0080ff\",\"#0084ff\",\"#0088ff\",\"#008cff\",\"#0090ff\",\"#0094ff\",\"#0098ff\",\"#009cff\",\"#00a0ff\",\"#00a4ff\",\"#00a8ff\",\"#00acff\",\"#00b0ff\",\"#00b4ff\",\"#00b8ff\",\"#00bcff\",\"#00c0ff\",\"#00c4ff\",\"#00c8ff\",\"#00ccff\",\"#00d0ff\",\"#00d4ff\",\"#00d8ff\",\"#00dcfe\",\"#00e0fa\",\"#00e4f7\",\"#02e8f4\",\"#05ecf1\",\"#08f0ed\",\"#0cf4ea\",\"#0ff8e7\",\"#12fce4\",\"#15ffe1\",\"#18ffdd\",\"#1cffda\",\"#1fffd7\",\"#22ffd4\",\"#25ffd0\",\"#29ffcd\",\"#2cffca\",\"#2fffc7\",\"#32ffc3\",\"#36ffc0\",\"#39ffbd\",\"#3cffba\",\"#3fffb7\",\"#42ffb3\",\"#46ffb0\",\"#49ffad\",\"#4cffaa\",\"#4fffa6\",\"#53ffa3\",\"#56ffa0\",\"#59ff9d\",\"#5cff9a\",\"#5fff96\",\"#63ff93\",\"#66ff90\",\"#69ff8d\",\"#6cff89\",\"#70ff86\",\"#73ff83\",\"#76ff80\",\"#79ff7d\",\"#7cff79\",\"#80ff76\",\"#83ff73\",\"#86ff70\",\"#89ff6c\",\"#8dff69\",\"#90ff66\",\"#93ff63\",\"#96ff5f\",\"#9aff5c\",\"#9dff59\",\"#a0ff56\",\"#a3ff53\",\"#a6ff4f\",\"#aaff4c\",\"#adff49\",\"#b0ff46\",\"#b3ff42\",\"#b7ff3f\",\"#baff3c\",\"#bdff39\",\"#c0ff36\",\"#c3ff32\",\"#c7ff2f\",\"#caff2c\",\"#cdff29\",\"#d0ff25\",\"#d4ff22\",\"#d7ff1f\",\"#daff1c\",\"#ddff18\",\"#e0ff15\",\"#e4ff12\",\"#e7ff0f\",\"#eaff0c\",\"#edff08\",\"#f1fc05\",\"#f4f802\",\"#f7f400\",\"#faf000\",\"#feed00\",\"#ffe900\",\"#ffe500\",\"#ffe200\",\"#ffde00\",\"#ffda00\",\"#ffd700\",\"#ffd300\",\"#ffcf00\",\"#ffcb00\",\"#ffc800\",\"#ffc400\",\"#ffc000\",\"#ffbd00\",\"#ffb900\",\"#ffb500\",\"#ffb100\",\"#ffae00\",\"#ffaa00\",\"#ffa600\",\"#ffa300\",\"#ff9f00\",\"#ff9b00\",\"#ff9800\",\"#ff9400\",\"#ff9000\",\"#ff8c00\",\"#ff8900\",\"#ff8500\",\"#ff8100\",\"#ff7e00\",\"#ff7a00\",\"#ff7600\",\"#ff7300\",\"#ff6f00\",\"#ff6b00\",\"#ff6700\",\"#ff6400\",\"#ff6000\",\"#ff5c00\",\"#ff5900\",\"#ff5500\",\"#ff5100\",\"#ff4d00\",\"#ff4a00\",\"#ff4600\",\"#ff4200\",\"#ff3f00\",\"#ff3b00\",\"#ff3700\",\"#ff3400\",\"#ff3000\",\"#ff2c00\",\"#ff2800\",\"#ff2500\",\"#ff2100\",\"#ff1d00\",\"#ff1a00\",\"#ff1600\",\"#fe1200\",\"#fa0f00\",\"#f50b00\",\"#f10700\",\"#ec0300\",\"#e80000\",\"#e30000\",\"#de0000\",\"#da0000\",\"#d50000\",\"#d10000\",\"#cc0000\",\"#c80000\",\"#c30000\",\"#bf0000\",\"#ba0000\",\"#b60000\",\"#b10000\",\"#ac0000\",\"#a80000\",\"#a30000\",\"#9f0000\",\"#9a0000\",\"#960000\",\"#910000\",\"#8d0000\",\"#880000\",\"#840000\",\"#7f0000\"]},\"id\":\"2261\",\"type\":\"LinearColorMapper\"},{\"attributes\":{},\"id\":\"2240\",\"type\":\"BasicTicker\"},{\"attributes\":{\"data\":{\"dh\":[1.0],\"dw\":[1.0],\"image\":[{\"__ndarray__\":\"uVWclmTZEUCInGtiUsoSQLB2IqlMQBNAG5SfCoQSFEAAsAKiyxcUQHh+41IKHRVAzB2m3fGVFUBOyoZAC8UVQGt0e7v9GRdAm14ouD9nGECpXLYkyJsSQLLyX0s4VhNA43IZRXB2E0BtJoEKsUsUQDMd0w5+UBVANJy5CiMNFkB58jNc//gVQO5tejGdohVAF6s/pOWfFkAA5BTXpY0XQEHPAsTCyRJADG4hUNlyE0DP4XBaB6QTQJXyGgRvPxVA6GHvGlm3FkBmEYzS/BsXQCeuNEpDoBZA54drLT5SFkAiS6WHRcUWQE1mfI4i9BZAF3nEh7XNE0A5Bim6j9ITQPOh5wXIUxRA1PlA7Y0zFkBB+q4sdBwXQP/68d5ujhdAfnGc4xbQF0CTAt6MjMcXQPeTO3xyyxdADyl+nshcF0BNY+Wv2GsUQEEZsFfuTBRAXbpiVW78FEB5WAPL1q0WQJqUSR2C8RZA9XGWS1+qF0CsCkE2K2AYQPoswe0wrxhAM5mJVUzsGEAt55uZoHgYQP2FH9XZBRVAA0H4gwkcFUAkxSPTVm4VQEciME4jRxdA9yGhOEDqF0AR5BM+kSMYQGfggaoyiBhANV92hB7cGEDhXY6+O0gZQHr0K/ncSxlANRkAHAbUFEBSlBOQw+MUQAxqVFo/ohVAsxj0gaPOF0CoPYjjmkoYQC2nMbObRhhA7xbrH2UiGUCKv38fjpsZQDD79QvUshlAyzg/PCumGUDo4ieXplcVQOKzUSIcbxVA/lB6R6KtFkAlzrDkiwgZQG+u5rm5WRlA7W9hJG6bGUBngr8BYkgaQDsb1kK9lBpAFhDc9oKXGkDAD7TN++saQB8WotRpchZA+eOt/2JdFkCzYxrcc5wYQD4VYC9dEhpAwLP4RL5OGkBR6EYsBcYaQN35tvpRRhtAilD+SL9zG0AFd8Bhk1AcQB9gMClR9BxA6xChWPinFkAMnxu2VGQXQLDSGr4lwxlAvvTgutyTGkDnhLCGxRQbQMqlY6kXUhtAlxc5DAnMG0CBISxAuqEcQKgE3pY2ux1AdUUwZjy0HkA=\",\"dtype\":\"float64\",\"order\":\"little\",\"shape\":[10,10]}],\"x\":[-0.5],\"y\":[-0.5]},\"selected\":{\"id\":\"2263\"},\"selection_policy\":{\"id\":\"2290\"}},\"id\":\"2262\",\"type\":\"ColumnDataSource\"},{\"attributes\":{\"children\":[{\"id\":\"2214\"},{\"id\":\"2222\"}],\"margin\":[0,0,0,0],\"name\":\"Column08066\"},\"id\":\"2213\",\"type\":\"Column\"},{\"attributes\":{\"axis\":{\"id\":\"2239\"},\"dimension\":1,\"grid_line_color\":null,\"ticker\":null},\"id\":\"2242\",\"type\":\"Grid\"},{\"attributes\":{\"color_mapper\":{\"id\":\"2261\"},\"dh\":{\"field\":\"dh\"},\"dw\":{\"field\":\"dw\"},\"global_alpha\":0.1,\"image\":{\"field\":\"image\"},\"x\":{\"field\":\"x\"},\"y\":{\"field\":\"y\"}},\"id\":\"2267\",\"type\":\"Image\"},{\"attributes\":{\"children\":[{\"id\":\"2396\"}],\"margin\":[0,0,0,0],\"name\":\"Column08067\"},\"id\":\"2395\",\"type\":\"Column\"},{\"attributes\":{},\"id\":\"2258\",\"type\":\"AllLabels\"},{\"attributes\":{\"children\":[{\"id\":\"2215\"}],\"margin\":[0,0,0,0],\"name\":\"Column08041\"},\"id\":\"2214\",\"type\":\"Column\"},{\"attributes\":{},\"id\":\"2256\",\"type\":\"BasicTickFormatter\"},{\"attributes\":{\"children\":[{\"id\":\"2223\"},{\"id\":\"2389\"}],\"margin\":[0,0,0,0],\"name\":\"Row08065\"},\"id\":\"2222\",\"type\":\"Row\"},{\"attributes\":{\"labels\":[\"interpolation\"],\"margin\":[5,10,5,10]},\"id\":\"2221\",\"type\":\"CheckboxGroup\"},{\"attributes\":{\"below\":[{\"id\":\"2235\"}],\"center\":[{\"id\":\"2238\"},{\"id\":\"2242\"}],\"height\":500,\"left\":[{\"id\":\"2239\"}],\"margin\":[5,5,5,5],\"min_border_bottom\":10,\"min_border_left\":10,\"min_border_right\":10,\"min_border_top\":10,\"renderers\":[{\"id\":\"2269\"},{\"id\":\"2278\"}],\"sizing_mode\":\"fixed\",\"title\":{\"id\":\"2227\"},\"toolbar\":{\"id\":\"2249\"},\"width\":500,\"x_range\":{\"id\":\"2224\"},\"x_scale\":{\"id\":\"2231\"},\"y_range\":{\"id\":\"2225\"},\"y_scale\":{\"id\":\"2233\"}},\"id\":\"2226\",\"subtype\":\"Figure\",\"type\":\"Plot\"},{\"attributes\":{\"children\":[{\"id\":\"2216\"},{\"id\":\"2217\"},{\"id\":\"2218\"},{\"id\":\"2219\"},{\"id\":\"2220\"},{\"id\":\"2221\"}],\"margin\":[5,5,5,5],\"min_width\":700,\"name\":\"\",\"width\":700},\"id\":\"2215\",\"type\":\"Row\"},{\"attributes\":{},\"id\":\"2263\",\"type\":\"Selection\"},{\"attributes\":{\"text_color\":\"black\",\"text_font_size\":\"12pt\"},\"id\":\"2227\",\"type\":\"Title\"},{\"attributes\":{},\"id\":\"2231\",\"type\":\"LinearScale\"},{\"attributes\":{},\"id\":\"2243\",\"type\":\"SaveTool\"},{\"attributes\":{\"children\":[{\"id\":\"2226\"}],\"margin\":[0,0,0,0],\"name\":\"Column08062\"},\"id\":\"2223\",\"type\":\"Column\"},{\"attributes\":{\"color_mapper\":{\"id\":\"2261\"},\"dh\":{\"field\":\"dh\"},\"dw\":{\"field\":\"dw\"},\"image\":{\"field\":\"image\"},\"x\":{\"field\":\"x\"},\"y\":{\"field\":\"y\"}},\"id\":\"2265\",\"type\":\"Image\"},{\"attributes\":{\"end\":0.5,\"reset_end\":0.5,\"reset_start\":-0.5,\"start\":-0.5,\"tags\":[[[\"x\",\"x\",null]]]},\"id\":\"2224\",\"type\":\"Range1d\"},{\"attributes\":{\"end\":0.5,\"reset_end\":0.5,\"reset_start\":-0.5,\"start\":-0.5,\"tags\":[[[\"y\",\"y\",null]]]},\"id\":\"2225\",\"type\":\"Range1d\"},{\"attributes\":{\"margin\":[5,10,5,10],\"name\":\"\",\"text\":\"<b></b>\"},\"id\":\"2216\",\"type\":\"Div\"},{\"attributes\":{\"children\":[{\"id\":\"2390\"}],\"margin\":[0,0,0,0],\"name\":\"Row08063\"},\"id\":\"2389\",\"type\":\"Row\"},{\"attributes\":{},\"id\":\"2244\",\"type\":\"PanTool\"},{\"attributes\":{},\"id\":\"2245\",\"type\":\"WheelZoomTool\"},{\"attributes\":{},\"id\":\"2233\",\"type\":\"LinearScale\"},{\"attributes\":{\"overlay\":{\"id\":\"2248\"}},\"id\":\"2246\",\"type\":\"BoxZoomTool\"},{\"attributes\":{\"data\":{\"x0\":{\"__ndarray__\":\"\",\"dtype\":\"float64\",\"order\":\"little\",\"shape\":[0]},\"x1\":{\"__ndarray__\":\"\",\"dtype\":\"float64\",\"order\":\"little\",\"shape\":[0]},\"y0\":{\"__ndarray__\":\"\",\"dtype\":\"float64\",\"order\":\"little\",\"shape\":[0]},\"y1\":{\"__ndarray__\":\"\",\"dtype\":\"float64\",\"order\":\"little\",\"shape\":[0]}},\"selected\":{\"id\":\"2274\"},\"selection_policy\":{\"id\":\"2292\"}},\"id\":\"2273\",\"type\":\"ColumnDataSource\"},{\"attributes\":{\"margin\":[5,10,5,10],\"options\":[[\"0\",\"Component Planes\"],[\"1\",\"Hit Histogram\"],[\"2\",\"U-matrix\"],[\"3\",\"D-Matrix\"],[\"4\",\"P-matrix & U*-matrix\"],[\"5\",\"Smoothed Data Histograms\"],[\"6\",\"Pie Chart\"],[\"7\",\"Neighbourhood Graph\"],[\"8\",\"Chessboard\"],[\"9\",\"Clustering\"],[\"10\",\"Metro Map\"],[\"11\",\"Quantization Error\"],[\"12\",\"Time Series\"]],\"value\":\"0\"},\"id\":\"2217\",\"type\":\"Select\"},{\"attributes\":{},\"id\":\"2274\",\"type\":\"Selection\"},{\"attributes\":{},\"id\":\"2247\",\"type\":\"ResetTool\"},{\"attributes\":{\"icon\":null,\"label\":\"\\u21a9\",\"margin\":[5,10,5,10],\"subscribed_events\":[\"button_click\"]},\"id\":\"2219\",\"type\":\"Button\"},{\"attributes\":{},\"id\":\"2255\",\"type\":\"AllLabels\"},{\"attributes\":{\"children\":[{\"id\":\"2391\"},{\"id\":\"2394\"}],\"margin\":[0,0,0,0],\"name\":\"\"},\"id\":\"2390\",\"type\":\"Column\"},{\"attributes\":{\"margin\":[5,10,5,10],\"options\":[[\"PiYG\",\"PiYG\"],[\"PRGn\",\"PRGn\"],[\"BrBG\",\"BrBG\"],[\"PuOr\",\"PuOr\"],[\"RdGy\",\"RdGy\"],[\"RdBu\",\"RdBu\"],[\"RdYlBu\",\"RdYlBu\"],[\"RdYlGn\",\"RdYlGn\"],[\"Spectral\",\"Spectral\"],[\"coolwarm\",\"coolwarm\"],[\"bwr\",\"bwr\"],[\"seismic\",\"seismic\"],[\"gist_gray\",\"gist_gray\"],[\"bone\",\"bone\"],[\"pink\",\"pink\"],[\"spring\",\"spring\"],[\"summer\",\"summer\"],[\"autumn\",\"autumn\"],[\"winter\",\"winter\"],[\"cool\",\"cool\"],[\"Wistia\",\"Wistia\"],[\"hot\",\"hot\"],[\"afmhot\",\"afmhot\"],[\"gist_heat\",\"gist_heat\"],[\"copper\",\"copper\"],[\"Greys\",\"Greys\"],[\"Purples\",\"Purples\"],[\"Blues\",\"Blues\"],[\"Greens\",\"Greens\"],[\"Oranges\",\"Oranges\"],[\"Reds\",\"Reds\"],[\"YlOrBr\",\"YlOrBr\"],[\"YlOrRd\",\"YlOrRd\"],[\"OrRd\",\"OrRd\"],[\"PuRd\",\"PuRd\"],[\"RdPu\",\"RdPu\"],[\"BuPu\",\"BuPu\"],[\"GnBu\",\"GnBu\"],[\"PuBu\",\"PuBu\"],[\"YlGnBu\",\"YlGnBu\"],[\"PuBuGn\",\"PuBuGn\"],[\"BuGn\",\"BuGn\"],[\"YlGn\",\"YlGn\"],[\"viridis\",\"viridis\"],[\"plasma\",\"plasma\"],[\"inferno\",\"inferno\"],[\"magma\",\"magma\"],[\"cividis\",\"cividis\"],[\"twilight\",\"twilight\"],[\"twilight_shifted\",\"twilight_shifted\"],[\"hsv\",\"hsv\"],[\"Pastel1\",\"Pastel1\"],[\"Paired\",\"Paired\"],[\"Accent\",\"Accent\"],[\"Dark2\",\"Dark2\"],[\"Set1\",\"Set1\"],[\"Set2\",\"Set2\"],[\"Set3\",\"Set3\"],[\"tab10\",\"tab10\"],[\"tab20\",\"tab20\"],[\"tab20b\",\"tab20b\"],[\"tab20c\",\"tab20c\"],[\"flag\",\"flag\"],[\"prism\",\"prism\"],[\"ocean\",\"ocean\"],[\"gist_earth\",\"gist_earth\"],[\"terrain\",\"terrain\"],[\"gist_stern\",\"gist_stern\"],[\"gnuplot\",\"gnuplot\"],[\"gnuplot2\",\"gnuplot2\"],[\"CMRmap\",\"CMRmap\"],[\"cubehelix\",\"cubehelix\"],[\"brg\",\"brg\"],[\"gist_rainbow\",\"gist_rainbow\"],[\"rainbow\",\"rainbow\"],[\"jet\",\"jet\"],[\"turbo\",\"turbo\"],[\"nipy_spectral\",\"nipy_spectral\"],[\"gist_ncar\",\"gist_ncar\"],[\"glasbey_dark\",\"glasbey_dark\"]],\"value\":\"jet\"},\"id\":\"2218\",\"type\":\"Select\"},{\"attributes\":{},\"id\":\"2290\",\"type\":\"UnionRenderers\"},{\"attributes\":{\"active_multi\":null,\"tools\":[{\"id\":\"2243\"},{\"id\":\"2244\"},{\"id\":\"2245\"},{\"id\":\"2246\"},{\"id\":\"2247\"}]},\"id\":\"2249\",\"type\":\"Toolbar\"},{\"attributes\":{\"line_color\":{\"value\":\"red\"},\"x0\":{\"field\":\"x0\"},\"x1\":{\"field\":\"x1\"},\"y0\":{\"field\":\"y0\"},\"y1\":{\"field\":\"y1\"}},\"id\":\"2276\",\"type\":\"Segment\"}],\"root_ids\":[\"2212\",\"2433\"]},\"title\":\"Bokeh Application\",\"version\":\"2.3.1\"}};\n",
       "    var render_items = [{\"docid\":\"6ff8f545-a899-4e29-b0cd-54ce3a23c1c0\",\"root_ids\":[\"2212\"],\"roots\":{\"2212\":\"7769c808-7fc2-4726-a054-63a970fba3f3\"}}];\n",
       "    root.Bokeh.embed.embed_items_notebook(docs_json, render_items);\n",
       "  }\n",
       "  if (root.Bokeh !== undefined && root.Bokeh.Panel !== undefined) {\n",
       "    embed_document(root);\n",
       "  } else {\n",
       "    var attempts = 0;\n",
       "    var timer = setInterval(function(root) {\n",
       "      if (root.Bokeh !== undefined && root.Bokeh.Panel !== undefined) {\n",
       "        clearInterval(timer);\n",
       "        embed_document(root);\n",
       "      } else if (document.readyState == \"complete\") {\n",
       "        attempts++;\n",
       "        if (attempts > 100) {\n",
       "          clearInterval(timer);\n",
       "          console.log(\"Bokeh: ERROR: Unable to run BokehJS code because BokehJS library is missing\");\n",
       "        }\n",
       "      }\n",
       "    }, 10, root)\n",
       "  }\n",
       "})(window);</script>"
      ],
      "text/plain": [
       "Column\n",
       "    [0] Column\n",
       "        [0] Column\n",
       "            [0] Row(margin=5, width=700)\n",
       "                [0] StaticText(value='<b></b>')\n",
       "                [1] Select(options=OrderedDict([('Component P...]), value=0)\n",
       "                [2] Select(options=OrderedDict([('PiYG', ...]), value='jet')\n",
       "                [3] Button(name='↩')\n",
       "                [4] Button(name='↪')\n",
       "                [5] Checkbox(name='interpolation')\n",
       "        [1] Row\n",
       "            [0] Column\n",
       "                [0] HoloViews(DynamicMap)\n",
       "            [1] Row\n",
       "                [0] Column\n",
       "                    [0] Column(margin=5, name='Component Planes', width=300)\n",
       "                        [0] StaticText(value='<b>Component Planes</b>')\n",
       "                        [1] IntSlider(end=3, name='setosa')\n",
       "                    [1] Str(str)\n",
       "    [1] Column\n",
       "        [0] Row()"
      ]
     },
     "execution_count": 3,
     "metadata": {
      "application/vnd.holoviews_exec.v0+json": {
       "id": "2212"
      }
     },
     "output_type": "execute_result"
    }
   ],
   "source": [
    "from somtoolbox import SOMToolbox\n",
    "\n",
    "sm = SOMToolbox(weights=weights['arr'],m=weights['ydim'],n=weights['xdim'],\n",
    "                dimension=weights['vec_dim'], input_data=idata['arr'],\n",
    "               classes=classes['arr'], component_names=classes['classes_names'])\n",
    "sm._mainview"
   ]
  },
  {
   "cell_type": "code",
   "execution_count": 4,
   "id": "5c6d9d9e",
   "metadata": {},
   "outputs": [
    {
     "data": {
      "application/vnd.holoviews_exec.v0+json": "",
      "text/html": [
       "<div id='2589'>\n",
       "\n",
       "\n",
       "\n",
       "\n",
       "\n",
       "  <div class=\"bk-root\" id=\"2c10b7aa-9626-46ab-981d-04e265f3e78c\" data-root-id=\"2589\"></div>\n",
       "</div>\n",
       "<script type=\"application/javascript\">(function(root) {\n",
       "  function embed_document(root) {\n",
       "    var docs_json = {\"081ad706-4302-4316-866a-2b022f423f90\":{\"defs\":[],\"roots\":{\"references\":[{\"attributes\":{\"end\":0.5,\"reset_end\":0.5,\"reset_start\":-0.5,\"start\":-0.5,\"tags\":[[[\"x\",\"x\",null]]]},\"id\":\"2601\",\"type\":\"Range1d\"},{\"attributes\":{\"source\":{\"id\":\"2650\"}},\"id\":\"2656\",\"type\":\"CDSView\"},{\"attributes\":{},\"id\":\"2636\",\"type\":\"BasicTickFormatter\"},{\"attributes\":{\"margin\":[5,10,5,10],\"name\":\"\",\"text\":\"<b>Component Planes</b>\"},\"id\":\"2769\",\"type\":\"Div\"},{\"attributes\":{\"high\":5.675540015073589,\"low\":-0.8267168140103635,\"nan_color\":\"rgba(0, 0, 0, 0)\",\"palette\":[\"#00007f\",\"#000084\",\"#000088\",\"#00008d\",\"#000091\",\"#000096\",\"#00009a\",\"#00009f\",\"#0000a3\",\"#0000a8\",\"#0000ac\",\"#0000b1\",\"#0000b6\",\"#0000ba\",\"#0000bf\",\"#0000c3\",\"#0000c8\",\"#0000cc\",\"#0000d1\",\"#0000d5\",\"#0000da\",\"#0000de\",\"#0000e3\",\"#0000e8\",\"#0000ec\",\"#0000f1\",\"#0000f5\",\"#0000fa\",\"#0000fe\",\"#0000ff\",\"#0000ff\",\"#0000ff\",\"#0000ff\",\"#0004ff\",\"#0008ff\",\"#000cff\",\"#0010ff\",\"#0014ff\",\"#0018ff\",\"#001cff\",\"#0020ff\",\"#0024ff\",\"#0028ff\",\"#002cff\",\"#0030ff\",\"#0034ff\",\"#0038ff\",\"#003cff\",\"#0040ff\",\"#0044ff\",\"#0048ff\",\"#004cff\",\"#0050ff\",\"#0054ff\",\"#0058ff\",\"#005cff\",\"#0060ff\",\"#0064ff\",\"#0068ff\",\"#006cff\",\"#0070ff\",\"#0074ff\",\"#0078ff\",\"#007cff\",\"#0080ff\",\"#0084ff\",\"#0088ff\",\"#008cff\",\"#0090ff\",\"#0094ff\",\"#0098ff\",\"#009cff\",\"#00a0ff\",\"#00a4ff\",\"#00a8ff\",\"#00acff\",\"#00b0ff\",\"#00b4ff\",\"#00b8ff\",\"#00bcff\",\"#00c0ff\",\"#00c4ff\",\"#00c8ff\",\"#00ccff\",\"#00d0ff\",\"#00d4ff\",\"#00d8ff\",\"#00dcfe\",\"#00e0fa\",\"#00e4f7\",\"#02e8f4\",\"#05ecf1\",\"#08f0ed\",\"#0cf4ea\",\"#0ff8e7\",\"#12fce4\",\"#15ffe1\",\"#18ffdd\",\"#1cffda\",\"#1fffd7\",\"#22ffd4\",\"#25ffd0\",\"#29ffcd\",\"#2cffca\",\"#2fffc7\",\"#32ffc3\",\"#36ffc0\",\"#39ffbd\",\"#3cffba\",\"#3fffb7\",\"#42ffb3\",\"#46ffb0\",\"#49ffad\",\"#4cffaa\",\"#4fffa6\",\"#53ffa3\",\"#56ffa0\",\"#59ff9d\",\"#5cff9a\",\"#5fff96\",\"#63ff93\",\"#66ff90\",\"#69ff8d\",\"#6cff89\",\"#70ff86\",\"#73ff83\",\"#76ff80\",\"#79ff7d\",\"#7cff79\",\"#80ff76\",\"#83ff73\",\"#86ff70\",\"#89ff6c\",\"#8dff69\",\"#90ff66\",\"#93ff63\",\"#96ff5f\",\"#9aff5c\",\"#9dff59\",\"#a0ff56\",\"#a3ff53\",\"#a6ff4f\",\"#aaff4c\",\"#adff49\",\"#b0ff46\",\"#b3ff42\",\"#b7ff3f\",\"#baff3c\",\"#bdff39\",\"#c0ff36\",\"#c3ff32\",\"#c7ff2f\",\"#caff2c\",\"#cdff29\",\"#d0ff25\",\"#d4ff22\",\"#d7ff1f\",\"#daff1c\",\"#ddff18\",\"#e0ff15\",\"#e4ff12\",\"#e7ff0f\",\"#eaff0c\",\"#edff08\",\"#f1fc05\",\"#f4f802\",\"#f7f400\",\"#faf000\",\"#feed00\",\"#ffe900\",\"#ffe500\",\"#ffe200\",\"#ffde00\",\"#ffda00\",\"#ffd700\",\"#ffd300\",\"#ffcf00\",\"#ffcb00\",\"#ffc800\",\"#ffc400\",\"#ffc000\",\"#ffbd00\",\"#ffb900\",\"#ffb500\",\"#ffb100\",\"#ffae00\",\"#ffaa00\",\"#ffa600\",\"#ffa300\",\"#ff9f00\",\"#ff9b00\",\"#ff9800\",\"#ff9400\",\"#ff9000\",\"#ff8c00\",\"#ff8900\",\"#ff8500\",\"#ff8100\",\"#ff7e00\",\"#ff7a00\",\"#ff7600\",\"#ff7300\",\"#ff6f00\",\"#ff6b00\",\"#ff6700\",\"#ff6400\",\"#ff6000\",\"#ff5c00\",\"#ff5900\",\"#ff5500\",\"#ff5100\",\"#ff4d00\",\"#ff4a00\",\"#ff4600\",\"#ff4200\",\"#ff3f00\",\"#ff3b00\",\"#ff3700\",\"#ff3400\",\"#ff3000\",\"#ff2c00\",\"#ff2800\",\"#ff2500\",\"#ff2100\",\"#ff1d00\",\"#ff1a00\",\"#ff1600\",\"#fe1200\",\"#fa0f00\",\"#f50b00\",\"#f10700\",\"#ec0300\",\"#e80000\",\"#e30000\",\"#de0000\",\"#da0000\",\"#d50000\",\"#d10000\",\"#cc0000\",\"#c80000\",\"#c30000\",\"#bf0000\",\"#ba0000\",\"#b60000\",\"#b10000\",\"#ac0000\",\"#a80000\",\"#a30000\",\"#9f0000\",\"#9a0000\",\"#960000\",\"#910000\",\"#8d0000\",\"#880000\",\"#840000\",\"#7f0000\"]},\"id\":\"2638\",\"type\":\"LinearColorMapper\"},{\"attributes\":{},\"id\":\"2613\",\"type\":\"BasicTicker\"},{\"attributes\":{},\"id\":\"2640\",\"type\":\"Selection\"},{\"attributes\":{\"margin\":[5,10,5,10],\"options\":[[\"0\",\"Component Planes\"],[\"1\",\"Hit Histogram\"],[\"2\",\"U-matrix\"],[\"3\",\"D-Matrix\"],[\"4\",\"P-matrix & U*-matrix\"],[\"5\",\"Smoothed Data Histograms\"],[\"6\",\"Pie Chart\"],[\"7\",\"Neighbourhood Graph\"],[\"8\",\"Chessboard\"],[\"9\",\"Clustering\"],[\"10\",\"Metro Map\"],[\"11\",\"Quantization Error\"],[\"12\",\"Time Series\"]],\"value\":\"0\"},\"id\":\"2594\",\"type\":\"Select\"},{\"attributes\":{},\"id\":\"2667\",\"type\":\"UnionRenderers\"},{\"attributes\":{},\"id\":\"2608\",\"type\":\"LinearScale\"},{\"attributes\":{\"overlay\":{\"id\":\"2625\"}},\"id\":\"2623\",\"type\":\"BoxZoomTool\"},{\"attributes\":{\"children\":[{\"id\":\"2590\"},{\"id\":\"2772\"}],\"margin\":[0,0,0,0],\"name\":\"Column09474\"},\"id\":\"2589\",\"type\":\"Column\"},{\"attributes\":{\"margin\":[0,0,0,0],\"name\":\"Row09470\"},\"id\":\"2773\",\"type\":\"Row\"},{\"attributes\":{\"text_color\":\"black\",\"text_font_size\":\"12pt\"},\"id\":\"2604\",\"type\":\"Title\"},{\"attributes\":{},\"id\":\"2624\",\"type\":\"ResetTool\"},{\"attributes\":{\"children\":[{\"id\":\"2768\"},{\"id\":\"2771\"}],\"margin\":[0,0,0,0],\"name\":\"\"},\"id\":\"2767\",\"type\":\"Column\"},{\"attributes\":{\"axis\":{\"id\":\"2612\"},\"grid_line_color\":null,\"ticker\":null},\"id\":\"2615\",\"type\":\"Grid\"},{\"attributes\":{\"children\":[{\"id\":\"2769\"},{\"id\":\"2770\"}],\"margin\":[5,5,5,5],\"min_width\":300,\"name\":\"Component Planes\",\"width\":300},\"id\":\"2768\",\"type\":\"Column\"},{\"attributes\":{\"data_source\":{\"id\":\"2639\"},\"glyph\":{\"id\":\"2642\"},\"hover_glyph\":null,\"muted_glyph\":null,\"nonselection_glyph\":{\"id\":\"2644\"},\"selection_glyph\":{\"id\":\"2648\"},\"view\":{\"id\":\"2647\"}},\"id\":\"2646\",\"type\":\"GlyphRenderer\"},{\"attributes\":{},\"id\":\"2669\",\"type\":\"UnionRenderers\"},{\"attributes\":{\"client_comm_id\":\"cc7069d27bb44e2ab678c2f08e323abf\",\"comm_id\":\"8f7ba44750a74c41b51da11d9a80f905\",\"plot_id\":\"2589\"},\"id\":\"2810\",\"type\":\"panel.models.comm_manager.CommManager\"},{\"attributes\":{\"axis_label\":\"y\",\"formatter\":{\"id\":\"2636\"},\"major_label_policy\":{\"id\":\"2635\"},\"ticker\":{\"id\":\"2617\"}},\"id\":\"2616\",\"type\":\"LinearAxis\"},{\"attributes\":{\"line_alpha\":{\"value\":1.0},\"line_cap\":{\"value\":\"butt\"},\"line_color\":{\"value\":\"red\"},\"line_dash\":{\"value\":[]},\"line_dash_offset\":{\"value\":0},\"line_join\":{\"value\":\"bevel\"},\"line_width\":{\"value\":1},\"x0\":{\"field\":\"x0\"},\"x1\":{\"field\":\"x1\"},\"y0\":{\"field\":\"y0\"},\"y1\":{\"field\":\"y1\"}},\"id\":\"2657\",\"type\":\"Segment\"},{\"attributes\":{\"margin\":[5,10,5,10],\"name\":\"\",\"text\":\"<b></b>\"},\"id\":\"2593\",\"type\":\"Div\"},{\"attributes\":{\"icon\":null,\"label\":\"\\u21aa\",\"margin\":[5,10,5,10],\"subscribed_events\":[\"button_click\"]},\"id\":\"2597\",\"type\":\"Button\"},{\"attributes\":{\"source\":{\"id\":\"2639\"}},\"id\":\"2647\",\"type\":\"CDSView\"},{\"attributes\":{},\"id\":\"2632\",\"type\":\"AllLabels\"},{\"attributes\":{},\"id\":\"2633\",\"type\":\"BasicTickFormatter\"},{\"attributes\":{\"margin\":[5,5,5,5],\"name\":\"Str09487\",\"text\":\"&lt;pre&gt;Slicing weight vector according it&#x27;s components.&lt;/pre&gt;\"},\"id\":\"2771\",\"type\":\"panel.models.markup.HTML\"},{\"attributes\":{},\"id\":\"2617\",\"type\":\"BasicTicker\"},{\"attributes\":{\"end\":3,\"margin\":[5,10,5,10],\"start\":0,\"title\":\"Component\",\"value\":0},\"id\":\"2770\",\"type\":\"Slider\"},{\"attributes\":{\"active_multi\":null,\"tools\":[{\"id\":\"2620\"},{\"id\":\"2621\"},{\"id\":\"2622\"},{\"id\":\"2623\"},{\"id\":\"2624\"}]},\"id\":\"2626\",\"type\":\"Toolbar\"},{\"attributes\":{\"labels\":[\"interpolation\"],\"margin\":[5,10,5,10]},\"id\":\"2598\",\"type\":\"CheckboxGroup\"},{\"attributes\":{\"axis\":{\"id\":\"2616\"},\"dimension\":1,\"grid_line_color\":null,\"ticker\":null},\"id\":\"2619\",\"type\":\"Grid\"},{\"attributes\":{\"data_source\":{\"id\":\"2650\"},\"glyph\":{\"id\":\"2653\"},\"hover_glyph\":null,\"muted_glyph\":null,\"nonselection_glyph\":{\"id\":\"2654\"},\"selection_glyph\":{\"id\":\"2657\"},\"view\":{\"id\":\"2656\"}},\"id\":\"2655\",\"type\":\"GlyphRenderer\"},{\"attributes\":{},\"id\":\"2651\",\"type\":\"Selection\"},{\"attributes\":{\"line_color\":{\"value\":\"red\"},\"x0\":{\"field\":\"x0\"},\"x1\":{\"field\":\"x1\"},\"y0\":{\"field\":\"y0\"},\"y1\":{\"field\":\"y1\"}},\"id\":\"2653\",\"type\":\"Segment\"},{\"attributes\":{\"bottom_units\":\"screen\",\"fill_alpha\":0.5,\"fill_color\":\"lightgrey\",\"left_units\":\"screen\",\"level\":\"overlay\",\"line_alpha\":1.0,\"line_color\":\"black\",\"line_dash\":[4,4],\"line_width\":2,\"right_units\":\"screen\",\"syncable\":false,\"top_units\":\"screen\"},\"id\":\"2625\",\"type\":\"BoxAnnotation\"},{\"attributes\":{\"color_mapper\":{\"id\":\"2638\"},\"dh\":{\"field\":\"dh\"},\"dw\":{\"field\":\"dw\"},\"global_alpha\":0.1,\"image\":{\"field\":\"image\"},\"x\":{\"field\":\"x\"},\"y\":{\"field\":\"y\"}},\"id\":\"2644\",\"type\":\"Image\"},{\"attributes\":{\"icon\":null,\"label\":\"\\u21a9\",\"margin\":[5,10,5,10],\"subscribed_events\":[\"button_click\"]},\"id\":\"2596\",\"type\":\"Button\"},{\"attributes\":{\"children\":[{\"id\":\"2600\"},{\"id\":\"2766\"}],\"margin\":[0,0,0,0],\"name\":\"Row09471\"},\"id\":\"2599\",\"type\":\"Row\"},{\"attributes\":{},\"id\":\"2610\",\"type\":\"LinearScale\"},{\"attributes\":{\"end\":0.5,\"reset_end\":0.5,\"reset_start\":-0.5,\"start\":-0.5,\"tags\":[[[\"y\",\"y\",null]]]},\"id\":\"2602\",\"type\":\"Range1d\"},{\"attributes\":{\"children\":[{\"id\":\"2592\"}],\"margin\":[0,0,0,0],\"name\":\"Column09447\"},\"id\":\"2591\",\"type\":\"Column\"},{\"attributes\":{},\"id\":\"2620\",\"type\":\"SaveTool\"},{\"attributes\":{\"color_mapper\":{\"id\":\"2638\"},\"dh\":{\"field\":\"dh\"},\"dw\":{\"field\":\"dw\"},\"image\":{\"field\":\"image\"},\"x\":{\"field\":\"x\"},\"y\":{\"field\":\"y\"}},\"id\":\"2648\",\"type\":\"Image\"},{\"attributes\":{\"children\":[{\"id\":\"2603\"}],\"margin\":[0,0,0,0],\"name\":\"Column09468\"},\"id\":\"2600\",\"type\":\"Column\"},{\"attributes\":{\"children\":[{\"id\":\"2593\"},{\"id\":\"2594\"},{\"id\":\"2595\"},{\"id\":\"2596\"},{\"id\":\"2597\"},{\"id\":\"2598\"}],\"margin\":[5,5,5,5],\"min_width\":700,\"name\":\"\",\"width\":700},\"id\":\"2592\",\"type\":\"Row\"},{\"attributes\":{\"children\":[{\"id\":\"2591\"},{\"id\":\"2599\"}],\"margin\":[0,0,0,0],\"name\":\"Column09472\"},\"id\":\"2590\",\"type\":\"Column\"},{\"attributes\":{\"color_mapper\":{\"id\":\"2638\"},\"dh\":{\"field\":\"dh\"},\"dw\":{\"field\":\"dw\"},\"image\":{\"field\":\"image\"},\"x\":{\"field\":\"x\"},\"y\":{\"field\":\"y\"}},\"id\":\"2642\",\"type\":\"Image\"},{\"attributes\":{\"line_alpha\":{\"value\":0.1},\"line_color\":{\"value\":\"red\"},\"x0\":{\"field\":\"x0\"},\"x1\":{\"field\":\"x1\"},\"y0\":{\"field\":\"y0\"},\"y1\":{\"field\":\"y1\"}},\"id\":\"2654\",\"type\":\"Segment\"},{\"attributes\":{},\"id\":\"2621\",\"type\":\"PanTool\"},{\"attributes\":{\"data\":{\"x0\":{\"__ndarray__\":\"\",\"dtype\":\"float64\",\"order\":\"little\",\"shape\":[0]},\"x1\":{\"__ndarray__\":\"\",\"dtype\":\"float64\",\"order\":\"little\",\"shape\":[0]},\"y0\":{\"__ndarray__\":\"\",\"dtype\":\"float64\",\"order\":\"little\",\"shape\":[0]},\"y1\":{\"__ndarray__\":\"\",\"dtype\":\"float64\",\"order\":\"little\",\"shape\":[0]}},\"selected\":{\"id\":\"2651\"},\"selection_policy\":{\"id\":\"2669\"}},\"id\":\"2650\",\"type\":\"ColumnDataSource\"},{\"attributes\":{\"children\":[{\"id\":\"2767\"}],\"margin\":[0,0,0,0],\"name\":\"Row09469\"},\"id\":\"2766\",\"type\":\"Row\"},{\"attributes\":{\"axis_label\":\"x\",\"formatter\":{\"id\":\"2633\"},\"major_label_policy\":{\"id\":\"2632\"},\"ticker\":{\"id\":\"2613\"}},\"id\":\"2612\",\"type\":\"LinearAxis\"},{\"attributes\":{},\"id\":\"2622\",\"type\":\"WheelZoomTool\"},{\"attributes\":{\"data\":{\"dh\":[1.0],\"dw\":[1.0],\"image\":[{\"__ndarray__\":\"VXXKOWEo0r8DKuO15eriv273K/rAh9U/S3ZSaswKwT/PYgf8iE3HP1tvmnvh0em/VkSFKizS4j9YoJBlqvjsPx5uNXhe4uK/NOEjZUCt5j8cnkN7BwrDP1BJLeeYoLo/p472NHyT4j++mmIOHxDwP/2o/y1/L+E/Q3yFyZFw2j8DHgvgIfjnP0vWJAWavOG/Bs8fn8a32D+Q6nea2GXgP3HpFm3EgeU/A7nHzMCU2L/OmZF3kTXmP4uF/8LAsxZAIsLWx3OLuD/ZgG5B64jlP+oydZAvt8g/XTOQBufn4r8cSygwZFOJP4d/lEfRUNy/dzu2LluKtr8VVji+Wb7BP9HCqi1aNtK/YFUBkxlm3D9ALsemmHzlP0pTh4Diwd2/qzEvZDO/3D8/O7DKIGbjv0/N9jtMjdY/WUrn0XZ06r94XWe7/c/MP/2VIzVR39O/uYfba5LJ4r/P91KgBgvmv1FtYjIDp96/HFirR/Rh0T9XYHyCGtbaP7elWfA/A8+/pXL6ki9w2j/Ymwa0Iy3NP0I9Fg6Rqus/SA17DsMj3z++Rj2EmrfbP1GRU7Drwsw/j6sxEpdT4T9Xub6cTBjXP+uMjrYqRs6/2OXKBPMg2L/62g1veaTgv0ZN7EamTtE/Mb3a4EpZy79b2gOSO+fRPyKvisKQOM2/94h0XIia4z+RYCtHUQLrP0l9nhuhrtg/lZ8EwDP0xD+GUMv+cerjvy6UugYSHta/CMyJJwQQ0D/6ijs2P1/Sv0hpD5Uo/OM/BaENCGMY3j8vTn3geIvgP0ksbES5D+S/p9j95J8vzT/uI0YgNN7tP9A2U4bvROI/8i4r8YAR4T83lWuwJ1TnP4yoWm9KJuM/N+gePyJ+4b85S7F1sWPbP1KgxkIRVJI/4aKCzZzI2j9DL4tHSRywPyG7MNIxdsc/j0sjhbyY5j/Ztl57LybpvwenfwOeL8K/bA7gJJUw6T92scweLw/ivyulhu0Jjpe/h0UWu0wWqD+Z0L7l+EO0P9BP0weXut8/inaIlqK51r+dTMfvyNbbv82fM8cKxLG/QkMWQ02G2j8=\",\"dtype\":\"float64\",\"order\":\"little\",\"shape\":[10,10]}],\"x\":[-0.5],\"y\":[-0.5]},\"selected\":{\"id\":\"2640\"},\"selection_policy\":{\"id\":\"2667\"}},\"id\":\"2639\",\"type\":\"ColumnDataSource\"},{\"attributes\":{},\"id\":\"2635\",\"type\":\"AllLabels\"},{\"attributes\":{\"margin\":[5,10,5,10],\"options\":[[\"PiYG\",\"PiYG\"],[\"PRGn\",\"PRGn\"],[\"BrBG\",\"BrBG\"],[\"PuOr\",\"PuOr\"],[\"RdGy\",\"RdGy\"],[\"RdBu\",\"RdBu\"],[\"RdYlBu\",\"RdYlBu\"],[\"RdYlGn\",\"RdYlGn\"],[\"Spectral\",\"Spectral\"],[\"coolwarm\",\"coolwarm\"],[\"bwr\",\"bwr\"],[\"seismic\",\"seismic\"],[\"gist_gray\",\"gist_gray\"],[\"bone\",\"bone\"],[\"pink\",\"pink\"],[\"spring\",\"spring\"],[\"summer\",\"summer\"],[\"autumn\",\"autumn\"],[\"winter\",\"winter\"],[\"cool\",\"cool\"],[\"Wistia\",\"Wistia\"],[\"hot\",\"hot\"],[\"afmhot\",\"afmhot\"],[\"gist_heat\",\"gist_heat\"],[\"copper\",\"copper\"],[\"Greys\",\"Greys\"],[\"Purples\",\"Purples\"],[\"Blues\",\"Blues\"],[\"Greens\",\"Greens\"],[\"Oranges\",\"Oranges\"],[\"Reds\",\"Reds\"],[\"YlOrBr\",\"YlOrBr\"],[\"YlOrRd\",\"YlOrRd\"],[\"OrRd\",\"OrRd\"],[\"PuRd\",\"PuRd\"],[\"RdPu\",\"RdPu\"],[\"BuPu\",\"BuPu\"],[\"GnBu\",\"GnBu\"],[\"PuBu\",\"PuBu\"],[\"YlGnBu\",\"YlGnBu\"],[\"PuBuGn\",\"PuBuGn\"],[\"BuGn\",\"BuGn\"],[\"YlGn\",\"YlGn\"],[\"viridis\",\"viridis\"],[\"plasma\",\"plasma\"],[\"inferno\",\"inferno\"],[\"magma\",\"magma\"],[\"cividis\",\"cividis\"],[\"twilight\",\"twilight\"],[\"twilight_shifted\",\"twilight_shifted\"],[\"hsv\",\"hsv\"],[\"Pastel1\",\"Pastel1\"],[\"Paired\",\"Paired\"],[\"Accent\",\"Accent\"],[\"Dark2\",\"Dark2\"],[\"Set1\",\"Set1\"],[\"Set2\",\"Set2\"],[\"Set3\",\"Set3\"],[\"tab10\",\"tab10\"],[\"tab20\",\"tab20\"],[\"tab20b\",\"tab20b\"],[\"tab20c\",\"tab20c\"],[\"flag\",\"flag\"],[\"prism\",\"prism\"],[\"ocean\",\"ocean\"],[\"gist_earth\",\"gist_earth\"],[\"terrain\",\"terrain\"],[\"gist_stern\",\"gist_stern\"],[\"gnuplot\",\"gnuplot\"],[\"gnuplot2\",\"gnuplot2\"],[\"CMRmap\",\"CMRmap\"],[\"cubehelix\",\"cubehelix\"],[\"brg\",\"brg\"],[\"gist_rainbow\",\"gist_rainbow\"],[\"rainbow\",\"rainbow\"],[\"jet\",\"jet\"],[\"turbo\",\"turbo\"],[\"nipy_spectral\",\"nipy_spectral\"],[\"gist_ncar\",\"gist_ncar\"],[\"glasbey_dark\",\"glasbey_dark\"]],\"value\":\"jet\"},\"id\":\"2595\",\"type\":\"Select\"},{\"attributes\":{\"below\":[{\"id\":\"2612\"}],\"center\":[{\"id\":\"2615\"},{\"id\":\"2619\"}],\"height\":500,\"left\":[{\"id\":\"2616\"}],\"margin\":[5,5,5,5],\"min_border_bottom\":10,\"min_border_left\":10,\"min_border_right\":10,\"min_border_top\":10,\"renderers\":[{\"id\":\"2646\"},{\"id\":\"2655\"}],\"sizing_mode\":\"fixed\",\"title\":{\"id\":\"2604\"},\"toolbar\":{\"id\":\"2626\"},\"width\":500,\"x_range\":{\"id\":\"2601\"},\"x_scale\":{\"id\":\"2608\"},\"y_range\":{\"id\":\"2602\"},\"y_scale\":{\"id\":\"2610\"}},\"id\":\"2603\",\"subtype\":\"Figure\",\"type\":\"Plot\"},{\"attributes\":{\"children\":[{\"id\":\"2773\"}],\"margin\":[0,0,0,0],\"name\":\"Column09473\"},\"id\":\"2772\",\"type\":\"Column\"}],\"root_ids\":[\"2589\",\"2810\"]},\"title\":\"Bokeh Application\",\"version\":\"2.3.1\"}};\n",
       "    var render_items = [{\"docid\":\"081ad706-4302-4316-866a-2b022f423f90\",\"root_ids\":[\"2589\"],\"roots\":{\"2589\":\"2c10b7aa-9626-46ab-981d-04e265f3e78c\"}}];\n",
       "    root.Bokeh.embed.embed_items_notebook(docs_json, render_items);\n",
       "  }\n",
       "  if (root.Bokeh !== undefined && root.Bokeh.Panel !== undefined) {\n",
       "    embed_document(root);\n",
       "  } else {\n",
       "    var attempts = 0;\n",
       "    var timer = setInterval(function(root) {\n",
       "      if (root.Bokeh !== undefined && root.Bokeh.Panel !== undefined) {\n",
       "        clearInterval(timer);\n",
       "        embed_document(root);\n",
       "      } else if (document.readyState == \"complete\") {\n",
       "        attempts++;\n",
       "        if (attempts > 100) {\n",
       "          clearInterval(timer);\n",
       "          console.log(\"Bokeh: ERROR: Unable to run BokehJS code because BokehJS library is missing\");\n",
       "        }\n",
       "      }\n",
       "    }, 10, root)\n",
       "  }\n",
       "})(window);</script>"
      ],
      "text/plain": [
       "Column\n",
       "    [0] Column\n",
       "        [0] Column\n",
       "            [0] Row(margin=5, width=700)\n",
       "                [0] StaticText(value='<b></b>')\n",
       "                [1] Select(options=OrderedDict([('Component P...]), value=0)\n",
       "                [2] Select(options=OrderedDict([('PiYG', ...]), value='jet')\n",
       "                [3] Button(name='↩')\n",
       "                [4] Button(name='↪')\n",
       "                [5] Checkbox(name='interpolation')\n",
       "        [1] Row\n",
       "            [0] Column\n",
       "                [0] HoloViews(DynamicMap)\n",
       "            [1] Row\n",
       "                [0] Column\n",
       "                    [0] Column(margin=5, name='Component Planes', width=300)\n",
       "                        [0] StaticText(value='<b>Component Planes</b>')\n",
       "                        [1] IntSlider(end=3, name='Component')\n",
       "                    [1] Str(str)\n",
       "    [1] Column\n",
       "        [0] Row()"
      ]
     },
     "execution_count": 4,
     "metadata": {
      "application/vnd.holoviews_exec.v0+json": {
       "id": "2589"
      }
     },
     "output_type": "execute_result"
    }
   ],
   "source": [
    "# Use any other library for training SOM map\n",
    "from somtoolbox import SOMToolbox\n",
    "from minisom import MiniSom    \n",
    "\n",
    "\n",
    "som = MiniSom(10, 10, 4, sigma=0.3, learning_rate=0.5)\n",
    "som.train(idata['arr'], 1000)\n",
    "\n",
    "sm = SOMToolbox(weights=som._weights.reshape(-1,4), m=10, n=10, dimension=4, input_data=idata['arr'])\n",
    "sm._mainview"
   ]
  }
 ],
 "metadata": {
  "kernelspec": {
   "display_name": "Python 3",
   "language": "python",
   "name": "python3"
  },
  "language_info": {
   "codemirror_mode": {
    "name": "ipython",
    "version": 3
   },
   "file_extension": ".py",
   "mimetype": "text/x-python",
   "name": "python",
   "nbconvert_exporter": "python",
   "pygments_lexer": "ipython3",
   "version": "3.6.13"
  }
 },
 "nbformat": 4,
 "nbformat_minor": 5
}
