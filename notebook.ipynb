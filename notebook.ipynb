{
 "cells": [
  {
   "cell_type": "code",
   "execution_count": 3,
   "id": "cooked-onion",
   "metadata": {},
   "outputs": [],
   "source": [
    "from somtoolbox import SOMToolbox\n",
    "from SOMToolBox_Parse import SOMToolBox_Parse\n",
    "import numpy as np\n",
    "\n",
    "idata, _, _, _ = SOMToolBox_Parse(\"datasets\\\\iris\\\\iris.vec\").read_weight_file()\n",
    "weights, sdim, smap_x, smap_y = SOMToolBox_Parse(\"datasets\\\\iris\\\\iris.wgt.gz\").read_weight_file()\n",
    "classes, _, _, _ = SOMToolBox_Parse(\"datasets\\\\iris\\\\iris.cls\").read_weight_file()"
   ]
  },
  {
   "cell_type": "code",
   "execution_count": 4,
   "id": "8c5512f4",
   "metadata": {},
   "outputs": [
    {
     "data": {
      "application/vnd.holoviews_exec.v0+json": "",
      "text/html": [
       "<div id='1606'>\n",
       "\n",
       "\n",
       "\n",
       "\n",
       "\n",
       "  <div class=\"bk-root\" id=\"1d38f749-dfd0-4068-878e-7383242cea0d\" data-root-id=\"1606\"></div>\n",
       "</div>\n",
       "<script type=\"application/javascript\">(function(root) {\n",
       "  function embed_document(root) {\n",
       "    var docs_json = {\"39a0addb-0c61-4a6b-a298-93c4fa31a28b\":{\"defs\":[],\"roots\":{\"references\":[{\"attributes\":{},\"id\":\"1636\",\"type\":\"BasicTicker\"},{\"attributes\":{\"children\":[{\"id\":\"1788\"},{\"id\":\"1789\"}],\"margin\":[5,5,5,5],\"min_width\":300,\"name\":\"Component Planes\",\"width\":300},\"id\":\"1787\",\"type\":\"Column\"},{\"attributes\":{\"labels\":[\"interpolation\"],\"margin\":[5,10,5,10]},\"id\":\"1617\",\"type\":\"CheckboxGroup\"},{\"attributes\":{\"axis\":{\"id\":\"1635\"},\"dimension\":1,\"grid_line_color\":null,\"ticker\":null},\"id\":\"1638\",\"type\":\"Grid\"},{\"attributes\":{\"line_color\":{\"value\":\"red\"},\"x0\":{\"field\":\"x0\"},\"x1\":{\"field\":\"x1\"},\"y0\":{\"field\":\"y0\"},\"y1\":{\"field\":\"y1\"}},\"id\":\"1672\",\"type\":\"Segment\"},{\"attributes\":{\"margin\":[5,10,5,10],\"options\":[[\"PiYG\",\"PiYG\"],[\"PRGn\",\"PRGn\"],[\"BrBG\",\"BrBG\"],[\"PuOr\",\"PuOr\"],[\"RdGy\",\"RdGy\"],[\"RdBu\",\"RdBu\"],[\"RdYlBu\",\"RdYlBu\"],[\"RdYlGn\",\"RdYlGn\"],[\"Spectral\",\"Spectral\"],[\"coolwarm\",\"coolwarm\"],[\"bwr\",\"bwr\"],[\"seismic\",\"seismic\"],[\"gist_gray\",\"gist_gray\"],[\"bone\",\"bone\"],[\"pink\",\"pink\"],[\"spring\",\"spring\"],[\"summer\",\"summer\"],[\"autumn\",\"autumn\"],[\"winter\",\"winter\"],[\"cool\",\"cool\"],[\"Wistia\",\"Wistia\"],[\"hot\",\"hot\"],[\"afmhot\",\"afmhot\"],[\"gist_heat\",\"gist_heat\"],[\"copper\",\"copper\"],[\"Greys\",\"Greys\"],[\"Purples\",\"Purples\"],[\"Blues\",\"Blues\"],[\"Greens\",\"Greens\"],[\"Oranges\",\"Oranges\"],[\"Reds\",\"Reds\"],[\"YlOrBr\",\"YlOrBr\"],[\"YlOrRd\",\"YlOrRd\"],[\"OrRd\",\"OrRd\"],[\"PuRd\",\"PuRd\"],[\"RdPu\",\"RdPu\"],[\"BuPu\",\"BuPu\"],[\"GnBu\",\"GnBu\"],[\"PuBu\",\"PuBu\"],[\"YlGnBu\",\"YlGnBu\"],[\"PuBuGn\",\"PuBuGn\"],[\"BuGn\",\"BuGn\"],[\"YlGn\",\"YlGn\"],[\"viridis\",\"viridis\"],[\"plasma\",\"plasma\"],[\"inferno\",\"inferno\"],[\"magma\",\"magma\"],[\"cividis\",\"cividis\"],[\"twilight\",\"twilight\"],[\"twilight_shifted\",\"twilight_shifted\"],[\"hsv\",\"hsv\"],[\"Pastel1\",\"Pastel1\"],[\"Paired\",\"Paired\"],[\"Accent\",\"Accent\"],[\"Dark2\",\"Dark2\"],[\"Set1\",\"Set1\"],[\"Set2\",\"Set2\"],[\"Set3\",\"Set3\"],[\"tab10\",\"tab10\"],[\"tab20\",\"tab20\"],[\"tab20b\",\"tab20b\"],[\"tab20c\",\"tab20c\"],[\"flag\",\"flag\"],[\"prism\",\"prism\"],[\"ocean\",\"ocean\"],[\"gist_earth\",\"gist_earth\"],[\"terrain\",\"terrain\"],[\"gist_stern\",\"gist_stern\"],[\"gnuplot\",\"gnuplot\"],[\"gnuplot2\",\"gnuplot2\"],[\"CMRmap\",\"CMRmap\"],[\"cubehelix\",\"cubehelix\"],[\"brg\",\"brg\"],[\"gist_rainbow\",\"gist_rainbow\"],[\"rainbow\",\"rainbow\"],[\"jet\",\"jet\"],[\"turbo\",\"turbo\"],[\"nipy_spectral\",\"nipy_spectral\"],[\"gist_ncar\",\"gist_ncar\"]],\"value\":\"jet\"},\"id\":\"1612\",\"type\":\"Select\"},{\"attributes\":{\"data_source\":{\"id\":\"1669\"},\"glyph\":{\"id\":\"1672\"},\"hover_glyph\":null,\"muted_glyph\":null,\"nonselection_glyph\":{\"id\":\"1673\"},\"selection_glyph\":{\"id\":\"1676\"},\"view\":{\"id\":\"1675\"}},\"id\":\"1674\",\"type\":\"GlyphRenderer\"},{\"attributes\":{},\"id\":\"1652\",\"type\":\"AllLabels\"},{\"attributes\":{\"children\":[{\"id\":\"1622\"}],\"margin\":[0,0,0,0],\"name\":\"Column03405\"},\"id\":\"1619\",\"type\":\"Column\"},{\"attributes\":{},\"id\":\"1651\",\"type\":\"BasicTickFormatter\"},{\"attributes\":{},\"id\":\"1687\",\"type\":\"UnionRenderers\"},{\"attributes\":{\"axis_label\":\"y\",\"formatter\":{\"id\":\"1654\"},\"major_label_policy\":{\"id\":\"1655\"},\"ticker\":{\"id\":\"1636\"}},\"id\":\"1635\",\"type\":\"LinearAxis\"},{\"attributes\":{\"data\":{\"x0\":{\"__ndarray__\":\"\",\"dtype\":\"float64\",\"order\":\"little\",\"shape\":[0]},\"x1\":{\"__ndarray__\":\"\",\"dtype\":\"float64\",\"order\":\"little\",\"shape\":[0]},\"y0\":{\"__ndarray__\":\"\",\"dtype\":\"float64\",\"order\":\"little\",\"shape\":[0]},\"y1\":{\"__ndarray__\":\"\",\"dtype\":\"float64\",\"order\":\"little\",\"shape\":[0]}},\"selected\":{\"id\":\"1670\"},\"selection_policy\":{\"id\":\"1687\"}},\"id\":\"1669\",\"type\":\"ColumnDataSource\"},{\"attributes\":{\"line_alpha\":{\"value\":1.0},\"line_cap\":{\"value\":\"butt\"},\"line_color\":{\"value\":\"red\"},\"line_dash\":{\"value\":[]},\"line_dash_offset\":{\"value\":0},\"line_join\":{\"value\":\"bevel\"},\"line_width\":{\"value\":1},\"x0\":{\"field\":\"x0\"},\"x1\":{\"field\":\"x1\"},\"y0\":{\"field\":\"y0\"},\"y1\":{\"field\":\"y1\"}},\"id\":\"1676\",\"type\":\"Segment\"},{\"attributes\":{},\"id\":\"1639\",\"type\":\"SaveTool\"},{\"attributes\":{\"text_color\":\"black\",\"text_font_size\":\"12pt\"},\"id\":\"1623\",\"type\":\"Title\"},{\"attributes\":{},\"id\":\"1640\",\"type\":\"PanTool\"},{\"attributes\":{\"children\":[{\"id\":\"1787\"},{\"id\":\"1790\"}],\"margin\":[0,0,0,0],\"name\":\"\"},\"id\":\"1786\",\"type\":\"Column\"},{\"attributes\":{\"margin\":[0,0,0,0],\"name\":\"Row03407\"},\"id\":\"1792\",\"type\":\"Row\"},{\"attributes\":{},\"id\":\"1641\",\"type\":\"WheelZoomTool\"},{\"attributes\":{\"margin\":[5,5,5,5],\"name\":\"Str03423\",\"text\":\"&lt;pre&gt;Slicing weight vector accroding it&#x27;s component.&lt;/pre&gt;\"},\"id\":\"1790\",\"type\":\"panel.models.markup.HTML\"},{\"attributes\":{\"overlay\":{\"id\":\"1644\"}},\"id\":\"1642\",\"type\":\"BoxZoomTool\"},{\"attributes\":{\"margin\":[5,10,5,10],\"name\":\"\",\"text\":\"<b>Component Planes</b>\"},\"id\":\"1788\",\"type\":\"Div\"},{\"attributes\":{\"source\":{\"id\":\"1658\"}},\"id\":\"1666\",\"type\":\"CDSView\"},{\"attributes\":{},\"id\":\"1643\",\"type\":\"ResetTool\"},{\"attributes\":{},\"id\":\"1654\",\"type\":\"BasicTickFormatter\"},{\"attributes\":{\"end\":3,\"margin\":[5,10,5,10],\"start\":0,\"title\":\"Component\",\"value\":0},\"id\":\"1789\",\"type\":\"Slider\"},{\"attributes\":{\"end\":0.5,\"reset_end\":0.5,\"reset_start\":-0.5,\"start\":-0.5,\"tags\":[[[\"y\",\"y\",null]]]},\"id\":\"1621\",\"type\":\"Range1d\"},{\"attributes\":{\"active_multi\":null,\"tools\":[{\"id\":\"1639\"},{\"id\":\"1640\"},{\"id\":\"1641\"},{\"id\":\"1642\"},{\"id\":\"1643\"}]},\"id\":\"1645\",\"type\":\"Toolbar\"},{\"attributes\":{},\"id\":\"1659\",\"type\":\"Selection\"},{\"attributes\":{\"client_comm_id\":\"2936e8a9f61b491f869ec9e83dd45cf3\",\"comm_id\":\"1ca261aa7df14726a88120bedcbf316c\",\"plot_id\":\"1606\"},\"id\":\"1829\",\"type\":\"panel.models.comm_manager.CommManager\"},{\"attributes\":{\"end\":0.5,\"reset_end\":0.5,\"reset_start\":-0.5,\"start\":-0.5,\"tags\":[[[\"x\",\"x\",null]]]},\"id\":\"1620\",\"type\":\"Range1d\"},{\"attributes\":{\"children\":[{\"id\":\"1607\"},{\"id\":\"1791\"}],\"margin\":[0,0,0,0],\"name\":\"Column03411\"},\"id\":\"1606\",\"type\":\"Column\"},{\"attributes\":{\"below\":[{\"id\":\"1631\"}],\"center\":[{\"id\":\"1634\"},{\"id\":\"1638\"}],\"height\":500,\"left\":[{\"id\":\"1635\"}],\"margin\":[5,5,5,5],\"min_border_bottom\":10,\"min_border_left\":10,\"min_border_right\":10,\"min_border_top\":10,\"renderers\":[{\"id\":\"1665\"},{\"id\":\"1674\"}],\"sizing_mode\":\"fixed\",\"title\":{\"id\":\"1623\"},\"toolbar\":{\"id\":\"1645\"},\"width\":500,\"x_range\":{\"id\":\"1620\"},\"x_scale\":{\"id\":\"1627\"},\"y_range\":{\"id\":\"1621\"},\"y_scale\":{\"id\":\"1629\"}},\"id\":\"1622\",\"subtype\":\"Figure\",\"type\":\"Plot\"},{\"attributes\":{},\"id\":\"1685\",\"type\":\"UnionRenderers\"},{\"attributes\":{\"source\":{\"id\":\"1669\"}},\"id\":\"1675\",\"type\":\"CDSView\"},{\"attributes\":{\"children\":[{\"id\":\"1608\"},{\"id\":\"1618\"}],\"margin\":[0,0,0,0],\"name\":\"Column03409\"},\"id\":\"1607\",\"type\":\"Column\"},{\"attributes\":{\"data_source\":{\"id\":\"1658\"},\"glyph\":{\"id\":\"1661\"},\"hover_glyph\":null,\"muted_glyph\":null,\"nonselection_glyph\":{\"id\":\"1663\"},\"selection_glyph\":{\"id\":\"1667\"},\"view\":{\"id\":\"1666\"}},\"id\":\"1665\",\"type\":\"GlyphRenderer\"},{\"attributes\":{},\"id\":\"1627\",\"type\":\"LinearScale\"},{\"attributes\":{\"color_mapper\":{\"id\":\"1657\"},\"dh\":{\"field\":\"dh\"},\"dw\":{\"field\":\"dw\"},\"image\":{\"field\":\"image\"},\"x\":{\"field\":\"x\"},\"y\":{\"field\":\"y\"}},\"id\":\"1667\",\"type\":\"Image\"},{\"attributes\":{\"color_mapper\":{\"id\":\"1657\"},\"dh\":{\"field\":\"dh\"},\"dw\":{\"field\":\"dw\"},\"global_alpha\":0.1,\"image\":{\"field\":\"image\"},\"x\":{\"field\":\"x\"},\"y\":{\"field\":\"y\"}},\"id\":\"1663\",\"type\":\"Image\"},{\"attributes\":{\"children\":[{\"id\":\"1792\"}],\"margin\":[0,0,0,0],\"name\":\"Column03410\"},\"id\":\"1791\",\"type\":\"Column\"},{\"attributes\":{\"bottom_units\":\"screen\",\"fill_alpha\":0.5,\"fill_color\":\"lightgrey\",\"left_units\":\"screen\",\"level\":\"overlay\",\"line_alpha\":1.0,\"line_color\":\"black\",\"line_dash\":[4,4],\"line_width\":2,\"right_units\":\"screen\",\"syncable\":false,\"top_units\":\"screen\"},\"id\":\"1644\",\"type\":\"BoxAnnotation\"},{\"attributes\":{},\"id\":\"1629\",\"type\":\"LinearScale\"},{\"attributes\":{\"color_mapper\":{\"id\":\"1657\"},\"dh\":{\"field\":\"dh\"},\"dw\":{\"field\":\"dw\"},\"image\":{\"field\":\"image\"},\"x\":{\"field\":\"x\"},\"y\":{\"field\":\"y\"}},\"id\":\"1661\",\"type\":\"Image\"},{\"attributes\":{\"children\":[{\"id\":\"1609\"}],\"margin\":[0,0,0,0],\"name\":\"Column03384\"},\"id\":\"1608\",\"type\":\"Column\"},{\"attributes\":{\"children\":[{\"id\":\"1786\"}],\"margin\":[0,0,0,0],\"name\":\"Row03406\"},\"id\":\"1785\",\"type\":\"Row\"},{\"attributes\":{\"axis_label\":\"x\",\"formatter\":{\"id\":\"1651\"},\"major_label_policy\":{\"id\":\"1652\"},\"ticker\":{\"id\":\"1632\"}},\"id\":\"1631\",\"type\":\"LinearAxis\"},{\"attributes\":{\"children\":[{\"id\":\"1619\"},{\"id\":\"1785\"}],\"margin\":[0,0,0,0],\"name\":\"Row03408\"},\"id\":\"1618\",\"type\":\"Row\"},{\"attributes\":{\"children\":[{\"id\":\"1610\"},{\"id\":\"1611\"},{\"id\":\"1612\"},{\"id\":\"1613\"},{\"id\":\"1614\"},{\"id\":\"1615\"},{\"id\":\"1616\"},{\"id\":\"1617\"}],\"margin\":[5,5,5,5],\"min_width\":700,\"name\":\"\",\"width\":700},\"id\":\"1609\",\"type\":\"Row\"},{\"attributes\":{\"high\":7.714521035246817,\"low\":4.404790822353591,\"nan_color\":\"rgba(0, 0, 0, 0)\",\"palette\":[\"#00007f\",\"#000084\",\"#000088\",\"#00008d\",\"#000091\",\"#000096\",\"#00009a\",\"#00009f\",\"#0000a3\",\"#0000a8\",\"#0000ac\",\"#0000b1\",\"#0000b6\",\"#0000ba\",\"#0000bf\",\"#0000c3\",\"#0000c8\",\"#0000cc\",\"#0000d1\",\"#0000d5\",\"#0000da\",\"#0000de\",\"#0000e3\",\"#0000e8\",\"#0000ec\",\"#0000f1\",\"#0000f5\",\"#0000fa\",\"#0000fe\",\"#0000ff\",\"#0000ff\",\"#0000ff\",\"#0000ff\",\"#0004ff\",\"#0008ff\",\"#000cff\",\"#0010ff\",\"#0014ff\",\"#0018ff\",\"#001cff\",\"#0020ff\",\"#0024ff\",\"#0028ff\",\"#002cff\",\"#0030ff\",\"#0034ff\",\"#0038ff\",\"#003cff\",\"#0040ff\",\"#0044ff\",\"#0048ff\",\"#004cff\",\"#0050ff\",\"#0054ff\",\"#0058ff\",\"#005cff\",\"#0060ff\",\"#0064ff\",\"#0068ff\",\"#006cff\",\"#0070ff\",\"#0074ff\",\"#0078ff\",\"#007cff\",\"#0080ff\",\"#0084ff\",\"#0088ff\",\"#008cff\",\"#0090ff\",\"#0094ff\",\"#0098ff\",\"#009cff\",\"#00a0ff\",\"#00a4ff\",\"#00a8ff\",\"#00acff\",\"#00b0ff\",\"#00b4ff\",\"#00b8ff\",\"#00bcff\",\"#00c0ff\",\"#00c4ff\",\"#00c8ff\",\"#00ccff\",\"#00d0ff\",\"#00d4ff\",\"#00d8ff\",\"#00dcfe\",\"#00e0fa\",\"#00e4f7\",\"#02e8f4\",\"#05ecf1\",\"#08f0ed\",\"#0cf4ea\",\"#0ff8e7\",\"#12fce4\",\"#15ffe1\",\"#18ffdd\",\"#1cffda\",\"#1fffd7\",\"#22ffd4\",\"#25ffd0\",\"#29ffcd\",\"#2cffca\",\"#2fffc7\",\"#32ffc3\",\"#36ffc0\",\"#39ffbd\",\"#3cffba\",\"#3fffb7\",\"#42ffb3\",\"#46ffb0\",\"#49ffad\",\"#4cffaa\",\"#4fffa6\",\"#53ffa3\",\"#56ffa0\",\"#59ff9d\",\"#5cff9a\",\"#5fff96\",\"#63ff93\",\"#66ff90\",\"#69ff8d\",\"#6cff89\",\"#70ff86\",\"#73ff83\",\"#76ff80\",\"#79ff7d\",\"#7cff79\",\"#80ff76\",\"#83ff73\",\"#86ff70\",\"#89ff6c\",\"#8dff69\",\"#90ff66\",\"#93ff63\",\"#96ff5f\",\"#9aff5c\",\"#9dff59\",\"#a0ff56\",\"#a3ff53\",\"#a6ff4f\",\"#aaff4c\",\"#adff49\",\"#b0ff46\",\"#b3ff42\",\"#b7ff3f\",\"#baff3c\",\"#bdff39\",\"#c0ff36\",\"#c3ff32\",\"#c7ff2f\",\"#caff2c\",\"#cdff29\",\"#d0ff25\",\"#d4ff22\",\"#d7ff1f\",\"#daff1c\",\"#ddff18\",\"#e0ff15\",\"#e4ff12\",\"#e7ff0f\",\"#eaff0c\",\"#edff08\",\"#f1fc05\",\"#f4f802\",\"#f7f400\",\"#faf000\",\"#feed00\",\"#ffe900\",\"#ffe500\",\"#ffe200\",\"#ffde00\",\"#ffda00\",\"#ffd700\",\"#ffd300\",\"#ffcf00\",\"#ffcb00\",\"#ffc800\",\"#ffc400\",\"#ffc000\",\"#ffbd00\",\"#ffb900\",\"#ffb500\",\"#ffb100\",\"#ffae00\",\"#ffaa00\",\"#ffa600\",\"#ffa300\",\"#ff9f00\",\"#ff9b00\",\"#ff9800\",\"#ff9400\",\"#ff9000\",\"#ff8c00\",\"#ff8900\",\"#ff8500\",\"#ff8100\",\"#ff7e00\",\"#ff7a00\",\"#ff7600\",\"#ff7300\",\"#ff6f00\",\"#ff6b00\",\"#ff6700\",\"#ff6400\",\"#ff6000\",\"#ff5c00\",\"#ff5900\",\"#ff5500\",\"#ff5100\",\"#ff4d00\",\"#ff4a00\",\"#ff4600\",\"#ff4200\",\"#ff3f00\",\"#ff3b00\",\"#ff3700\",\"#ff3400\",\"#ff3000\",\"#ff2c00\",\"#ff2800\",\"#ff2500\",\"#ff2100\",\"#ff1d00\",\"#ff1a00\",\"#ff1600\",\"#fe1200\",\"#fa0f00\",\"#f50b00\",\"#f10700\",\"#ec0300\",\"#e80000\",\"#e30000\",\"#de0000\",\"#da0000\",\"#d50000\",\"#d10000\",\"#cc0000\",\"#c80000\",\"#c30000\",\"#bf0000\",\"#ba0000\",\"#b60000\",\"#b10000\",\"#ac0000\",\"#a80000\",\"#a30000\",\"#9f0000\",\"#9a0000\",\"#960000\",\"#910000\",\"#8d0000\",\"#880000\",\"#840000\",\"#7f0000\"]},\"id\":\"1657\",\"type\":\"LinearColorMapper\"},{\"attributes\":{\"icon\":null,\"label\":\"\\u21a9\",\"margin\":[5,10,5,10],\"subscribed_events\":[\"button_click\"]},\"id\":\"1613\",\"type\":\"Button\"},{\"attributes\":{},\"id\":\"1632\",\"type\":\"BasicTicker\"},{\"attributes\":{\"data\":{\"dh\":[1.0],\"dw\":[1.0],\"image\":[{\"__ndarray__\":\"oJ0MqXuoFkAXZr9GZ0QVQN8jAFxaaRRAps5I2UzqE0Cdm0M+ovQSQGyjDy2+jRJAIes+fIGeEUBMDtTDAtgRQCmnhHB7PBVASMQippKmF0AD0gH+UwkWQAZ2stW/ZRVAMpEqmUWfFEAaBr67GUMUQJzZTmFDsxNAOW67eGqRE0AB0sT1VeYSQHD9wiNhSxNAHcOMhMGPF0Cm6iyI8jAYQFRF6EJs+RVAvfY43US1FUAxQPkFEsUUQOxBbpTOERRAkd/iEpzxE0BcFRryJ/sTQAo49w/+chRAKDgSeFE8F0Avih29q6wYQL15Ks6yChlAICVW3cbGFEAvPDnIb4MVQLKhny9FPhVARMReZj8MFUBqvSxgqMIVQA8r+BNhxxZA7S3SNIXJF0B0Sl30DJ4YQAvfWBllNBlAGewNv8WqGUCK1YfXRmAUQEH9RLwVDhVAXA84pW4EFkB6ECeVBHwWQBWGRu5dFhdAW9IGq01HF0C9d2WM5BsYQNyQ99YWFhlAVDYEMe8rGkCfELuniqMaQGGE2/b68xNAwKXdUxyTFEAWpbvmjFkWQFCbkHd4tRZA9swtucxjF0AjJsoQHzEYQGepi1bTThhAlfs/kbw7GUAr/Bxcu9QaQPcQGcsebRtA67AJTUH3FEB7Fct0jCEVQF8U5K+PTxZAdcOJqgEPF0BXQ7/OR0sYQG5Pe3UcahhAzw+c8rsOGUBPnptqGwEZQKIL1tBhiRpAQi3JpFU/G0DJwLnioh0WQJWnkvVC8xVAf4syraomFkBwe7JNBMYXQM/DLPyvsxhAzDzamOE3GUDnFQLYJqwZQDsSux9eoBlA1jKNBYj7GkB3f9MLrMEcQOqBjVfd+xVAdB1R+L/GFUDcuUXw6ZcWQPiT1OYBwhdA4a1P6tQwGEA0fSFg2d0ZQMEd6sGKFBtAZJwNBFqlGkBGnOP9yVEcQL8SNd220x1A7zjnOT9dFUBOblzB3lsUQME9pAt2JxZA7MFmpFXtFkBQvwUqt6kXQKkinkO3PRlAw96Awoh6GUDJ0HrDAAEbQBJJGMG+txxAr8H6ZqvbHkA=\",\"dtype\":\"float64\",\"order\":\"little\",\"shape\":[10,10]}],\"x\":[-0.5],\"y\":[-0.5]},\"selected\":{\"id\":\"1659\"},\"selection_policy\":{\"id\":\"1685\"}},\"id\":\"1658\",\"type\":\"ColumnDataSource\"},{\"attributes\":{},\"id\":\"1670\",\"type\":\"Selection\"},{\"attributes\":{\"icon\":null,\"label\":\"\\u2194\",\"margin\":[5,10,5,10],\"subscribed_events\":[\"button_click\"]},\"id\":\"1615\",\"type\":\"Button\"},{\"attributes\":{\"axis\":{\"id\":\"1631\"},\"grid_line_color\":null,\"ticker\":null},\"id\":\"1634\",\"type\":\"Grid\"},{\"attributes\":{\"margin\":[5,10,5,10],\"name\":\"\",\"text\":\"<b></b>\"},\"id\":\"1610\",\"type\":\"Div\"},{\"attributes\":{\"line_alpha\":{\"value\":0.1},\"line_color\":{\"value\":\"red\"},\"x0\":{\"field\":\"x0\"},\"x1\":{\"field\":\"x1\"},\"y0\":{\"field\":\"y0\"},\"y1\":{\"field\":\"y1\"}},\"id\":\"1673\",\"type\":\"Segment\"},{\"attributes\":{\"icon\":null,\"label\":\"\\u21aa\",\"margin\":[5,10,5,10],\"subscribed_events\":[\"button_click\"]},\"id\":\"1614\",\"type\":\"Button\"},{\"attributes\":{},\"id\":\"1655\",\"type\":\"AllLabels\"},{\"attributes\":{\"icon\":null,\"label\":\"\\u2195\",\"margin\":[5,10,5,10],\"subscribed_events\":[\"button_click\"]},\"id\":\"1616\",\"type\":\"Button\"},{\"attributes\":{\"margin\":[5,10,5,10],\"options\":[[\"0\",\"Component Planes\"],[\"1\",\"Hit Histogram\"],[\"2\",\"U-matrix\"],[\"3\",\"D-Matrix\"],[\"4\",\"P-matrix & U*-matrix\"],[\"5\",\"Smoothed Data Histograms\"],[\"6\",\"Pie Chart\"],[\"7\",\"Neighbourhood Graph\"],[\"8\",\"Chessboard\"],[\"9\",\"Clustering\"],[\"10\",\"Metro Map\"],[\"11\",\"Quantization Error\"],[\"12\",\"Time Series\"]],\"value\":\"0\"},\"id\":\"1611\",\"type\":\"Select\"}],\"root_ids\":[\"1606\",\"1829\"]},\"title\":\"Bokeh Application\",\"version\":\"2.3.1\"}};\n",
       "    var render_items = [{\"docid\":\"39a0addb-0c61-4a6b-a298-93c4fa31a28b\",\"root_ids\":[\"1606\"],\"roots\":{\"1606\":\"1d38f749-dfd0-4068-878e-7383242cea0d\"}}];\n",
       "    root.Bokeh.embed.embed_items_notebook(docs_json, render_items);\n",
       "  }\n",
       "  if (root.Bokeh !== undefined && root.Bokeh.Panel !== undefined) {\n",
       "    embed_document(root);\n",
       "  } else {\n",
       "    var attempts = 0;\n",
       "    var timer = setInterval(function(root) {\n",
       "      if (root.Bokeh !== undefined && root.Bokeh.Panel !== undefined) {\n",
       "        clearInterval(timer);\n",
       "        embed_document(root);\n",
       "      } else if (document.readyState == \"complete\") {\n",
       "        attempts++;\n",
       "        if (attempts > 100) {\n",
       "          clearInterval(timer);\n",
       "          console.log(\"Bokeh: ERROR: Unable to run BokehJS code because BokehJS library is missing\");\n",
       "        }\n",
       "      }\n",
       "    }, 10, root)\n",
       "  }\n",
       "})(window);</script>"
      ],
      "text/plain": [
       "Column\n",
       "    [0] Column\n",
       "        [0] Column\n",
       "            [0] Row(margin=5, width=700)\n",
       "                [0] StaticText(value='<b></b>')\n",
       "                [1] Select(options=OrderedDict([('Component P...]), value=0)\n",
       "                [2] Select(options=OrderedDict([('PiYG', ...]), value='jet')\n",
       "                [3] Button(name='↩')\n",
       "                [4] Button(name='↪')\n",
       "                [5] Button(name='↔')\n",
       "                [6] Button(name='↕')\n",
       "                [7] Checkbox(name='interpolation')\n",
       "        [1] Row\n",
       "            [0] Column\n",
       "                [0] HoloViews(DynamicMap)\n",
       "            [1] Row\n",
       "                [0] Column\n",
       "                    [0] Column(margin=5, name='Component Planes', width=300)\n",
       "                        [0] StaticText(value='<b>Component Planes</b>')\n",
       "                        [1] IntSlider(end=3, name='Component')\n",
       "                    [1] Str(str)\n",
       "    [1] Column\n",
       "        [0] Row()"
      ]
     },
     "execution_count": 4,
     "metadata": {
      "application/vnd.holoviews_exec.v0+json": {
       "id": "1606"
      }
     },
     "output_type": "execute_result"
    }
   ],
   "source": [
    "sm = SOMToolbox(weights=weights.values, input_data=idata.values, dimension=sdim, m=smap_y, n=smap_x, classes=classes.values[:1000,1])\n",
    "sm._mainview"
   ]
  }
 ],
 "metadata": {
  "kernelspec": {
   "display_name": "Python 3",
   "language": "python",
   "name": "python3"
  },
  "language_info": {
   "codemirror_mode": {
    "name": "ipython",
    "version": 3
   },
   "file_extension": ".py",
   "mimetype": "text/x-python",
   "name": "python",
   "nbconvert_exporter": "python",
   "pygments_lexer": "ipython3",
   "version": "3.6.13"
  }
 },
 "nbformat": 4,
 "nbformat_minor": 5
}
