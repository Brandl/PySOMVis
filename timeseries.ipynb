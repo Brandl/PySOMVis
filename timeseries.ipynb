{
 "cells": [
  {
   "cell_type": "code",
   "execution_count": null,
   "id": "37be0986",
   "metadata": {},
   "outputs": [],
   "source": [
    "import numpy as np\n",
    "import minisom as som \n",
    "from pysomvis import PySOMVis\n",
    "\n",
    "#init synthetic data\n",
    "x = np.linspace(0,15,500)\n",
    "y = np.sin(x)\n",
    "y += np.random.normal(0,.2,len(y))\n",
    "synth = np.stack((x,y,np.arange(0,len(x)))).T\n",
    "\n",
    "#train with miniSOM library\n",
    "s = som.MiniSom(x=20, y=2, input_len=synth.shape[1], sigma=1.0, learning_rate=0.8, random_seed=7)\n",
    "s.train_random(synth, 10000, verbose=False)\n",
    "\n",
    "#visualization\n",
    "pysomviz = PySOMVis(weights=s._weights, input_data=synth)\n",
    "pysomviz._mainview"
   ]
  },
  {
   "cell_type": "code",
   "execution_count": null,
   "id": "c2daa888",
   "metadata": {},
   "outputs": [],
   "source": [
    "import pandas as pd\n",
    "import numpy as np\n",
    "from somtoolbox import SOMToolbox\n",
    "import minisom as som\n",
    "import datetime\n",
    "from sklearn import datasets, preprocessing\n",
    "\n",
    "data = pd.read_excel('temps.xlsx', index_col=0)\n",
    "data = data.reset_index()\n",
    "\n",
    "def calc(row):\n",
    "    return datetime.datetime(int(row[0]), int(row[1]), int(row[2]))\n",
    "\n",
    "data['time'] = data.apply(calc, axis=1)\n",
    "data.drop(data.columns[[0, 1, 2]], axis=1, inplace=True)\n",
    "data.drop(data.columns[[3, 5, 7]], axis=1, inplace=True)\n",
    "\n",
    "data['RH2M'] = data.groupby(['RH2M']).apply(lambda x: x[['RH2M']].interpolate())\n",
    "data['PS'] = data.groupby(['PS']).apply(lambda x: x[['PS']].interpolate())\n",
    "data['TS'] = data.groupby(['TS']).apply(lambda x: x[['TS']].interpolate())\n",
    "data['WS10M'] = data.groupby(['WS10M']).apply(lambda x: x[['WS10M']].interpolate())\n",
    "data['KT'] = data.groupby(['KT']).apply(lambda x: x[['KT']].interpolate())\n",
    "\n",
    "\n",
    "data = data.set_index(keys='time')\n",
    "min_max_scaler = preprocessing.MinMaxScaler()\n",
    "\n",
    "real_data = data.copy()\n",
    "\n",
    "for i in range(data.shape[1]):\n",
    "    x_scaled = min_max_scaler.fit_transform(data.iloc[:,i].values.reshape(-1,1))\n",
    "    data.iloc[:,i] = np.log(x_scaled + 1)\n",
    "year = np.array(data.loc['1985':'1986'])\n",
    "\n",
    "#train with miniSOM library\n",
    "s2 = som.MiniSom(x=20, y=2, input_len=synth.shape[1], sigma=1.0, learning_rate=0.8, random_seed=8)\n",
    "s2.train_random(synth, 10000, verbose=False)\n",
    "\n",
    "#visualization\n",
    "pysomviz2 = PySOMVis(weights=s._weights, input_data=synth)\n",
    "pysomviz2._mainview"
   ]
  }
 ],
 "metadata": {
  "kernelspec": {
   "display_name": "Python 3 (ipykernel)",
   "language": "python",
   "name": "python3"
  },
  "language_info": {
   "codemirror_mode": {
    "name": "ipython",
    "version": 3
   },
   "file_extension": ".py",
   "mimetype": "text/x-python",
   "name": "python",
   "nbconvert_exporter": "python",
   "pygments_lexer": "ipython3",
   "version": "3.9.12"
  }
 },
 "nbformat": 4,
 "nbformat_minor": 5
}
