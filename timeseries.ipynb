{
 "cells": [
  {
   "cell_type": "code",
   "execution_count": 5,
   "id": "37be0986",
   "metadata": {},
   "outputs": [
    {
     "data": {},
     "metadata": {},
     "output_type": "display_data"
    },
    {
     "data": {},
     "metadata": {},
     "output_type": "display_data"
    },
    {
     "data": {
      "application/vnd.holoviews_exec.v0+json": "",
      "text/html": [
       "<div id='12703'>\n",
       "\n",
       "\n",
       "\n",
       "\n",
       "\n",
       "  <div class=\"bk-root\" id=\"cd3c2bbb-9ff4-4645-b8f6-8126a53759a7\" data-root-id=\"12703\"></div>\n",
       "</div>\n",
       "<script type=\"application/javascript\">(function(root) {\n",
       "  function embed_document(root) {\n",
       "    var docs_json = {\"24b375d4-cc94-4b2c-8caf-4b65974054b8\":{\"defs\":[{\"extends\":null,\"module\":null,\"name\":\"ReactiveHTML1\",\"overrides\":[],\"properties\":[]},{\"extends\":null,\"module\":null,\"name\":\"FlexBox1\",\"overrides\":[],\"properties\":[{\"default\":\"flex-start\",\"kind\":null,\"name\":\"align_content\"},{\"default\":\"flex-start\",\"kind\":null,\"name\":\"align_items\"},{\"default\":\"row\",\"kind\":null,\"name\":\"flex_direction\"},{\"default\":\"wrap\",\"kind\":null,\"name\":\"flex_wrap\"},{\"default\":\"flex-start\",\"kind\":null,\"name\":\"justify_content\"}]},{\"extends\":null,\"module\":null,\"name\":\"GridStack1\",\"overrides\":[],\"properties\":[{\"default\":\"warn\",\"kind\":null,\"name\":\"mode\"},{\"default\":null,\"kind\":null,\"name\":\"ncols\"},{\"default\":null,\"kind\":null,\"name\":\"nrows\"},{\"default\":true,\"kind\":null,\"name\":\"allow_resize\"},{\"default\":true,\"kind\":null,\"name\":\"allow_drag\"},{\"default\":[],\"kind\":null,\"name\":\"state\"}]},{\"extends\":null,\"module\":null,\"name\":\"click1\",\"overrides\":[],\"properties\":[{\"default\":\"\",\"kind\":null,\"name\":\"terminal_output\"},{\"default\":\"\",\"kind\":null,\"name\":\"debug_name\"},{\"default\":0,\"kind\":null,\"name\":\"clears\"}]},{\"extends\":null,\"module\":null,\"name\":\"TemplateActions1\",\"overrides\":[],\"properties\":[{\"default\":0,\"kind\":null,\"name\":\"open_modal\"},{\"default\":0,\"kind\":null,\"name\":\"close_modal\"}]},{\"extends\":null,\"module\":null,\"name\":\"MaterialTemplateActions1\",\"overrides\":[],\"properties\":[{\"default\":0,\"kind\":null,\"name\":\"open_modal\"},{\"default\":0,\"kind\":null,\"name\":\"close_modal\"}]}],\"roots\":{\"references\":[{\"attributes\":{\"children\":[{\"id\":\"12911\"}],\"margin\":[0,0,0,0],\"name\":\"Row204536\"},\"id\":\"12910\",\"type\":\"Row\"},{\"attributes\":{\"fill_color\":{\"value\":\"red\"},\"hatch_color\":{\"value\":\"red\"},\"line_color\":{\"value\":\"red\"},\"marker\":{\"value\":\"asterisk\"},\"size\":{\"value\":2},\"x\":{\"field\":\"x\"},\"y\":{\"field\":\"y\"}},\"id\":\"12778\",\"type\":\"Scatter\"},{\"attributes\":{\"children\":[{\"id\":\"12717\"}],\"margin\":[0,0,0,0],\"name\":\"Column204535\"},\"id\":\"12714\",\"type\":\"Column\"},{\"attributes\":{\"high\":0.030046544365654855,\"low\":0.030046442625431758,\"nan_color\":\"rgba(0, 0, 0, 0)\",\"palette\":[\"#00007f\",\"#000084\",\"#000088\",\"#00008d\",\"#000091\",\"#000096\",\"#00009a\",\"#00009f\",\"#0000a3\",\"#0000a8\",\"#0000ac\",\"#0000b1\",\"#0000b6\",\"#0000ba\",\"#0000bf\",\"#0000c3\",\"#0000c8\",\"#0000cc\",\"#0000d1\",\"#0000d5\",\"#0000da\",\"#0000de\",\"#0000e3\",\"#0000e8\",\"#0000ec\",\"#0000f1\",\"#0000f5\",\"#0000fa\",\"#0000fe\",\"#0000ff\",\"#0000ff\",\"#0000ff\",\"#0000ff\",\"#0004ff\",\"#0008ff\",\"#000cff\",\"#0010ff\",\"#0014ff\",\"#0018ff\",\"#001cff\",\"#0020ff\",\"#0024ff\",\"#0028ff\",\"#002cff\",\"#0030ff\",\"#0034ff\",\"#0038ff\",\"#003cff\",\"#0040ff\",\"#0044ff\",\"#0048ff\",\"#004cff\",\"#0050ff\",\"#0054ff\",\"#0058ff\",\"#005cff\",\"#0060ff\",\"#0064ff\",\"#0068ff\",\"#006cff\",\"#0070ff\",\"#0074ff\",\"#0078ff\",\"#007cff\",\"#0080ff\",\"#0084ff\",\"#0088ff\",\"#008cff\",\"#0090ff\",\"#0094ff\",\"#0098ff\",\"#009cff\",\"#00a0ff\",\"#00a4ff\",\"#00a8ff\",\"#00acff\",\"#00b0ff\",\"#00b4ff\",\"#00b8ff\",\"#00bcff\",\"#00c0ff\",\"#00c4ff\",\"#00c8ff\",\"#00ccff\",\"#00d0ff\",\"#00d4ff\",\"#00d8ff\",\"#00dcfe\",\"#00e0fa\",\"#00e4f7\",\"#02e8f4\",\"#05ecf1\",\"#08f0ed\",\"#0cf4ea\",\"#0ff8e7\",\"#12fce4\",\"#15ffe1\",\"#18ffdd\",\"#1cffda\",\"#1fffd7\",\"#22ffd4\",\"#25ffd0\",\"#29ffcd\",\"#2cffca\",\"#2fffc7\",\"#32ffc3\",\"#36ffc0\",\"#39ffbd\",\"#3cffba\",\"#3fffb7\",\"#42ffb3\",\"#46ffb0\",\"#49ffad\",\"#4cffaa\",\"#4fffa6\",\"#53ffa3\",\"#56ffa0\",\"#59ff9d\",\"#5cff9a\",\"#5fff96\",\"#63ff93\",\"#66ff90\",\"#69ff8d\",\"#6cff89\",\"#70ff86\",\"#73ff83\",\"#76ff80\",\"#79ff7d\",\"#7cff79\",\"#80ff76\",\"#83ff73\",\"#86ff70\",\"#89ff6c\",\"#8dff69\",\"#90ff66\",\"#93ff63\",\"#96ff5f\",\"#9aff5c\",\"#9dff59\",\"#a0ff56\",\"#a3ff53\",\"#a6ff4f\",\"#aaff4c\",\"#adff49\",\"#b0ff46\",\"#b3ff42\",\"#b7ff3f\",\"#baff3c\",\"#bdff39\",\"#c0ff36\",\"#c3ff32\",\"#c7ff2f\",\"#caff2c\",\"#cdff29\",\"#d0ff25\",\"#d4ff22\",\"#d7ff1f\",\"#daff1c\",\"#ddff18\",\"#e0ff15\",\"#e4ff12\",\"#e7ff0f\",\"#eaff0c\",\"#edff08\",\"#f1fc05\",\"#f4f802\",\"#f7f400\",\"#faf000\",\"#feed00\",\"#ffe900\",\"#ffe500\",\"#ffe200\",\"#ffde00\",\"#ffda00\",\"#ffd700\",\"#ffd300\",\"#ffcf00\",\"#ffcb00\",\"#ffc800\",\"#ffc400\",\"#ffc000\",\"#ffbd00\",\"#ffb900\",\"#ffb500\",\"#ffb100\",\"#ffae00\",\"#ffaa00\",\"#ffa600\",\"#ffa300\",\"#ff9f00\",\"#ff9b00\",\"#ff9800\",\"#ff9400\",\"#ff9000\",\"#ff8c00\",\"#ff8900\",\"#ff8500\",\"#ff8100\",\"#ff7e00\",\"#ff7a00\",\"#ff7600\",\"#ff7300\",\"#ff6f00\",\"#ff6b00\",\"#ff6700\",\"#ff6400\",\"#ff6000\",\"#ff5c00\",\"#ff5900\",\"#ff5500\",\"#ff5100\",\"#ff4d00\",\"#ff4a00\",\"#ff4600\",\"#ff4200\",\"#ff3f00\",\"#ff3b00\",\"#ff3700\",\"#ff3400\",\"#ff3000\",\"#ff2c00\",\"#ff2800\",\"#ff2500\",\"#ff2100\",\"#ff1d00\",\"#ff1a00\",\"#ff1600\",\"#fe1200\",\"#fa0f00\",\"#f50b00\",\"#f10700\",\"#ec0300\",\"#e80000\",\"#e30000\",\"#de0000\",\"#da0000\",\"#d50000\",\"#d10000\",\"#cc0000\",\"#c80000\",\"#c30000\",\"#bf0000\",\"#ba0000\",\"#b60000\",\"#b10000\",\"#ac0000\",\"#a80000\",\"#a30000\",\"#9f0000\",\"#9a0000\",\"#960000\",\"#910000\",\"#8d0000\",\"#880000\",\"#840000\",\"#7f0000\"]},\"id\":\"12752\",\"type\":\"LinearColorMapper\"},{\"attributes\":{\"margin\":[0,0,0,0],\"name\":\"Row204537\"},\"id\":\"12917\",\"type\":\"Row\"},{\"attributes\":{\"fill_alpha\":{\"value\":0.1},\"fill_color\":{\"value\":\"red\"},\"hatch_alpha\":{\"value\":0.1},\"hatch_color\":{\"value\":\"red\"},\"line_alpha\":{\"value\":0.1},\"line_color\":{\"value\":\"red\"},\"marker\":{\"value\":\"asterisk\"},\"size\":{\"value\":2},\"x\":{\"field\":\"x\"},\"y\":{\"field\":\"y\"}},\"id\":\"12779\",\"type\":\"Scatter\"},{\"attributes\":{\"color_mapper\":{\"id\":\"12752\"},\"dh\":{\"field\":\"dh\"},\"dw\":{\"field\":\"dw\"},\"image\":{\"field\":\"image\"},\"x\":{\"field\":\"x\"},\"y\":{\"field\":\"y\"}},\"id\":\"12756\",\"type\":\"Image\"},{\"attributes\":{\"source\":{\"id\":\"12753\"}},\"id\":\"12763\",\"type\":\"CDSView\"},{\"attributes\":{\"color_mapper\":{\"id\":\"12752\"},\"dh\":{\"field\":\"dh\"},\"dw\":{\"field\":\"dw\"},\"global_alpha\":{\"value\":1.0},\"image\":{\"field\":\"image\"},\"x\":{\"field\":\"x\"},\"y\":{\"field\":\"y\"}},\"id\":\"12764\",\"type\":\"Image\"},{\"attributes\":{},\"id\":\"12747\",\"type\":\"BasicTickFormatter\"},{\"attributes\":{\"coordinates\":null,\"data_source\":{\"id\":\"12766\"},\"glyph\":{\"id\":\"12769\"},\"group\":null,\"hover_glyph\":null,\"muted_glyph\":{\"id\":\"12771\"},\"nonselection_glyph\":{\"id\":\"12770\"},\"selection_glyph\":{\"id\":\"12774\"},\"view\":{\"id\":\"12773\"}},\"id\":\"12772\",\"type\":\"GlyphRenderer\"},{\"attributes\":{\"coordinates\":null,\"data_source\":{\"id\":\"12753\"},\"glyph\":{\"id\":\"12756\"},\"group\":null,\"hover_glyph\":null,\"muted_glyph\":{\"id\":\"12760\"},\"nonselection_glyph\":{\"id\":\"12758\"},\"selection_glyph\":{\"id\":\"12764\"},\"view\":{\"id\":\"12763\"}},\"id\":\"12762\",\"type\":\"GlyphRenderer\"},{\"attributes\":{},\"id\":\"12795\",\"type\":\"UnionRenderers\"},{\"attributes\":{\"axis_label\":\"x\",\"coordinates\":null,\"formatter\":{\"id\":\"12747\"},\"group\":null,\"major_label_policy\":{\"id\":\"12748\"},\"ticker\":{\"id\":\"12727\"}},\"id\":\"12726\",\"type\":\"LinearAxis\"},{\"attributes\":{},\"id\":\"12767\",\"type\":\"Selection\"},{\"attributes\":{},\"id\":\"12754\",\"type\":\"Selection\"},{\"attributes\":{\"children\":[{\"id\":\"12912\"},{\"id\":\"12915\"}],\"margin\":[0,0,0,0],\"name\":\"\"},\"id\":\"12911\",\"type\":\"Column\"},{\"attributes\":{\"color_mapper\":{\"id\":\"12752\"},\"dh\":{\"field\":\"dh\"},\"dw\":{\"field\":\"dw\"},\"global_alpha\":{\"value\":0.2},\"image\":{\"field\":\"image\"},\"x\":{\"field\":\"x\"},\"y\":{\"field\":\"y\"}},\"id\":\"12760\",\"type\":\"Image\"},{\"attributes\":{\"line_alpha\":{\"value\":1.0},\"line_cap\":{\"value\":\"butt\"},\"line_color\":{\"value\":\"red\"},\"line_dash\":{\"value\":[]},\"line_dash_offset\":{\"value\":0},\"line_join\":{\"value\":\"bevel\"},\"line_width\":{\"value\":2},\"x0\":{\"field\":\"x0\"},\"x1\":{\"field\":\"x1\"},\"y0\":{\"field\":\"y0\"},\"y1\":{\"field\":\"y1\"}},\"id\":\"12774\",\"type\":\"Segment\"},{\"attributes\":{\"bottom_units\":\"screen\",\"coordinates\":null,\"fill_alpha\":0.5,\"fill_color\":\"lightgrey\",\"group\":null,\"left_units\":\"screen\",\"level\":\"overlay\",\"line_alpha\":1.0,\"line_color\":\"black\",\"line_dash\":[4,4],\"line_width\":2,\"right_units\":\"screen\",\"syncable\":false,\"top_units\":\"screen\"},\"id\":\"12739\",\"type\":\"BoxAnnotation\"},{\"attributes\":{\"children\":[{\"id\":\"12917\"}],\"margin\":[0,0,0,0],\"name\":\"Column204540\"},\"id\":\"12916\",\"type\":\"Column\"},{\"attributes\":{\"angle\":{\"value\":0.0},\"fill_alpha\":{\"value\":1.0},\"fill_color\":{\"value\":\"red\"},\"hatch_alpha\":{\"value\":1.0},\"hatch_color\":{\"value\":\"red\"},\"hatch_scale\":{\"value\":12.0},\"hatch_weight\":{\"value\":1.0},\"line_alpha\":{\"value\":1.0},\"line_cap\":{\"value\":\"butt\"},\"line_color\":{\"value\":\"red\"},\"line_dash\":{\"value\":[]},\"line_dash_offset\":{\"value\":0},\"line_join\":{\"value\":\"bevel\"},\"line_width\":{\"value\":1},\"marker\":{\"value\":\"asterisk\"},\"size\":{\"value\":2},\"x\":{\"field\":\"x\"},\"y\":{\"field\":\"y\"}},\"id\":\"12783\",\"type\":\"Scatter\"},{\"attributes\":{\"data\":{\"x\":{\"__ndarray__\":\"\",\"dtype\":\"float64\",\"order\":\"little\",\"shape\":[0]},\"y\":{\"__ndarray__\":\"\",\"dtype\":\"float64\",\"order\":\"little\",\"shape\":[0]}},\"selected\":{\"id\":\"12776\"},\"selection_policy\":{\"id\":\"12795\"}},\"id\":\"12775\",\"type\":\"ColumnDataSource\"},{\"attributes\":{},\"id\":\"12791\",\"type\":\"UnionRenderers\"},{\"attributes\":{\"end\":0.5,\"reset_end\":0.5,\"reset_start\":-0.5,\"start\":-0.5,\"tags\":[[[\"y\",\"y\",null]]]},\"id\":\"12716\",\"type\":\"Range1d\"},{\"attributes\":{},\"id\":\"12793\",\"type\":\"UnionRenderers\"},{\"attributes\":{\"margin\":[5,10,5,10],\"name\":\"\",\"text\":\"<b>Component Planes</b>\"},\"id\":\"12913\",\"type\":\"Div\"},{\"attributes\":{\"icon\":null,\"label\":\"\\u21aa\",\"margin\":[5,10,5,10],\"subscribed_events\":[\"button_click\"]},\"id\":\"12711\",\"type\":\"Button\"},{\"attributes\":{},\"id\":\"12738\",\"type\":\"ResetTool\"},{\"attributes\":{\"margin\":[5,10,5,10],\"options\":[[\"PiYG\",\"PiYG\"],[\"PRGn\",\"PRGn\"],[\"BrBG\",\"BrBG\"],[\"PuOr\",\"PuOr\"],[\"RdGy\",\"RdGy\"],[\"RdBu\",\"RdBu\"],[\"RdYlBu\",\"RdYlBu\"],[\"RdYlGn\",\"RdYlGn\"],[\"Spectral\",\"Spectral\"],[\"coolwarm\",\"coolwarm\"],[\"bwr\",\"bwr\"],[\"seismic\",\"seismic\"],[\"gist_gray\",\"gist_gray\"],[\"bone\",\"bone\"],[\"pink\",\"pink\"],[\"spring\",\"spring\"],[\"summer\",\"summer\"],[\"autumn\",\"autumn\"],[\"winter\",\"winter\"],[\"cool\",\"cool\"],[\"Wistia\",\"Wistia\"],[\"hot\",\"hot\"],[\"afmhot\",\"afmhot\"],[\"gist_heat\",\"gist_heat\"],[\"copper\",\"copper\"],[\"Greys\",\"Greys\"],[\"Purples\",\"Purples\"],[\"Blues\",\"Blues\"],[\"Greens\",\"Greens\"],[\"Oranges\",\"Oranges\"],[\"Reds\",\"Reds\"],[\"YlOrBr\",\"YlOrBr\"],[\"YlOrRd\",\"YlOrRd\"],[\"OrRd\",\"OrRd\"],[\"PuRd\",\"PuRd\"],[\"RdPu\",\"RdPu\"],[\"BuPu\",\"BuPu\"],[\"GnBu\",\"GnBu\"],[\"PuBu\",\"PuBu\"],[\"YlGnBu\",\"YlGnBu\"],[\"PuBuGn\",\"PuBuGn\"],[\"BuGn\",\"BuGn\"],[\"YlGn\",\"YlGn\"],[\"viridis\",\"viridis\"],[\"plasma\",\"plasma\"],[\"inferno\",\"inferno\"],[\"magma\",\"magma\"],[\"cividis\",\"cividis\"],[\"twilight\",\"twilight\"],[\"twilight_shifted\",\"twilight_shifted\"],[\"hsv\",\"hsv\"],[\"Pastel1\",\"Pastel1\"],[\"Paired\",\"Paired\"],[\"Accent\",\"Accent\"],[\"Dark2\",\"Dark2\"],[\"Set1\",\"Set1\"],[\"Set2\",\"Set2\"],[\"Set3\",\"Set3\"],[\"tab10\",\"tab10\"],[\"tab20\",\"tab20\"],[\"tab20b\",\"tab20b\"],[\"tab20c\",\"tab20c\"],[\"flag\",\"flag\"],[\"prism\",\"prism\"],[\"ocean\",\"ocean\"],[\"gist_earth\",\"gist_earth\"],[\"terrain\",\"terrain\"],[\"gist_stern\",\"gist_stern\"],[\"gnuplot\",\"gnuplot\"],[\"gnuplot2\",\"gnuplot2\"],[\"CMRmap\",\"CMRmap\"],[\"cubehelix\",\"cubehelix\"],[\"brg\",\"brg\"],[\"gist_rainbow\",\"gist_rainbow\"],[\"rainbow\",\"rainbow\"],[\"jet\",\"jet\"],[\"turbo\",\"turbo\"],[\"nipy_spectral\",\"nipy_spectral\"],[\"gist_ncar\",\"gist_ncar\"],[\"glasbey_dark\",\"glasbey_dark\"]],\"value\":\"jet\"},\"id\":\"12709\",\"type\":\"panel.models.widgets.CustomSelect\"},{\"attributes\":{\"labels\":[\"interpolation\"],\"margin\":[5,10,5,10]},\"id\":\"12712\",\"type\":\"CheckboxGroup\"},{\"attributes\":{},\"id\":\"12724\",\"type\":\"LinearScale\"},{\"attributes\":{\"client_comm_id\":\"2917937aecd0485f85f2ca520b5938c3\",\"comm_id\":\"c83c2a66723141ff836d7918a3046f96\",\"plot_id\":\"12703\"},\"id\":\"12960\",\"type\":\"panel.models.comm_manager.CommManager\"},{\"attributes\":{\"icon\":null,\"label\":\"\\u21a9\",\"margin\":[5,10,5,10],\"subscribed_events\":[\"button_click\"]},\"id\":\"12710\",\"type\":\"Button\"},{\"attributes\":{\"coordinates\":null,\"group\":null,\"text_color\":\"black\",\"text_font_size\":\"12pt\"},\"id\":\"12718\",\"type\":\"Title\"},{\"attributes\":{\"source\":{\"id\":\"12775\"}},\"id\":\"12782\",\"type\":\"CDSView\"},{\"attributes\":{},\"id\":\"12776\",\"type\":\"Selection\"},{\"attributes\":{\"children\":[{\"id\":\"12704\"},{\"id\":\"12916\"}],\"margin\":[0,0,0,0],\"name\":\"Column204541\"},\"id\":\"12703\",\"type\":\"Column\"},{\"attributes\":{\"children\":[{\"id\":\"12913\"},{\"id\":\"12914\"}],\"margin\":[5,5,5,5],\"min_width\":300,\"name\":\"Component Planes\",\"width\":300},\"id\":\"12912\",\"type\":\"Column\"},{\"attributes\":{\"color_mapper\":{\"id\":\"12752\"},\"dh\":{\"field\":\"dh\"},\"dw\":{\"field\":\"dw\"},\"global_alpha\":{\"value\":0.1},\"image\":{\"field\":\"image\"},\"x\":{\"field\":\"x\"},\"y\":{\"field\":\"y\"}},\"id\":\"12758\",\"type\":\"Image\"},{\"attributes\":{},\"id\":\"12751\",\"type\":\"AllLabels\"},{\"attributes\":{\"margin\":[5,5,5,5],\"name\":\"Str204552\",\"text\":\"&lt;pre&gt;Slicing weight vector according it&#x27;s components.&lt;/pre&gt;\"},\"id\":\"12915\",\"type\":\"panel.models.markup.HTML\"},{\"attributes\":{},\"id\":\"12727\",\"type\":\"BasicTicker\"},{\"attributes\":{\"source\":{\"id\":\"12766\"}},\"id\":\"12773\",\"type\":\"CDSView\"},{\"attributes\":{},\"id\":\"12736\",\"type\":\"WheelZoomTool\"},{\"attributes\":{\"margin\":[5,10,5,10],\"options\":[[\"0\",\"Component Planes\"],[\"1\",\"Hit Histogram\"],[\"2\",\"U-matrix\"],[\"3\",\"D-Matrix\"],[\"4\",\"P-matrix & U*-matrix\"],[\"5\",\"Smoothed Data Histograms\"],[\"6\",\"Pie Chart\"],[\"7\",\"Neighbourhood Graph\"],[\"8\",\"Chessboard\"],[\"9\",\"Clustering\"],[\"10\",\"Metro Map\"],[\"11\",\"Quantization Error\"],[\"12\",\"Time Series\"],[\"13\",\"Sky Metaphor\"]],\"value\":\"0\"},\"id\":\"12708\",\"type\":\"panel.models.widgets.CustomSelect\"},{\"attributes\":{},\"id\":\"12734\",\"type\":\"SaveTool\"},{\"attributes\":{\"overlay\":{\"id\":\"12739\"}},\"id\":\"12737\",\"type\":\"BoxZoomTool\"},{\"attributes\":{\"children\":[{\"id\":\"12705\"},{\"id\":\"12713\"}],\"margin\":[0,0,0,0],\"name\":\"Column204539\"},\"id\":\"12704\",\"type\":\"Column\"},{\"attributes\":{\"margin\":[5,10,5,10],\"name\":\"\",\"text\":\"<b></b>\"},\"id\":\"12707\",\"type\":\"Div\"},{\"attributes\":{},\"id\":\"12735\",\"type\":\"PanTool\"},{\"attributes\":{},\"id\":\"12750\",\"type\":\"BasicTickFormatter\"},{\"attributes\":{\"axis_label\":\"y\",\"coordinates\":null,\"formatter\":{\"id\":\"12750\"},\"group\":null,\"major_label_policy\":{\"id\":\"12751\"},\"ticker\":{\"id\":\"12731\"}},\"id\":\"12730\",\"type\":\"LinearAxis\"},{\"attributes\":{\"line_color\":{\"value\":\"red\"},\"line_width\":{\"value\":2},\"x0\":{\"field\":\"x0\"},\"x1\":{\"field\":\"x1\"},\"y0\":{\"field\":\"y0\"},\"y1\":{\"field\":\"y1\"}},\"id\":\"12769\",\"type\":\"Segment\"},{\"attributes\":{\"end\":5.0,\"reset_end\":5.0,\"reset_start\":-5.0,\"start\":-5.0,\"tags\":[[[\"x\",\"x\",null]]]},\"id\":\"12715\",\"type\":\"Range1d\"},{\"attributes\":{\"children\":[{\"id\":\"12707\"},{\"id\":\"12708\"},{\"id\":\"12709\"},{\"id\":\"12710\"},{\"id\":\"12711\"},{\"id\":\"12712\"}],\"margin\":[5,5,5,5],\"min_width\":700,\"name\":\"\",\"width\":700},\"id\":\"12706\",\"type\":\"Row\"},{\"attributes\":{},\"id\":\"12722\",\"type\":\"LinearScale\"},{\"attributes\":{\"line_alpha\":{\"value\":0.2},\"line_color\":{\"value\":\"red\"},\"line_width\":{\"value\":2},\"x0\":{\"field\":\"x0\"},\"x1\":{\"field\":\"x1\"},\"y0\":{\"field\":\"y0\"},\"y1\":{\"field\":\"y1\"}},\"id\":\"12771\",\"type\":\"Segment\"},{\"attributes\":{\"children\":[{\"id\":\"12706\"}],\"margin\":[0,0,0,0],\"name\":\"Column204504\"},\"id\":\"12705\",\"type\":\"Column\"},{\"attributes\":{\"coordinates\":null,\"data_source\":{\"id\":\"12775\"},\"glyph\":{\"id\":\"12778\"},\"group\":null,\"hover_glyph\":null,\"muted_glyph\":{\"id\":\"12780\"},\"nonselection_glyph\":{\"id\":\"12779\"},\"selection_glyph\":{\"id\":\"12783\"},\"view\":{\"id\":\"12782\"}},\"id\":\"12781\",\"type\":\"GlyphRenderer\"},{\"attributes\":{\"data\":{\"dh\":[1.0],\"dw\":[1.0],\"image\":[{\"__ndarray__\":\"9Pp0o37Enj/d3b+hfsSePz9HLKZ+xJ4/SyWkpX7Enj9WrtinfsSePxsGM7h+xJ4/1ORD/H/Enj8hdUdrgMSeP+hpbQmCxJ4/ZWKTsYHEnj/e57/lg8SeP6SZLNyDxJ4/kkKdWYTEnj8rjJYYhcSeP1B9rG+FxJ4/khmidYXEnj8VwPv6hMSeP+ZTIAiFxJ4//k7m3oTEnj8isx6nhMSePymxdNqDxJ4/VuEZuIPEnj+KpECvg8SePwcuzq2DxJ4/B2NIm4PEnj8cTFipg8SeP4FL6QSDxJ4/FpSCB4PEnj/QlBKlgsSeP1EgKJyCxJ4/fqBlmoLEnj+DCI2ZgsSeP0PVF5KCxJ4/hJ2Kl4LEnj9qgYcVgsSeP7FkrDyCxJ4/YdTP9IDEnj/Ghyg5gcSeP7BY6tKAxJ4/9Ta70IDEnj8=\",\"dtype\":\"float64\",\"order\":\"little\",\"shape\":[20,2]}],\"x\":[-0.5],\"y\":[-0.5]},\"selected\":{\"id\":\"12754\"},\"selection_policy\":{\"id\":\"12791\"}},\"id\":\"12753\",\"type\":\"ColumnDataSource\"},{\"attributes\":{\"axis\":{\"id\":\"12726\"},\"coordinates\":null,\"grid_line_color\":null,\"group\":null,\"ticker\":null},\"id\":\"12729\",\"type\":\"Grid\"},{\"attributes\":{\"below\":[{\"id\":\"12726\"}],\"center\":[{\"id\":\"12729\"},{\"id\":\"12733\"}],\"height\":500,\"left\":[{\"id\":\"12730\"}],\"margin\":[5,5,5,5],\"min_border_bottom\":10,\"min_border_left\":10,\"min_border_right\":10,\"min_border_top\":10,\"renderers\":[{\"id\":\"12762\"},{\"id\":\"12772\"},{\"id\":\"12781\"}],\"sizing_mode\":\"fixed\",\"title\":{\"id\":\"12718\"},\"toolbar\":{\"id\":\"12740\"},\"width\":500,\"x_range\":{\"id\":\"12715\"},\"x_scale\":{\"id\":\"12722\"},\"y_range\":{\"id\":\"12716\"},\"y_scale\":{\"id\":\"12724\"}},\"id\":\"12717\",\"subtype\":\"Figure\",\"type\":\"Plot\"},{\"attributes\":{\"children\":[{\"id\":\"12714\"},{\"id\":\"12910\"}],\"margin\":[0,0,0,0],\"name\":\"Row204538\"},\"id\":\"12713\",\"type\":\"Row\"},{\"attributes\":{\"line_alpha\":{\"value\":0.1},\"line_color\":{\"value\":\"red\"},\"line_width\":{\"value\":2},\"x0\":{\"field\":\"x0\"},\"x1\":{\"field\":\"x1\"},\"y0\":{\"field\":\"y0\"},\"y1\":{\"field\":\"y1\"}},\"id\":\"12770\",\"type\":\"Segment\"},{\"attributes\":{\"end\":2,\"margin\":[5,10,5,10],\"start\":0,\"title\":\"Component\",\"value\":0},\"id\":\"12914\",\"type\":\"Slider\"},{\"attributes\":{\"fill_alpha\":{\"value\":0.2},\"fill_color\":{\"value\":\"red\"},\"hatch_alpha\":{\"value\":0.2},\"hatch_color\":{\"value\":\"red\"},\"line_alpha\":{\"value\":0.2},\"line_color\":{\"value\":\"red\"},\"marker\":{\"value\":\"asterisk\"},\"size\":{\"value\":2},\"x\":{\"field\":\"x\"},\"y\":{\"field\":\"y\"}},\"id\":\"12780\",\"type\":\"Scatter\"},{\"attributes\":{\"tools\":[{\"id\":\"12734\"},{\"id\":\"12735\"},{\"id\":\"12736\"},{\"id\":\"12737\"},{\"id\":\"12738\"}]},\"id\":\"12740\",\"type\":\"Toolbar\"},{\"attributes\":{\"data\":{\"x0\":{\"__ndarray__\":\"\",\"dtype\":\"float64\",\"order\":\"little\",\"shape\":[0]},\"x1\":{\"__ndarray__\":\"\",\"dtype\":\"float64\",\"order\":\"little\",\"shape\":[0]},\"y0\":{\"__ndarray__\":\"\",\"dtype\":\"float64\",\"order\":\"little\",\"shape\":[0]},\"y1\":{\"__ndarray__\":\"\",\"dtype\":\"float64\",\"order\":\"little\",\"shape\":[0]}},\"selected\":{\"id\":\"12767\"},\"selection_policy\":{\"id\":\"12793\"}},\"id\":\"12766\",\"type\":\"ColumnDataSource\"},{\"attributes\":{},\"id\":\"12731\",\"type\":\"BasicTicker\"},{\"attributes\":{},\"id\":\"12748\",\"type\":\"AllLabels\"},{\"attributes\":{\"axis\":{\"id\":\"12730\"},\"coordinates\":null,\"dimension\":1,\"grid_line_color\":null,\"group\":null,\"ticker\":null},\"id\":\"12733\",\"type\":\"Grid\"}],\"root_ids\":[\"12703\",\"12960\"]},\"title\":\"Bokeh Application\",\"version\":\"2.4.2\"}};\n",
       "    var render_items = [{\"docid\":\"24b375d4-cc94-4b2c-8caf-4b65974054b8\",\"root_ids\":[\"12703\"],\"roots\":{\"12703\":\"cd3c2bbb-9ff4-4645-b8f6-8126a53759a7\"}}];\n",
       "    root.Bokeh.embed.embed_items_notebook(docs_json, render_items);\n",
       "  }\n",
       "  if (root.Bokeh !== undefined && root.Bokeh.Panel !== undefined) {\n",
       "    embed_document(root);\n",
       "  } else {\n",
       "    var attempts = 0;\n",
       "    var timer = setInterval(function(root) {\n",
       "      if (root.Bokeh !== undefined && root.Bokeh.Panel !== undefined) {\n",
       "        clearInterval(timer);\n",
       "        embed_document(root);\n",
       "      } else if (document.readyState == \"complete\") {\n",
       "        attempts++;\n",
       "        if (attempts > 200) {\n",
       "          clearInterval(timer);\n",
       "          console.log(\"Bokeh: ERROR: Unable to run BokehJS code because BokehJS library is missing\");\n",
       "        }\n",
       "      }\n",
       "    }, 25, root)\n",
       "  }\n",
       "})(window);</script>"
      ],
      "text/plain": [
       "Column\n",
       "    [0] Column\n",
       "        [0] Column\n",
       "            [0] Row(margin=5, width=700)\n",
       "                [0] StaticText(value='<b></b>')\n",
       "                [1] Select(options=OrderedDict([('Component P...]), value=0)\n",
       "                [2] Select(options=OrderedDict([('PiYG', ...]), value='jet')\n",
       "                [3] Button(name='↩')\n",
       "                [4] Button(name='↪')\n",
       "                [5] Checkbox(name='interpolation')\n",
       "        [1] Row\n",
       "            [0] Column\n",
       "                [0] HoloViews(DynamicMap)\n",
       "            [1] Row\n",
       "                [0] Column\n",
       "                    [0] Column(margin=5, name='Component Planes', width=300)\n",
       "                        [0] StaticText(value='<b>Component Planes</b>')\n",
       "                        [1] IntSlider(end=2, name='Component')\n",
       "                    [1] Str(str)\n",
       "    [1] Column\n",
       "        [0] Row()"
      ]
     },
     "execution_count": 5,
     "metadata": {
      "application/vnd.holoviews_exec.v0+json": {
       "id": "12703"
      }
     },
     "output_type": "execute_result"
    }
   ],
   "source": [
    "import numpy as np\n",
    "import minisom as som \n",
    "from pysomvis import PySOMVis\n",
    "\n",
    "#init synthetic data\n",
    "x = np.linspace(0,15,500)\n",
    "y = np.sin(x)\n",
    "y += np.random.normal(0,.2,len(y))\n",
    "synth = np.stack((x,y,np.arange(0,len(x)))).T\n",
    "\n",
    "#train with miniSOM library\n",
    "s = som.MiniSom(x=20, y=2, input_len=synth.shape[1], sigma=1.0, learning_rate=0.8, random_seed=7)\n",
    "s.train_random(synth, 10000, verbose=False)\n",
    "\n",
    "#visualization\n",
    "pysomviz = PySOMVis(weights=s._weights, input_data=synth)\n",
    "pysomviz._mainview"
   ]
  },
  {
   "cell_type": "code",
   "execution_count": 21,
   "id": "c2daa888",
   "metadata": {},
   "outputs": [],
   "source": [
    "import pandas as pd\n",
    "import numpy as np\n",
    "from pysomvis import PySOMVis\n",
    "import minisom as som\n",
    "import datetime\n",
    "from sklearn import datasets, preprocessing\n",
    "\n",
    "data = pd.read_excel('temps.xlsx', index_col=0)\n",
    "data = data.reset_index()\n",
    "\n",
    "def calc(row):\n",
    "    return datetime.datetime(int(row[0]), int(row[1]), int(row[2]))\n",
    "\n",
    "data['time'] = data.apply(calc, axis=1)\n",
    "data.drop(data.columns[[0, 1, 2, 5, 7, 9]], axis=1, inplace=True)\n",
    "\n",
    "data['RH2M'] = data.groupby(['RH2M']).apply(lambda x: x[['RH2M']].interpolate())\n",
    "data['PS'] = data.groupby(['PS']).apply(lambda x: x[['PS']].interpolate())\n",
    "data['T2M'] = data.groupby(['T2M']).apply(lambda x: x[['T2M']].interpolate())\n",
    "data['WS50M'] = data.groupby(['WS50M']).apply(lambda x: x[['WS50M']].interpolate())\n",
    "data['ALLSKY_SFC_LW_DWN'] = data.groupby(['ALLSKY_SFC_LW_DWN']).apply(lambda x: x[['ALLSKY_SFC_LW_DWN']].interpolate())\n",
    "\n",
    "data = data.set_index(keys='time')\n",
    "robustscaler = preprocessing.RobustScaler()\n",
    "for i in range(data.shape[1]):\n",
    "    x_scaled = robustscaler.fit_transform(data.iloc[:,i].values.reshape(-1,1))\n",
    "    data.iloc[:,i] = x_scaled\n",
    "year = np.array(data.loc['1985':'1986'])\n",
    "\n",
    "#train with miniSOM library\n",
    "s2 = som.MiniSom(x=15, y=3, input_len=year.shape[1], sigma=1.0, learning_rate=0.8, random_seed=8)\n",
    "s2.train_random(year, 10000, verbose=False)"
   ]
  },
  {
   "cell_type": "code",
   "execution_count": null,
   "id": "ffb5feb7",
   "metadata": {},
   "outputs": [],
   "source": [
    "#visualization\n",
    "pysomviz2 = PySOMVis(weights=s2._weights, input_data=np.array(data))\n",
    "pysomviz2._mainview"
   ]
  }
 ],
 "metadata": {
  "kernelspec": {
   "display_name": "Python 3 (ipykernel)",
   "language": "python",
   "name": "python3"
  },
  "language_info": {
   "codemirror_mode": {
    "name": "ipython",
    "version": 3
   },
   "file_extension": ".py",
   "mimetype": "text/x-python",
   "name": "python",
   "nbconvert_exporter": "python",
   "pygments_lexer": "ipython3",
   "version": "3.9.12"
  }
 },
 "nbformat": 4,
 "nbformat_minor": 5
}
