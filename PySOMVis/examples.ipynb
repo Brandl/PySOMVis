{
 "cells": [
  {
   "cell_type": "markdown",
   "id": "621a5c86",
   "metadata": {},
   "source": [
    "## Synthetic Data (1000 datapoints, SOM map 12x4)"
   ]
  },
  {
   "cell_type": "code",
   "execution_count": null,
   "id": "4add4b57",
   "metadata": {},
   "outputs": [],
   "source": [
    "#generating 3D synthetic data data\n",
    "def f(X):\n",
    "    return np.sin(X) + np.random.normal(scale=0.3, size=len(X))\n",
    "\n",
    "resolution = 1000 # how many datapoints to generate\n",
    "cycles = 4 # how many sine cycles\n",
    "length = np.pi * 2 * cycles\n",
    "\n",
    "X1 = np.arange(0, length, length / resolution)\n",
    "X2 = np.arange(0, length, length / resolution)\n",
    "X3 = np.arange(0, length, length / resolution)\n",
    "\n",
    "synth = np.concatenate(([f(X1)],[f(X2)],[f(X3)]), axis=0).T;"
   ]
  },
  {
   "cell_type": "code",
   "execution_count": null,
   "id": "2f385e05",
   "metadata": {},
   "outputs": [],
   "source": [
    "import numpy as np\n",
    "import holoviews as hv\n",
    "hv.extension('bokeh')\n",
    "\n",
    "synth       = np.load('datasets\\synthetic\\sinusoidal.npy')\n",
    "codebook    = np.load('datasets\\synthetic\\map.npy')\n",
    "\n",
    "#2-D synusoidal signal\n",
    "hv.Points(synth[:,0])*hv.Points(synth[:,1])*hv.Points(synth[:,2]).opts(width=900,height=300)"
   ]
  },
  {
   "cell_type": "code",
   "execution_count": null,
   "id": "d343c35c",
   "metadata": {},
   "outputs": [],
   "source": [
    "import somoclu\n",
    "from pysomvis import PySOMVis\n",
    "hv.extension(\"bokeh\")\n",
    "\n",
    "n_rows, n_columns = 12, 4\n",
    "som = somoclu.Somoclu(n_columns, n_rows, compactsupport=False)\n",
    "som.train(synth, epochs = 1000)\n",
    "\n",
    "a = PySOMVis(weights=som.codebook, input_data=synth)\n",
    "a._mainview"
   ]
  },
  {
   "cell_type": "markdown",
   "id": "0c9b811e",
   "metadata": {},
   "source": [
    "## Climat Data (12 418 days (~35 years), 5 features)"
   ]
  },
  {
   "cell_type": "code",
   "execution_count": 2,
   "id": "8db6328b",
   "metadata": {},
   "outputs": [],
   "source": [
    "import datetime\n",
    "import numpy as np\n",
    "import pandas as pd\n",
    "from sklearn.preprocessing import RobustScaler\n",
    "\n",
    "data = pd.read_excel('datasets\\climate\\climate_draw_data.xlsx', index_col=0)\n",
    "data = data.reset_index()\n",
    "\n",
    "def calc(row):\n",
    "    return datetime.datetime(int(row[0]), int(row[1]), int(row[2]))\n",
    "\n",
    "data['time'] = data.apply(calc, axis=1)\n",
    "data.drop(data.columns[[0, 1, 2, 5, 7, 9]], axis=1, inplace=True)\n",
    "\n",
    "data['RH2M'] = data.groupby(['RH2M']).apply(lambda x: x[['RH2M']].interpolate())\n",
    "data['PS'] = data.groupby(['PS']).apply(lambda x: x[['PS']].interpolate())\n",
    "data['T2M'] = data.groupby(['T2M']).apply(lambda x: x[['T2M']].interpolate())\n",
    "data['WS50M'] = data.groupby(['WS50M']).apply(lambda x: x[['WS50M']].interpolate())\n",
    "data['ALLSKY_SFC_LW_DWN'] = data.groupby(['ALLSKY_SFC_LW_DWN']).apply(lambda x: x[['ALLSKY_SFC_LW_DWN']].interpolate())\n",
    "\n",
    "data = data.set_index(keys='time')\n",
    "robustscaler = RobustScaler()\n",
    "for i in range(data.shape[1]):\n",
    "    x_scaled = robustscaler.fit_transform(data.iloc[:,i].values.reshape(-1,1))\n",
    "    data.iloc[:,i] = x_scaled\n",
    "year = np.array(data.loc['1985':'2020'])"
   ]
  },
  {
   "cell_type": "code",
   "execution_count": null,
   "id": "8d7fd4b4",
   "metadata": {},
   "outputs": [],
   "source": [
    "import somoclu\n",
    "from pysomvis import PySOMVis\n",
    "\n",
    "n_rows, n_columns = 19, 3\n",
    "som = somoclu.Somoclu(n_columns, n_rows, compactsupport=False, initialization='pca')\n",
    "som.train(year, epochs = 10000)\n",
    "\n",
    "#35 years visualisation\n",
    "Climat_Data = PySOMVis(weights=som.codebook, input_data=year)\n",
    "Climat_Data._mainview"
   ]
  },
  {
   "cell_type": "markdown",
   "id": "16304077",
   "metadata": {},
   "source": [
    "## Climat Data (trained SOM map19x3)"
   ]
  },
  {
   "cell_type": "code",
   "execution_count": null,
   "id": "e2ceaabd",
   "metadata": {},
   "outputs": [],
   "source": [
    "import numpy as np\n",
    "from pysomvis import PySOMVis\n",
    "\n",
    "evaldata = np.load('datasets\\climate\\climate (35 years).npy')\n",
    "codebook = np.load('datasets\\climate\\map.npy')\n",
    "\n",
    "#visualization\n",
    "Climat_Data2 = PySOMVis(weights=codebook, input_data=evaldata)\n",
    "Climat_Data2._mainview"
   ]
  },
  {
   "cell_type": "markdown",
   "id": "c0c67960",
   "metadata": {},
   "source": [
    "## 4 Data Sets, trained by SOMToolbox (http://www.ifs.tuwien.ac.at/dm/somtoolbox/index.html)"
   ]
  },
  {
   "cell_type": "code",
   "execution_count": null,
   "id": "4af48119",
   "metadata": {},
   "outputs": [],
   "source": [
    "from pysomvis import PySOMVis\n",
    "from SOMToolBox_Parse import SOMToolBox_Parse\n",
    "\n",
    "dataset = '10clusters' #iris, chainlink, 10clusters, BostonHousing\n",
    "inputdata = SOMToolBox_Parse('datasets\\\\'+dataset+'\\\\'+dataset+'.vec').read_weight_file()\n",
    "weights = SOMToolBox_Parse('datasets\\\\'+dataset+'\\\\'+dataset+'.wgt.gz').read_weight_file()\n",
    "classinfo = SOMToolBox_Parse('datasets\\\\'+dataset+'\\\\'+dataset+'.cls').read_weight_file()\n",
    "\n",
    "#visualization\n",
    "pysomviz = PySOMVis(weights=weights['arr'], m=weights['ydim'], n=weights['xdim'],\n",
    "                     dimension=weights['vec_dim'], input_data=inputdata['arr'], \n",
    "                    classes=classinfo['arr'][:,1], component_names=classinfo['classes_names'])\n",
    "pysomviz._mainview"
   ]
  }
 ],
 "metadata": {
  "kernelspec": {
   "display_name": "Python 3 (ipykernel)",
   "language": "python",
   "name": "python3"
  },
  "language_info": {
   "codemirror_mode": {
    "name": "ipython",
    "version": 3
   },
   "file_extension": ".py",
   "mimetype": "text/x-python",
   "name": "python",
   "nbconvert_exporter": "python",
   "pygments_lexer": "ipython3",
   "version": "3.10.4"
  }
 },
 "nbformat": 4,
 "nbformat_minor": 5
}
