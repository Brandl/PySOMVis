{
 "cells": [
  {
   "cell_type": "code",
   "execution_count": null,
   "id": "37be0986",
   "metadata": {},
   "outputs": [],
   "source": [
    "import numpy as np\n",
    "import minisom as som \n",
    "from pysomvis import PySOMVis\n",
    "\n",
    "#init synthetic data\n",
    "x = np.linspace(0,15,500)\n",
    "y = np.sin(x)\n",
    "y += np.random.normal(0,.2,len(y))\n",
    "synth = np.stack((x,y,np.arange(0,len(x)))).T\n",
    "\n",
    "#train with miniSOM library\n",
    "s = som.MiniSom(x=20, y=2, input_len=synth.shape[1], sigma=1.0, learning_rate=0.8, random_seed=7)\n",
    "s.train_random(synth, 100, verbose=False)\n",
    "\n",
    "#visualization\n",
    "pysomviz = PySOMVis(weights=s._weights, input_data=synth)\n",
    "pysomviz._mainview"
   ]
  },
  {
   "cell_type": "code",
   "execution_count": null,
   "id": "c2daa888",
   "metadata": {},
   "outputs": [],
   "source": [
    "import pandas as pd\n",
    "import numpy as np\n",
    "from pysomvis import PySOMVis\n",
    "import minisom as som\n",
    "import datetime\n",
    "from sklearn import datasets, preprocessing\n",
    "\n",
    "data = pd.read_excel('temps.xlsx', index_col=0)\n",
    "data = data.reset_index()\n",
    "\n",
    "def calc(row):\n",
    "    return datetime.datetime(int(row[0]), int(row[1]), int(row[2]))\n",
    "\n",
    "data['time'] = data.apply(calc, axis=1)\n",
    "data.drop(data.columns[[0, 1, 2, 5, 7, 9]], axis=1, inplace=True)\n",
    "\n",
    "data['RH2M'] = data.groupby(['RH2M']).apply(lambda x: x[['RH2M']].interpolate())\n",
    "data['PS'] = data.groupby(['PS']).apply(lambda x: x[['PS']].interpolate())\n",
    "data['T2M'] = data.groupby(['T2M']).apply(lambda x: x[['T2M']].interpolate())\n",
    "data['WS50M'] = data.groupby(['WS50M']).apply(lambda x: x[['WS50M']].interpolate())\n",
    "data['ALLSKY_SFC_LW_DWN'] = data.groupby(['ALLSKY_SFC_LW_DWN']).apply(lambda x: x[['ALLSKY_SFC_LW_DWN']].interpolate())\n",
    "\n",
    "data = data.set_index(keys='time')\n",
    "robustscaler = preprocessing.RobustScaler()\n",
    "for i in range(data.shape[1]):\n",
    "    x_scaled = robustscaler.fit_transform(data.iloc[:,i].values.reshape(-1,1))\n",
    "    data.iloc[:,i] = x_scaled\n",
    "year = np.array(data.loc['1985':'1986'])\n",
    "\n",
    "#train with miniSOM library\n",
    "s2 = som.MiniSom(x=15, y=3, input_len=year.shape[1], sigma=1.0, learning_rate=0.8, random_seed=8)\n",
    "s2.train_random(year, 10000, verbose=False)"
   ]
  },
  {
   "cell_type": "code",
   "execution_count": null,
   "id": "f90e6e3d",
   "metadata": {},
   "outputs": [],
   "source": [
    "#np.save('_weights.npy',s2._weights)\n",
    "np.array(data.loc['1985':'1986'])"
   ]
  },
  {
   "cell_type": "code",
   "execution_count": null,
   "id": "ffb5feb7",
   "metadata": {},
   "outputs": [],
   "source": [
    "#visualization\n",
    "pysomviz2 = PySOMVis(weights=s2._weights, input_data=np.array(data.loc['1985':'2020']))\n",
    "pysomviz2._mainview"
   ]
  },
  {
   "cell_type": "code",
   "execution_count": null,
   "id": "34703461",
   "metadata": {},
   "outputs": [],
   "source": [
    "from SOMToolBox_Parse import SOMToolBox_Parse\n",
    "from pysomvis import PySOMVis\n",
    "from sklearn import datasets\n",
    "import holoviews as hv\n",
    "import numpy as np\n",
    "from typing import Tuple, List\n",
    "from visualizations.graph import Graph\n",
    "\n",
    "iris = datasets.load_iris()\n",
    "\n",
    "iris_data = SOMToolBox_Parse('datasets\\\\iris\\\\iris.vec').read_weight_file()\n",
    "iris_weights = SOMToolBox_Parse('datasets\\\\iris\\\\iris.wgt.gz').read_weight_file()\n",
    "\n",
    "#visualization\n",
    "pysomviz3 = PySOMVis(weights=iris_weights['arr'], m=iris_weights['ydim'], n=iris_weights['xdim'],\n",
    "                                                  dimension=iris_weights['vec_dim'], input_data=iris.data)\n",
    "pysomviz3._mainview"
   ]
  }
 ],
 "metadata": {
  "kernelspec": {
   "display_name": "Python 3 (ipykernel)",
   "language": "python",
   "name": "python3"
  },
  "language_info": {
   "codemirror_mode": {
    "name": "ipython",
    "version": 3
   },
   "file_extension": ".py",
   "mimetype": "text/x-python",
   "name": "python",
   "nbconvert_exporter": "python",
   "pygments_lexer": "ipython3",
   "version": "3.10.4"
  }
 },
 "nbformat": 4,
 "nbformat_minor": 5
}
