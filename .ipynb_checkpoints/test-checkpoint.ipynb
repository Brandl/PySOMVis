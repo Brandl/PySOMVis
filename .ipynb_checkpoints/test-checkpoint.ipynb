{
 "cells": [
  {
   "cell_type": "code",
   "execution_count": null,
   "id": "f08d25e9",
   "metadata": {},
   "outputs": [],
   "source": [
    "def graph(weights, data):\n",
    "    from sklearn.cluster import KMeans, AgglomerativeClustering\n",
    "    agglo = AgglomerativeClustering(n_clusters=4, linkage='ward') \n",
    "    matrix = agglo.fit_predict(weights)\n",
    "    bmu = np.apply_along_axis(lambda x: np.argmin( np.linalg.norm(weights - x.reshape((1, data.shape[1])), axis=1)), 1, data)\n",
    "    points,avarage = [], []\n",
    "    for i,x in enumerate(bmu):\n",
    "        points.append((i, x, matrix[x]))\n",
    "        avarage.append(0.9*avarage[-1]+0.1*bmu[i]) if i>0 else avarage.append(x)\n",
    "    return hv.Points(points, vdims='Category').opts(color='Category', cmap='jet')*hv.Curve(avarage).opts(color='Red')\n",
    "\n",
    "def clust(weights,m,n):\n",
    "    _xlim = (-.5*m/n,.5*m/n) if m>n else (-.5,.5)\n",
    "    _ylim = (-.5*n/m,.5*n/m) if n>m else (-.5,.5)\n",
    "\n",
    "    from sklearn.cluster import KMeans, AgglomerativeClustering\n",
    "    agglo = AgglomerativeClustering(n_clusters=4, linkage='ward') \n",
    "    matrix = agglo.fit_predict(weights).reshape(m,-1)\n",
    "    for i in range(0,matrix.shape[0]):\n",
    "        if (i+1)%2==0:  matrix[i] = np.flip(matrix[i],0) \n",
    "    return hv.Image(matrix).opts(cmap='jet',xlim=_xlim, ylim=_ylim, height=500, width=500)\n",
    "import pandas as pd\n",
    "import numpy as np\n",
    "from somtoolbox import SOMToolbox\n",
    "import minisom as som\n",
    "import datetime\n",
    "from sklearn import datasets, preprocessing\n",
    "\n",
    "data = pd.read_excel('temps.xlsx', index_col=0)\n",
    "data = data.reset_index()\n",
    "\n",
    "def calc(row):\n",
    "    return datetime.datetime(int(row[0]), int(row[1]), int(row[2]))\n",
    "\n",
    "data['time'] = data.apply(calc, axis=1)\n",
    "data.drop(data.columns[[0, 1, 2]], axis=1, inplace=True)\n",
    "data.drop(data.columns[[3, 5, 7]], axis=1, inplace=True)\n",
    "\n",
    "data['RH2M'] = data.groupby(['RH2M']).apply(lambda x: x[['RH2M']].interpolate())\n",
    "data['PS'] = data.groupby(['PS']).apply(lambda x: x[['PS']].interpolate())\n",
    "data['TS'] = data.groupby(['TS']).apply(lambda x: x[['TS']].interpolate())\n",
    "data['WS10M'] = data.groupby(['WS10M']).apply(lambda x: x[['WS10M']].interpolate())\n",
    "data['KT'] = data.groupby(['KT']).apply(lambda x: x[['KT']].interpolate())\n",
    "\n",
    "\n",
    "data = data.set_index(keys='time')\n",
    "min_max_scaler = preprocessing.MinMaxScaler()\n",
    "\n",
    "real_data = data.copy()\n",
    "\n",
    "for i in range(data.shape[1]):\n",
    "    x_scaled = min_max_scaler.fit_transform(data.iloc[:,i].values.reshape(-1,1))\n",
    "    data.iloc[:,i] = np.log(x_scaled + 1)\n",
    "learn = np.array(data.loc['1985':'1986'])\n",
    "np.save('learn',learn)"
   ]
  },
  {
   "cell_type": "code",
   "execution_count": 2,
   "id": "d034f3df",
   "metadata": {},
   "outputs": [
    {
     "data": {},
     "metadata": {},
     "output_type": "display_data"
    },
    {
     "data": {},
     "metadata": {},
     "output_type": "display_data"
    },
    {
     "data": {
      "application/vnd.holoviews_exec.v0+json": "",
      "text/html": [
       "<div id='1345'>\n",
       "\n",
       "\n",
       "\n",
       "\n",
       "\n",
       "  <div class=\"bk-root\" id=\"7d9c5f42-ad19-4ba0-b952-d45548646596\" data-root-id=\"1345\"></div>\n",
       "</div>\n",
       "<script type=\"application/javascript\">(function(root) {\n",
       "  function embed_document(root) {\n",
       "    var docs_json = {\"71b1b4e0-6901-4e95-9650-acef9d995ec5\":{\"defs\":[{\"extends\":null,\"module\":null,\"name\":\"ReactiveHTML1\",\"overrides\":[],\"properties\":[]},{\"extends\":null,\"module\":null,\"name\":\"FlexBox1\",\"overrides\":[],\"properties\":[{\"default\":\"flex-start\",\"kind\":null,\"name\":\"align_content\"},{\"default\":\"flex-start\",\"kind\":null,\"name\":\"align_items\"},{\"default\":\"row\",\"kind\":null,\"name\":\"flex_direction\"},{\"default\":\"wrap\",\"kind\":null,\"name\":\"flex_wrap\"},{\"default\":\"flex-start\",\"kind\":null,\"name\":\"justify_content\"}]},{\"extends\":null,\"module\":null,\"name\":\"GridStack1\",\"overrides\":[],\"properties\":[{\"default\":\"warn\",\"kind\":null,\"name\":\"mode\"},{\"default\":null,\"kind\":null,\"name\":\"ncols\"},{\"default\":null,\"kind\":null,\"name\":\"nrows\"},{\"default\":true,\"kind\":null,\"name\":\"allow_resize\"},{\"default\":true,\"kind\":null,\"name\":\"allow_drag\"},{\"default\":[],\"kind\":null,\"name\":\"state\"}]},{\"extends\":null,\"module\":null,\"name\":\"click1\",\"overrides\":[],\"properties\":[{\"default\":\"\",\"kind\":null,\"name\":\"terminal_output\"},{\"default\":\"\",\"kind\":null,\"name\":\"debug_name\"},{\"default\":0,\"kind\":null,\"name\":\"clears\"}]},{\"extends\":null,\"module\":null,\"name\":\"TemplateActions1\",\"overrides\":[],\"properties\":[{\"default\":0,\"kind\":null,\"name\":\"open_modal\"},{\"default\":0,\"kind\":null,\"name\":\"close_modal\"}]},{\"extends\":null,\"module\":null,\"name\":\"MaterialTemplateActions1\",\"overrides\":[],\"properties\":[{\"default\":0,\"kind\":null,\"name\":\"open_modal\"},{\"default\":0,\"kind\":null,\"name\":\"close_modal\"}]}],\"roots\":{\"references\":[{\"attributes\":{\"line_color\":{\"value\":\"red\"},\"x0\":{\"field\":\"x0\"},\"x1\":{\"field\":\"x1\"},\"y0\":{\"field\":\"y0\"},\"y1\":{\"field\":\"y1\"}},\"id\":\"1411\",\"type\":\"Segment\"},{\"attributes\":{\"high\":0.9611435055258958,\"low\":-0.9765236698188602,\"nan_color\":\"rgba(0, 0, 0, 0)\",\"palette\":[\"#00007f\",\"#000084\",\"#000088\",\"#00008d\",\"#000091\",\"#000096\",\"#00009a\",\"#00009f\",\"#0000a3\",\"#0000a8\",\"#0000ac\",\"#0000b1\",\"#0000b6\",\"#0000ba\",\"#0000bf\",\"#0000c3\",\"#0000c8\",\"#0000cc\",\"#0000d1\",\"#0000d5\",\"#0000da\",\"#0000de\",\"#0000e3\",\"#0000e8\",\"#0000ec\",\"#0000f1\",\"#0000f5\",\"#0000fa\",\"#0000fe\",\"#0000ff\",\"#0000ff\",\"#0000ff\",\"#0000ff\",\"#0004ff\",\"#0008ff\",\"#000cff\",\"#0010ff\",\"#0014ff\",\"#0018ff\",\"#001cff\",\"#0020ff\",\"#0024ff\",\"#0028ff\",\"#002cff\",\"#0030ff\",\"#0034ff\",\"#0038ff\",\"#003cff\",\"#0040ff\",\"#0044ff\",\"#0048ff\",\"#004cff\",\"#0050ff\",\"#0054ff\",\"#0058ff\",\"#005cff\",\"#0060ff\",\"#0064ff\",\"#0068ff\",\"#006cff\",\"#0070ff\",\"#0074ff\",\"#0078ff\",\"#007cff\",\"#0080ff\",\"#0084ff\",\"#0088ff\",\"#008cff\",\"#0090ff\",\"#0094ff\",\"#0098ff\",\"#009cff\",\"#00a0ff\",\"#00a4ff\",\"#00a8ff\",\"#00acff\",\"#00b0ff\",\"#00b4ff\",\"#00b8ff\",\"#00bcff\",\"#00c0ff\",\"#00c4ff\",\"#00c8ff\",\"#00ccff\",\"#00d0ff\",\"#00d4ff\",\"#00d8ff\",\"#00dcfe\",\"#00e0fa\",\"#00e4f7\",\"#02e8f4\",\"#05ecf1\",\"#08f0ed\",\"#0cf4ea\",\"#0ff8e7\",\"#12fce4\",\"#15ffe1\",\"#18ffdd\",\"#1cffda\",\"#1fffd7\",\"#22ffd4\",\"#25ffd0\",\"#29ffcd\",\"#2cffca\",\"#2fffc7\",\"#32ffc3\",\"#36ffc0\",\"#39ffbd\",\"#3cffba\",\"#3fffb7\",\"#42ffb3\",\"#46ffb0\",\"#49ffad\",\"#4cffaa\",\"#4fffa6\",\"#53ffa3\",\"#56ffa0\",\"#59ff9d\",\"#5cff9a\",\"#5fff96\",\"#63ff93\",\"#66ff90\",\"#69ff8d\",\"#6cff89\",\"#70ff86\",\"#73ff83\",\"#76ff80\",\"#79ff7d\",\"#7cff79\",\"#80ff76\",\"#83ff73\",\"#86ff70\",\"#89ff6c\",\"#8dff69\",\"#90ff66\",\"#93ff63\",\"#96ff5f\",\"#9aff5c\",\"#9dff59\",\"#a0ff56\",\"#a3ff53\",\"#a6ff4f\",\"#aaff4c\",\"#adff49\",\"#b0ff46\",\"#b3ff42\",\"#b7ff3f\",\"#baff3c\",\"#bdff39\",\"#c0ff36\",\"#c3ff32\",\"#c7ff2f\",\"#caff2c\",\"#cdff29\",\"#d0ff25\",\"#d4ff22\",\"#d7ff1f\",\"#daff1c\",\"#ddff18\",\"#e0ff15\",\"#e4ff12\",\"#e7ff0f\",\"#eaff0c\",\"#edff08\",\"#f1fc05\",\"#f4f802\",\"#f7f400\",\"#faf000\",\"#feed00\",\"#ffe900\",\"#ffe500\",\"#ffe200\",\"#ffde00\",\"#ffda00\",\"#ffd700\",\"#ffd300\",\"#ffcf00\",\"#ffcb00\",\"#ffc800\",\"#ffc400\",\"#ffc000\",\"#ffbd00\",\"#ffb900\",\"#ffb500\",\"#ffb100\",\"#ffae00\",\"#ffaa00\",\"#ffa600\",\"#ffa300\",\"#ff9f00\",\"#ff9b00\",\"#ff9800\",\"#ff9400\",\"#ff9000\",\"#ff8c00\",\"#ff8900\",\"#ff8500\",\"#ff8100\",\"#ff7e00\",\"#ff7a00\",\"#ff7600\",\"#ff7300\",\"#ff6f00\",\"#ff6b00\",\"#ff6700\",\"#ff6400\",\"#ff6000\",\"#ff5c00\",\"#ff5900\",\"#ff5500\",\"#ff5100\",\"#ff4d00\",\"#ff4a00\",\"#ff4600\",\"#ff4200\",\"#ff3f00\",\"#ff3b00\",\"#ff3700\",\"#ff3400\",\"#ff3000\",\"#ff2c00\",\"#ff2800\",\"#ff2500\",\"#ff2100\",\"#ff1d00\",\"#ff1a00\",\"#ff1600\",\"#fe1200\",\"#fa0f00\",\"#f50b00\",\"#f10700\",\"#ec0300\",\"#e80000\",\"#e30000\",\"#de0000\",\"#da0000\",\"#d50000\",\"#d10000\",\"#cc0000\",\"#c80000\",\"#c30000\",\"#bf0000\",\"#ba0000\",\"#b60000\",\"#b10000\",\"#ac0000\",\"#a80000\",\"#a30000\",\"#9f0000\",\"#9a0000\",\"#960000\",\"#910000\",\"#8d0000\",\"#880000\",\"#840000\",\"#7f0000\"]},\"id\":\"1394\",\"type\":\"LinearColorMapper\"},{\"attributes\":{\"coordinates\":null,\"data_source\":{\"id\":\"1408\"},\"glyph\":{\"id\":\"1411\"},\"group\":null,\"hover_glyph\":null,\"muted_glyph\":{\"id\":\"1413\"},\"nonselection_glyph\":{\"id\":\"1412\"},\"selection_glyph\":{\"id\":\"1416\"},\"view\":{\"id\":\"1415\"}},\"id\":\"1414\",\"type\":\"GlyphRenderer\"},{\"attributes\":{\"color_mapper\":{\"id\":\"1394\"},\"dh\":{\"field\":\"dh\"},\"dw\":{\"field\":\"dw\"},\"global_alpha\":{\"value\":0.2},\"image\":{\"field\":\"image\"},\"x\":{\"field\":\"x\"},\"y\":{\"field\":\"y\"}},\"id\":\"1402\",\"type\":\"Image\"},{\"attributes\":{\"coordinates\":null,\"data_source\":{\"id\":\"1395\"},\"glyph\":{\"id\":\"1398\"},\"group\":null,\"hover_glyph\":null,\"muted_glyph\":{\"id\":\"1402\"},\"nonselection_glyph\":{\"id\":\"1400\"},\"selection_glyph\":{\"id\":\"1406\"},\"view\":{\"id\":\"1405\"}},\"id\":\"1404\",\"type\":\"GlyphRenderer\"},{\"attributes\":{\"source\":{\"id\":\"1395\"}},\"id\":\"1405\",\"type\":\"CDSView\"},{\"attributes\":{\"color_mapper\":{\"id\":\"1394\"},\"dh\":{\"field\":\"dh\"},\"dw\":{\"field\":\"dw\"},\"global_alpha\":{\"value\":1.0},\"image\":{\"field\":\"image\"},\"x\":{\"field\":\"x\"},\"y\":{\"field\":\"y\"}},\"id\":\"1406\",\"type\":\"Image\"},{\"attributes\":{\"fill_color\":{\"value\":\"red\"},\"hatch_color\":{\"value\":\"red\"},\"line_color\":{\"value\":\"red\"},\"size\":{\"value\":2.449489742783178},\"x\":{\"field\":\"x\"},\"y\":{\"field\":\"y\"}},\"id\":\"1420\",\"type\":\"Scatter\"},{\"attributes\":{\"axis\":{\"id\":\"1368\"},\"coordinates\":null,\"grid_line_color\":null,\"group\":null,\"ticker\":null},\"id\":\"1371\",\"type\":\"Grid\"},{\"attributes\":{},\"id\":\"1364\",\"type\":\"LinearScale\"},{\"attributes\":{\"below\":[{\"id\":\"1368\"}],\"center\":[{\"id\":\"1371\"},{\"id\":\"1375\"}],\"height\":500,\"left\":[{\"id\":\"1372\"}],\"margin\":[5,5,5,5],\"min_border_bottom\":10,\"min_border_left\":10,\"min_border_right\":10,\"min_border_top\":10,\"renderers\":[{\"id\":\"1404\"},{\"id\":\"1414\"},{\"id\":\"1423\"}],\"sizing_mode\":\"fixed\",\"title\":{\"id\":\"1360\"},\"toolbar\":{\"id\":\"1382\"},\"width\":500,\"x_range\":{\"id\":\"1357\"},\"x_scale\":{\"id\":\"1364\"},\"y_range\":{\"id\":\"1358\"},\"y_scale\":{\"id\":\"1366\"}},\"id\":\"1359\",\"subtype\":\"Figure\",\"type\":\"Plot\"},{\"attributes\":{\"line_alpha\":{\"value\":1.0},\"line_cap\":{\"value\":\"butt\"},\"line_color\":{\"value\":\"red\"},\"line_dash\":{\"value\":[]},\"line_dash_offset\":{\"value\":0},\"line_join\":{\"value\":\"bevel\"},\"line_width\":{\"value\":1},\"x0\":{\"field\":\"x0\"},\"x1\":{\"field\":\"x1\"},\"y0\":{\"field\":\"y0\"},\"y1\":{\"field\":\"y1\"}},\"id\":\"1416\",\"type\":\"Segment\"},{\"attributes\":{},\"id\":\"1378\",\"type\":\"WheelZoomTool\"},{\"attributes\":{},\"id\":\"1366\",\"type\":\"LinearScale\"},{\"attributes\":{\"source\":{\"id\":\"1408\"}},\"id\":\"1415\",\"type\":\"CDSView\"},{\"attributes\":{},\"id\":\"1409\",\"type\":\"Selection\"},{\"attributes\":{},\"id\":\"1377\",\"type\":\"PanTool\"},{\"attributes\":{\"line_alpha\":{\"value\":0.1},\"line_color\":{\"value\":\"red\"},\"x0\":{\"field\":\"x0\"},\"x1\":{\"field\":\"x1\"},\"y0\":{\"field\":\"y0\"},\"y1\":{\"field\":\"y1\"}},\"id\":\"1412\",\"type\":\"Segment\"},{\"attributes\":{},\"id\":\"1433\",\"type\":\"UnionRenderers\"},{\"attributes\":{\"axis\":{\"id\":\"1372\"},\"coordinates\":null,\"dimension\":1,\"grid_line_color\":null,\"group\":null,\"ticker\":null},\"id\":\"1375\",\"type\":\"Grid\"},{\"attributes\":{\"line_alpha\":{\"value\":0.2},\"line_color\":{\"value\":\"red\"},\"x0\":{\"field\":\"x0\"},\"x1\":{\"field\":\"x1\"},\"y0\":{\"field\":\"y0\"},\"y1\":{\"field\":\"y1\"}},\"id\":\"1413\",\"type\":\"Segment\"},{\"attributes\":{\"axis_label\":\"x\",\"coordinates\":null,\"formatter\":{\"id\":\"1389\"},\"group\":null,\"major_label_policy\":{\"id\":\"1390\"},\"ticker\":{\"id\":\"1369\"}},\"id\":\"1368\",\"type\":\"LinearAxis\"},{\"attributes\":{\"coordinates\":null,\"data_source\":{\"id\":\"1417\"},\"glyph\":{\"id\":\"1420\"},\"group\":null,\"hover_glyph\":null,\"muted_glyph\":{\"id\":\"1422\"},\"nonselection_glyph\":{\"id\":\"1421\"},\"selection_glyph\":{\"id\":\"1425\"},\"view\":{\"id\":\"1424\"}},\"id\":\"1423\",\"type\":\"GlyphRenderer\"},{\"attributes\":{},\"id\":\"1369\",\"type\":\"BasicTicker\"},{\"attributes\":{\"source\":{\"id\":\"1417\"}},\"id\":\"1424\",\"type\":\"CDSView\"},{\"attributes\":{},\"id\":\"1390\",\"type\":\"AllLabels\"},{\"attributes\":{},\"id\":\"1373\",\"type\":\"BasicTicker\"},{\"attributes\":{\"margin\":[5,10,5,10],\"name\":\"\",\"text\":\"<b>Component Planes</b>\"},\"id\":\"1555\",\"type\":\"Div\"},{\"attributes\":{\"coordinates\":null,\"group\":null,\"text_color\":\"black\",\"text_font_size\":\"12pt\"},\"id\":\"1360\",\"type\":\"Title\"},{\"attributes\":{\"children\":[{\"id\":\"1555\"},{\"id\":\"1556\"}],\"margin\":[5,5,5,5],\"min_width\":300,\"name\":\"Component Planes\",\"width\":300},\"id\":\"1554\",\"type\":\"Column\"},{\"attributes\":{\"children\":[{\"id\":\"1554\"},{\"id\":\"1557\"}],\"margin\":[0,0,0,0],\"name\":\"\"},\"id\":\"1553\",\"type\":\"Column\"},{\"attributes\":{\"axis_label\":\"y\",\"coordinates\":null,\"formatter\":{\"id\":\"1392\"},\"group\":null,\"major_label_policy\":{\"id\":\"1393\"},\"ticker\":{\"id\":\"1373\"}},\"id\":\"1372\",\"type\":\"LinearAxis\"},{\"attributes\":{\"data\":{\"dh\":[1.0],\"dw\":[1.0],\"image\":[{\"__ndarray__\":\"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\",\"dtype\":\"float64\",\"order\":\"little\",\"shape\":[18,12]}],\"x\":[-0.5],\"y\":[-0.5]},\"selected\":{\"id\":\"1396\"},\"selection_policy\":{\"id\":\"1433\"}},\"id\":\"1395\",\"type\":\"ColumnDataSource\"},{\"attributes\":{},\"id\":\"1376\",\"type\":\"SaveTool\"},{\"attributes\":{\"children\":[{\"id\":\"1346\"},{\"id\":\"1558\"}],\"margin\":[0,0,0,0],\"name\":\"Column02287\"},\"id\":\"1345\",\"type\":\"Column\"},{\"attributes\":{\"fill_alpha\":{\"value\":0.1},\"fill_color\":{\"value\":\"red\"},\"hatch_alpha\":{\"value\":0.1},\"hatch_color\":{\"value\":\"red\"},\"line_alpha\":{\"value\":0.1},\"line_color\":{\"value\":\"red\"},\"size\":{\"value\":2.449489742783178},\"x\":{\"field\":\"x\"},\"y\":{\"field\":\"y\"}},\"id\":\"1421\",\"type\":\"Scatter\"},{\"attributes\":{\"overlay\":{\"id\":\"1381\"}},\"id\":\"1379\",\"type\":\"BoxZoomTool\"},{\"attributes\":{},\"id\":\"1435\",\"type\":\"UnionRenderers\"},{\"attributes\":{\"children\":[{\"id\":\"1347\"},{\"id\":\"1355\"}],\"margin\":[0,0,0,0],\"name\":\"Column02285\"},\"id\":\"1346\",\"type\":\"Column\"},{\"attributes\":{},\"id\":\"1380\",\"type\":\"ResetTool\"},{\"attributes\":{},\"id\":\"1418\",\"type\":\"Selection\"},{\"attributes\":{\"children\":[{\"id\":\"1559\"}],\"margin\":[0,0,0,0],\"name\":\"Column02286\"},\"id\":\"1558\",\"type\":\"Column\"},{\"attributes\":{\"client_comm_id\":\"6063eabd0ddb46e1b36b96e705e3d7b3\",\"comm_id\":\"b5a48313cf1545ddaaa5e21af4010bef\",\"plot_id\":\"1345\"},\"id\":\"1602\",\"type\":\"panel.models.comm_manager.CommManager\"},{\"attributes\":{\"end\":2,\"margin\":[5,10,5,10],\"start\":0,\"title\":\"Component\",\"value\":0},\"id\":\"1556\",\"type\":\"Slider\"},{\"attributes\":{\"bottom_units\":\"screen\",\"coordinates\":null,\"fill_alpha\":0.5,\"fill_color\":\"lightgrey\",\"group\":null,\"left_units\":\"screen\",\"level\":\"overlay\",\"line_alpha\":1.0,\"line_color\":\"black\",\"line_dash\":[4,4],\"line_width\":2,\"right_units\":\"screen\",\"syncable\":false,\"top_units\":\"screen\"},\"id\":\"1381\",\"type\":\"BoxAnnotation\"},{\"attributes\":{\"children\":[{\"id\":\"1348\"}],\"margin\":[0,0,0,0],\"name\":\"Column02252\"},\"id\":\"1347\",\"type\":\"Column\"},{\"attributes\":{\"children\":[{\"id\":\"1553\"}],\"margin\":[0,0,0,0],\"name\":\"Row02282\"},\"id\":\"1552\",\"type\":\"Row\"},{\"attributes\":{\"margin\":[5,5,5,5],\"name\":\"Str02298\",\"text\":\"&lt;pre&gt;Slicing weight vector according it&#x27;s components.&lt;/pre&gt;\"},\"id\":\"1557\",\"type\":\"panel.models.markup.HTML\"},{\"attributes\":{},\"id\":\"1389\",\"type\":\"BasicTickFormatter\"},{\"attributes\":{\"children\":[{\"id\":\"1349\"},{\"id\":\"1350\"},{\"id\":\"1351\"},{\"id\":\"1352\"},{\"id\":\"1353\"},{\"id\":\"1354\"}],\"margin\":[5,5,5,5],\"min_width\":700,\"name\":\"\",\"width\":700},\"id\":\"1348\",\"type\":\"Row\"},{\"attributes\":{\"fill_alpha\":{\"value\":0.2},\"fill_color\":{\"value\":\"red\"},\"hatch_alpha\":{\"value\":0.2},\"hatch_color\":{\"value\":\"red\"},\"line_alpha\":{\"value\":0.2},\"line_color\":{\"value\":\"red\"},\"size\":{\"value\":2.449489742783178},\"x\":{\"field\":\"x\"},\"y\":{\"field\":\"y\"}},\"id\":\"1422\",\"type\":\"Scatter\"},{\"attributes\":{},\"id\":\"1392\",\"type\":\"BasicTickFormatter\"},{\"attributes\":{\"margin\":[5,10,5,10],\"name\":\"\",\"text\":\"<b></b>\"},\"id\":\"1349\",\"type\":\"Div\"},{\"attributes\":{\"angle\":{\"value\":0.0},\"fill_alpha\":{\"value\":1.0},\"fill_color\":{\"value\":\"red\"},\"hatch_alpha\":{\"value\":1.0},\"hatch_color\":{\"value\":\"red\"},\"hatch_scale\":{\"value\":12.0},\"hatch_weight\":{\"value\":1.0},\"line_alpha\":{\"value\":1.0},\"line_cap\":{\"value\":\"butt\"},\"line_color\":{\"value\":\"red\"},\"line_dash\":{\"value\":[]},\"line_dash_offset\":{\"value\":0},\"line_join\":{\"value\":\"bevel\"},\"line_width\":{\"value\":1},\"marker\":{\"value\":\"circle\"},\"size\":{\"value\":2.449489742783178},\"x\":{\"field\":\"x\"},\"y\":{\"field\":\"y\"}},\"id\":\"1425\",\"type\":\"Scatter\"},{\"attributes\":{\"margin\":[0,0,0,0],\"name\":\"Row02283\"},\"id\":\"1559\",\"type\":\"Row\"},{\"attributes\":{\"margin\":[5,10,5,10],\"options\":[[\"0\",\"Component Planes\"],[\"1\",\"Hit Histogram\"],[\"2\",\"U-matrix\"],[\"3\",\"D-Matrix\"],[\"4\",\"P-matrix & U*-matrix\"],[\"5\",\"Smoothed Data Histograms\"],[\"6\",\"Pie Chart\"],[\"7\",\"Neighbourhood Graph\"],[\"8\",\"Chessboard\"],[\"9\",\"Clustering\"],[\"10\",\"Metro Map\"],[\"11\",\"Quantization Error\"],[\"12\",\"Time Series\"],[\"13\",\"Sky Metaphor\"]],\"value\":\"0\"},\"id\":\"1350\",\"type\":\"panel.models.widgets.CustomSelect\"},{\"attributes\":{},\"id\":\"1437\",\"type\":\"UnionRenderers\"},{\"attributes\":{\"children\":[{\"id\":\"1356\"},{\"id\":\"1552\"}],\"margin\":[0,0,0,0],\"name\":\"Row02284\"},\"id\":\"1355\",\"type\":\"Row\"},{\"attributes\":{},\"id\":\"1396\",\"type\":\"Selection\"},{\"attributes\":{\"end\":0.5,\"reset_end\":0.5,\"reset_start\":-0.5,\"start\":-0.5,\"tags\":[[[\"y\",\"y\",null]]]},\"id\":\"1358\",\"type\":\"Range1d\"},{\"attributes\":{},\"id\":\"1393\",\"type\":\"AllLabels\"},{\"attributes\":{\"margin\":[5,10,5,10],\"options\":[[\"PiYG\",\"PiYG\"],[\"PRGn\",\"PRGn\"],[\"BrBG\",\"BrBG\"],[\"PuOr\",\"PuOr\"],[\"RdGy\",\"RdGy\"],[\"RdBu\",\"RdBu\"],[\"RdYlBu\",\"RdYlBu\"],[\"RdYlGn\",\"RdYlGn\"],[\"Spectral\",\"Spectral\"],[\"coolwarm\",\"coolwarm\"],[\"bwr\",\"bwr\"],[\"seismic\",\"seismic\"],[\"gist_gray\",\"gist_gray\"],[\"bone\",\"bone\"],[\"pink\",\"pink\"],[\"spring\",\"spring\"],[\"summer\",\"summer\"],[\"autumn\",\"autumn\"],[\"winter\",\"winter\"],[\"cool\",\"cool\"],[\"Wistia\",\"Wistia\"],[\"hot\",\"hot\"],[\"afmhot\",\"afmhot\"],[\"gist_heat\",\"gist_heat\"],[\"copper\",\"copper\"],[\"Greys\",\"Greys\"],[\"Purples\",\"Purples\"],[\"Blues\",\"Blues\"],[\"Greens\",\"Greens\"],[\"Oranges\",\"Oranges\"],[\"Reds\",\"Reds\"],[\"YlOrBr\",\"YlOrBr\"],[\"YlOrRd\",\"YlOrRd\"],[\"OrRd\",\"OrRd\"],[\"PuRd\",\"PuRd\"],[\"RdPu\",\"RdPu\"],[\"BuPu\",\"BuPu\"],[\"GnBu\",\"GnBu\"],[\"PuBu\",\"PuBu\"],[\"YlGnBu\",\"YlGnBu\"],[\"PuBuGn\",\"PuBuGn\"],[\"BuGn\",\"BuGn\"],[\"YlGn\",\"YlGn\"],[\"viridis\",\"viridis\"],[\"plasma\",\"plasma\"],[\"inferno\",\"inferno\"],[\"magma\",\"magma\"],[\"cividis\",\"cividis\"],[\"twilight\",\"twilight\"],[\"twilight_shifted\",\"twilight_shifted\"],[\"hsv\",\"hsv\"],[\"Pastel1\",\"Pastel1\"],[\"Paired\",\"Paired\"],[\"Accent\",\"Accent\"],[\"Dark2\",\"Dark2\"],[\"Set1\",\"Set1\"],[\"Set2\",\"Set2\"],[\"Set3\",\"Set3\"],[\"tab10\",\"tab10\"],[\"tab20\",\"tab20\"],[\"tab20b\",\"tab20b\"],[\"tab20c\",\"tab20c\"],[\"flag\",\"flag\"],[\"prism\",\"prism\"],[\"ocean\",\"ocean\"],[\"gist_earth\",\"gist_earth\"],[\"terrain\",\"terrain\"],[\"gist_stern\",\"gist_stern\"],[\"gnuplot\",\"gnuplot\"],[\"gnuplot2\",\"gnuplot2\"],[\"CMRmap\",\"CMRmap\"],[\"cubehelix\",\"cubehelix\"],[\"brg\",\"brg\"],[\"gist_rainbow\",\"gist_rainbow\"],[\"rainbow\",\"rainbow\"],[\"jet\",\"jet\"],[\"turbo\",\"turbo\"],[\"nipy_spectral\",\"nipy_spectral\"],[\"gist_ncar\",\"gist_ncar\"],[\"glasbey_dark\",\"glasbey_dark\"]],\"value\":\"jet\"},\"id\":\"1351\",\"type\":\"panel.models.widgets.CustomSelect\"},{\"attributes\":{\"data\":{\"x\":{\"__ndarray__\":\"\",\"dtype\":\"float64\",\"order\":\"little\",\"shape\":[0]},\"y\":{\"__ndarray__\":\"\",\"dtype\":\"float64\",\"order\":\"little\",\"shape\":[0]}},\"selected\":{\"id\":\"1418\"},\"selection_policy\":{\"id\":\"1437\"}},\"id\":\"1417\",\"type\":\"ColumnDataSource\"},{\"attributes\":{\"tools\":[{\"id\":\"1376\"},{\"id\":\"1377\"},{\"id\":\"1378\"},{\"id\":\"1379\"},{\"id\":\"1380\"}]},\"id\":\"1382\",\"type\":\"Toolbar\"},{\"attributes\":{\"icon\":null,\"label\":\"\\u21aa\",\"margin\":[5,10,5,10],\"subscribed_events\":[\"button_click\"]},\"id\":\"1353\",\"type\":\"Button\"},{\"attributes\":{\"icon\":null,\"label\":\"\\u21a9\",\"margin\":[5,10,5,10],\"subscribed_events\":[\"button_click\"]},\"id\":\"1352\",\"type\":\"Button\"},{\"attributes\":{\"labels\":[\"interpolation\"],\"margin\":[5,10,5,10]},\"id\":\"1354\",\"type\":\"CheckboxGroup\"},{\"attributes\":{\"color_mapper\":{\"id\":\"1394\"},\"dh\":{\"field\":\"dh\"},\"dw\":{\"field\":\"dw\"},\"image\":{\"field\":\"image\"},\"x\":{\"field\":\"x\"},\"y\":{\"field\":\"y\"}},\"id\":\"1398\",\"type\":\"Image\"},{\"attributes\":{\"children\":[{\"id\":\"1359\"}],\"margin\":[0,0,0,0],\"name\":\"Column02281\"},\"id\":\"1356\",\"type\":\"Column\"},{\"attributes\":{\"end\":0.75,\"reset_end\":0.75,\"reset_start\":-0.75,\"start\":-0.75,\"tags\":[[[\"x\",\"x\",null]]]},\"id\":\"1357\",\"type\":\"Range1d\"},{\"attributes\":{\"data\":{\"x0\":{\"__ndarray__\":\"\",\"dtype\":\"float64\",\"order\":\"little\",\"shape\":[0]},\"x1\":{\"__ndarray__\":\"\",\"dtype\":\"float64\",\"order\":\"little\",\"shape\":[0]},\"y0\":{\"__ndarray__\":\"\",\"dtype\":\"float64\",\"order\":\"little\",\"shape\":[0]},\"y1\":{\"__ndarray__\":\"\",\"dtype\":\"float64\",\"order\":\"little\",\"shape\":[0]}},\"selected\":{\"id\":\"1409\"},\"selection_policy\":{\"id\":\"1435\"}},\"id\":\"1408\",\"type\":\"ColumnDataSource\"},{\"attributes\":{\"color_mapper\":{\"id\":\"1394\"},\"dh\":{\"field\":\"dh\"},\"dw\":{\"field\":\"dw\"},\"global_alpha\":{\"value\":0.1},\"image\":{\"field\":\"image\"},\"x\":{\"field\":\"x\"},\"y\":{\"field\":\"y\"}},\"id\":\"1400\",\"type\":\"Image\"}],\"root_ids\":[\"1345\",\"1602\"]},\"title\":\"Bokeh Application\",\"version\":\"2.4.2\"}};\n",
       "    var render_items = [{\"docid\":\"71b1b4e0-6901-4e95-9650-acef9d995ec5\",\"root_ids\":[\"1345\"],\"roots\":{\"1345\":\"7d9c5f42-ad19-4ba0-b952-d45548646596\"}}];\n",
       "    root.Bokeh.embed.embed_items_notebook(docs_json, render_items);\n",
       "  }\n",
       "  if (root.Bokeh !== undefined && root.Bokeh.Panel !== undefined) {\n",
       "    embed_document(root);\n",
       "  } else {\n",
       "    var attempts = 0;\n",
       "    var timer = setInterval(function(root) {\n",
       "      if (root.Bokeh !== undefined && root.Bokeh.Panel !== undefined) {\n",
       "        clearInterval(timer);\n",
       "        embed_document(root);\n",
       "      } else if (document.readyState == \"complete\") {\n",
       "        attempts++;\n",
       "        if (attempts > 200) {\n",
       "          clearInterval(timer);\n",
       "          console.log(\"Bokeh: ERROR: Unable to run BokehJS code because BokehJS library is missing\");\n",
       "        }\n",
       "      }\n",
       "    }, 25, root)\n",
       "  }\n",
       "})(window);</script>"
      ],
      "text/plain": [
       "Column\n",
       "    [0] Column\n",
       "        [0] Column\n",
       "            [0] Row(margin=5, width=700)\n",
       "                [0] StaticText(value='<b></b>')\n",
       "                [1] Select(options=OrderedDict([('Component P...]), value=0)\n",
       "                [2] Select(options=OrderedDict([('PiYG', ...]), value='jet')\n",
       "                [3] Button(name='↩')\n",
       "                [4] Button(name='↪')\n",
       "                [5] Checkbox(name='interpolation')\n",
       "        [1] Row\n",
       "            [0] Column\n",
       "                [0] HoloViews(DynamicMap)\n",
       "            [1] Row\n",
       "                [0] Column\n",
       "                    [0] Column(margin=5, name='Component Planes', width=300)\n",
       "                        [0] StaticText(value='<b>Component Planes</b>')\n",
       "                        [1] IntSlider(end=2, name='Component')\n",
       "                    [1] Str(str)\n",
       "    [1] Column\n",
       "        [0] Row()"
      ]
     },
     "execution_count": 2,
     "metadata": {
      "application/vnd.holoviews_exec.v0+json": {
       "id": "1345"
      }
     },
     "output_type": "execute_result"
    }
   ],
   "source": [
    "#SOMToolbox Parser\n",
    "from SOMToolBox_Parse import SOMToolBox_Parse\n",
    "from numpy import genfromtxt\n",
    "from sklearn import datasets\n",
    "from somtoolbox import SOMToolbox\n",
    "\n",
    "\n",
    "idata = SOMToolBox_Parse(\"D:\\\\Dropbox\\\\!Master thesis\\\\implementations\\\\chainlinktest\\\\chainlink.vec\").read_weight_file()\n",
    "weights = SOMToolBox_Parse(\"D:\\\\Dropbox\\\\!Master thesis\\\\implementations\\\\chainlinktest\\\\chainlink.wgt.gz\").read_weight_file()\n",
    "my_data = genfromtxt('D:\\\\Dropbox\\\\!Master thesis\\\\implementations\\\\chainlinktest\\\\chainlink.csv', delimiter=',')\n",
    "my_data = my_data[:,0:weights['vec_dim']]\n",
    "\n",
    "iris = datasets.load_iris().data\n",
    "sm = SOMToolbox(weights=weights['arr'].reshape(-1,weights['vec_dim']), m=weights['ydim'], \n",
    "                n=weights['xdim'], dimension=weights['vec_dim'], input_data=my_data)\n",
    "sm._mainview"
   ]
  },
  {
   "cell_type": "code",
   "execution_count": null,
   "id": "3d882924",
   "metadata": {},
   "outputs": [],
   "source": [
    "import scipy.ndimage\n",
    "sm._pipe.send(scipy.ndimage.zoom(sm._pipe.data, 20, order=2))"
   ]
  },
  {
   "cell_type": "code",
   "execution_count": null,
   "id": "5385b80a",
   "metadata": {},
   "outputs": [],
   "source": [
    "import numpy as np\n",
    "lam = 1\n",
    "k=4\n",
    "points = np.empty((0,2))\n",
    "for vector in sm._idata[0:1]:\n",
    "    dists = np.sqrt(np.sum(np.power(sm._weights - vector, 2), axis=1))\n",
    "    best_dists = np.argsort(dists)[0:k+1]\n",
    "    xy_points =  np.array([sm._get_neuron_xy(i) for i in best_dists])\n",
    "    \n",
    "    f = dists[best_dists[0]] / dists[best_dists[1:]]\n",
    "    df = [0,0]\n",
    "    for i, ui in enumerate(xy_points[1:]):\n",
    "        #print(ui, bmu, abs(ui - bmu))\n",
    "        df = f[i] * abs(ui - xy_points[0])\n",
    "        xy_points[0][0] += -1*df[0] if xy_points[0][0]>ui[0] else df[0]\n",
    "        xy_points[0][1] += -1*df[1] if xy_points[0][1]>ui[1] else df[1]\n",
    "\n",
    "\n",
    "    #bmu *= lam \n",
    "    points = np.vstack([points, xy_points[0]])\n",
    "\n",
    "#points[:,0] = normalize(points[:,0], [min(points[:,0]),max(points[:,0])], [-0.45,0.45])\n",
    "#points[:,1] = normalize(points[:,1], [min(points[:,1]),max(points[:,1])], [-0.45,0.45])    \n",
    "sm._pipe_points.send(points)"
   ]
  },
  {
   "cell_type": "code",
   "execution_count": null,
   "id": "e9c24ee9",
   "metadata": {},
   "outputs": [],
   "source": [
    "points = np.empty((0,2))\n",
    "best_dists = [0,1,11]\n",
    "xy_points =  np.array([sm._get_neuron_xy(i) for i in best_dists])\n",
    "\n",
    "f = [0,0]\n",
    "bmu = xy_points[0]\n",
    "df = [0,0]\n",
    "for i, ui in enumerate(xy_points[1:]):\n",
    "    df = f[i] * abs(ui - bmu)\n",
    "    bmu[0] += -1*df[0] if bmu[0]>ui[0] else df[0]\n",
    "    bmu[1] += -1*df[1] if bmu[1]>ui[1] else df[1]\n",
    "\n",
    "\n",
    "bmu *= lam \n",
    "points = np.vstack([points, bmu])\n",
    "sm._pipe_points.send(points)"
   ]
  },
  {
   "cell_type": "code",
   "execution_count": null,
   "id": "1b48e562",
   "metadata": {},
   "outputs": [],
   "source": [
    "xy_points =  np.array([sm._get_neuron_xy(i) for i in [0,1,12,13]])\n",
    "f=[1,0,0,0]\n",
    "position = xy_points[0:]\n",
    "for i, ui in enumerate(xy_points[1:]):\n",
    "    df = f[i] * abs(ui - xy_points[0:])\n",
    "    position[0] += -1*df[0] if xy_points[0][0]>ui[0] else df[0]\n",
    "    position[1] += -1*df[1] if xy_points[0][1]>ui[1] else df[1]\n",
    "\n",
    "sm._pipe_points.send(xy_points)\n"
   ]
  },
  {
   "cell_type": "code",
   "execution_count": null,
   "id": "7c619f9c",
   "metadata": {},
   "outputs": [],
   "source": [
    "def normalize(values, actual_bounds, desired_bounds):\n",
    "    return [desired_bounds[0] + (x - actual_bounds[0]) * (desired_bounds[1] - desired_bounds[0]) / (actual_bounds[1] - actual_bounds[0]) for x in values]\n",
    "points[:,0] = normalize(points[:,0], [min(points[:,0]),max(points[:,0])], [-0.5,0.5])\n",
    "points[:,1] = normalize(points[:,1], [min(points[:,1]),max(points[:,1])], [-0.5,0.5])"
   ]
  },
  {
   "cell_type": "code",
   "execution_count": null,
   "id": "b0843f0e",
   "metadata": {},
   "outputs": [],
   "source": [
    "import numpy as np\n",
    "\n",
    "dpu = 20\n",
    "lam = 0.25\n",
    "height = sm._m * dpu\n",
    "width = sm._n * dpu\n",
    "k = 4\n",
    "#scale_matrix = np.array([dpu, dpu])\n",
    "stars = np.zeros((width, height))\n",
    "for vector in sm._idata:\n",
    "    dists = np.sqrt(np.sum(np.power(sm._weights - vector, 2), axis=1))\n",
    "    idxs = np.argsort(dists)\n",
    "    idxs2 = np.array(list(map(lambda a: (int(a % sm._n), int(a / sm._n)), idxs)))\n",
    "    best_dists = dists[idxs[0:k]]\n",
    "    ui = idxs2[1:k]\n",
    "    u1 = idxs2[0]\n",
    "    position = np.zeros(2, dtype=\"float64\")\n",
    "    use4points = 1\n",
    "\n",
    "    f = best_dists[0] / best_dists[1:]\n",
    "    f = np.array(f).astype(\"float64\")\n",
    "    # use 4 points\n",
    "    if (ui[0][0] == ui[1][0] and ui[1][0] == ui[2][0]\n",
    "            or ui[0][1] == ui[1][1] and ui[1][1] == ui[2][1]):\n",
    "        use4points = 0\n",
    "    for i in range(k - 1 - use4points):\n",
    "        if (ui[i][0] - u1[0]) != 0:\n",
    "            position[0] += f[i] * 1.0 / (ui[i][0] - u1[0])\n",
    "        if (ui[i][1] - u1[1]) != 0:\n",
    "            position[1] += f[i] * 1.0 / (ui[i][1] - u1[1])\n",
    "    position *= lam\n",
    "    position *= dpu\n",
    "\n",
    "    position[0] = position[0] + u1[0] * dpu\n",
    "    position[1] = position[1] + u1[1] * dpu\n",
    "    x = int(position[0] + dpu / 2.0)\n",
    "    y = int(position[1] + dpu / 2.0)\n",
    "    stars[x, y] = 1\n",
    "stars\n",
    "#res = SDH.sdh(self._main._weights, self._main._m, self._main._n, self._main._idata, smooth_factor, 2)\n",
    "#res = scipy.ndimage.zoom(res, dpu, order=2)\n",
    "#res = np.array(res)\n",
    "#res = res / np.max(res)\n",
    "# res[res > 1] = 1\n",
    "#stars = stars.transpose()\n",
    "#res *= 0.6\n",
    "#res = 1 - res\n",
    "#res[stars == 1] = 0\n",
    "#self._main._display(res)\n",
    "sum(stars.reshape(1,-1)[0])\n"
   ]
  },
  {
   "cell_type": "code",
   "execution_count": null,
   "id": "a06ff065",
   "metadata": {},
   "outputs": [],
   "source": []
  },
  {
   "cell_type": "code",
   "execution_count": null,
   "id": "862d9353",
   "metadata": {},
   "outputs": [],
   "source": []
  },
  {
   "cell_type": "code",
   "execution_count": null,
   "id": "b127672f",
   "metadata": {},
   "outputs": [],
   "source": [
    "import minisom as som\n",
    "import panel as pn\n",
    "rows, columns = 15, 3\n",
    "minis = som.MiniSom(rows, columns, learn.shape[1])\n",
    "minis.train_random(learn, 1, verbose=False)\n",
    "np.save('minisom', minis._weights)\n",
    "sm = SOMToolbox(weights=minis._weights, input_data=learn)\n",
    "sm._mainview"
   ]
  },
  {
   "cell_type": "code",
   "execution_count": null,
   "id": "869567a0",
   "metadata": {},
   "outputs": [],
   "source": [
    "import numpy as np\n",
    "x = np.linspace(0, 15, 500)\n",
    "y = np.sin(x)\n",
    "y += np.random.normal(0,.2,len(y))\n",
    "s = np.stack((x,y,np.arange(0,len(x)))).T\n",
    "s = s / s.max(axis=0)\n",
    "import minisom as som\n",
    "import panel as pn\n",
    "rows, columns = 3, 15\n",
    "minis = som.MiniSom(rows, columns, s.shape[1])\n",
    "minis.train_random(s, 10, verbose=False)\n",
    "from somtoolbox import SOMToolbox\n",
    "sm = SOMToolbox(weights=minis._weights, input_data=s)\n",
    "sm._mainview"
   ]
  },
  {
   "cell_type": "code",
   "execution_count": null,
   "id": "e3d6585c",
   "metadata": {},
   "outputs": [],
   "source": [
    "sm._visualizations[-2]._calculate()"
   ]
  },
  {
   "cell_type": "code",
   "execution_count": null,
   "id": "cc1e12f5",
   "metadata": {},
   "outputs": [],
   "source": [
    "def _get_projection():\n",
    "    bmu = np.apply_along_axis(lambda x: np.argmin( np.linalg.norm(sm._weights - x.reshape((1, sm._dim)), axis=1)), 1, sm._idata)\n",
    "    matrix = sm._pipe.data.reshape(-1,1)\n",
    "    df = []#= pd.DataFrame(columns=['time', 'neurons', 'color'])\n",
    "    for i,u in enumerate(bmu):\n",
    "        df.append([i, u, matrix[u]]) #= pd.concat([df, pd.DataFrame([[i, u, int(matrix[u])]], columns=['time', 'neurons', 'color'])])\n",
    "    return df\n",
    "df = _get_projection()\n",
    "import holoviews as hv\n",
    "hv.Points(df,vdims='color').opts(color='color', cmap='jet', show_legend=False)"
   ]
  },
  {
   "cell_type": "code",
   "execution_count": null,
   "id": "75dcb645",
   "metadata": {},
   "outputs": [],
   "source": [
    "bmu[0:17]"
   ]
  },
  {
   "cell_type": "code",
   "execution_count": null,
   "id": "865b2a02",
   "metadata": {},
   "outputs": [],
   "source": [
    "cmin, cmax = sm._pipe.data.min(), sm._pipe.data.max()\n",
    "import holoviews as hv\n",
    "bmu, curve = sm._visualizations[-2]._get_projection()\n",
    "hv.Points(bmu).opts(color='color', cmap='jet', show_legend=False)"
   ]
  },
  {
   "cell_type": "code",
   "execution_count": null,
   "id": "d392067e",
   "metadata": {},
   "outputs": [],
   "source": [
    "import numpy as np\n",
    "import pandas as pd\n",
    "\n"
   ]
  },
  {
   "cell_type": "code",
   "execution_count": null,
   "id": "08310c0a",
   "metadata": {},
   "outputs": [],
   "source": [
    "a = matrix.reshape(-1,1)\n",
    "a[45]"
   ]
  },
  {
   "cell_type": "code",
   "execution_count": null,
   "id": "e1ce326d",
   "metadata": {},
   "outputs": [],
   "source": [
    "import holoviews as hv\n",
    "\n",
    "bmu, curve = sm._visualizations[-2]._get_projection()\n",
    "Points = hv.Points(bmu).apply.opts(color='color')#.opts(color='color', cmap=self._main._maincontrol.param.colormap)\n",
    "#Curve  = hv.Curve(curve).apply.opts(color='red', xlim=sm._visualizations[-2]._controls.param.Xrange, alpha=sm._visualizations[-2]._controls.param.alpha, framewise=True)\n",
    "Points#*Curve"
   ]
  },
  {
   "cell_type": "code",
   "execution_count": null,
   "id": "df82e1af",
   "metadata": {},
   "outputs": [],
   "source": [
    "import holoviews as hv\n",
    "hv.help(hv.opts)"
   ]
  },
  {
   "cell_type": "code",
   "execution_count": null,
   "id": "5a58d61d",
   "metadata": {},
   "outputs": [],
   "source": [
    "import holoviews as hv\n",
    "\n",
    "hv.Points(bmu)*hv.Curve(curve)"
   ]
  },
  {
   "cell_type": "code",
   "execution_count": null,
   "id": "999123c6",
   "metadata": {},
   "outputs": [],
   "source": [
    "import holoviews as hv\n",
    "import pandas as pd\n",
    "\n",
    "df = pd.DataFrame(columns=['time', 'neurons', 'color'])\n",
    "df = pd.concat([df, pd.DataFrame([[1, 2, 3]], columns=['time', 'neurons', 'color'])])\n",
    "hv.Curve(df)"
   ]
  },
  {
   "cell_type": "code",
   "execution_count": null,
   "id": "3cd26435",
   "metadata": {},
   "outputs": [],
   "source": [
    "import pandas as pd\n",
    "bmu = np.apply_along_axis(lambda x: np.argmin( np.linalg.norm(sm._weights - x.reshape((1, sm._dim)), axis=1)), 1, sm._idata)\n",
    "matrix = sm._pipe.data.reshape(-1,1) \n",
    "curve = [bmu[0]]\n",
    "df = pd.DataFrame(columns=['time', 'neurons', 'color'])\n",
    "for i,u in enumerate(bmu):\n",
    "    df = df.append(pd.DataFrame([[i, u, float(matrix[u])]], columns=['time', 'neurons', 'color']))\n",
    "import holoviews as hv\n",
    "hv.Points(df).opts(color='color', cmap='viridis')\n"
   ]
  },
  {
   "cell_type": "code",
   "execution_count": null,
   "id": "6169f353",
   "metadata": {},
   "outputs": [],
   "source": [
    "sm._visualizations[-2]._get_projection()"
   ]
  },
  {
   "cell_type": "code",
   "execution_count": null,
   "id": "4d9a2ea3",
   "metadata": {},
   "outputs": [],
   "source": [
    "import pandas as pd\n",
    "df = pd.DataFrame(columns=['time', 'neurons', 'color'])\n",
    "pd.concat"
   ]
  },
  {
   "cell_type": "code",
   "execution_count": null,
   "id": "09a11b93",
   "metadata": {},
   "outputs": [],
   "source": [
    "import holoviews as hv\n",
    "from holoviews.streams import Pipe, Buffer\n",
    "import panel as pn\n",
    "\n",
    "_avarage    = Pipe(data=[])\n",
    "_points     = Pipe(data=[])\n",
    "_trajectory = Pipe(data=[])\n",
    "\n",
    "plot1 = hv.DynamicMap(hv.Points, streams=[_points]).apply.opts(line_width=1, color='red').apply.opts(width=800,xlim=(0,100))\n",
    "plot2 = hv.DynamicMap(hv.Curve, streams=[_avarage]).apply.opts(line_width=1, color='red')\n",
    "pn.Column(plot1*plot2)"
   ]
  },
  {
   "cell_type": "code",
   "execution_count": null,
   "id": "1429f6f8",
   "metadata": {},
   "outputs": [],
   "source": [
    "sm._visualizations[-2]._get_projection()"
   ]
  },
  {
   "cell_type": "code",
   "execution_count": null,
   "id": "3c590876",
   "metadata": {},
   "outputs": [],
   "source": [
    "plot2"
   ]
  },
  {
   "cell_type": "code",
   "execution_count": null,
   "id": "cbdd1368",
   "metadata": {},
   "outputs": [],
   "source": [
    "bmu = np.apply_along_axis(lambda x: np.argmin( np.linalg.norm(sm._weights - x.reshape((1, sm._dim)), axis=1)), 1, sm._idata[:100])\n",
    "_trajectory = []\n",
    "_avarage2 = [bmu[0]]\n",
    "for i in range(1, len(bmu)):\n",
    "    _trajectory.append(sm._get_neuron_xy(bmu[i-1])+sm._get_neuron_xy(bmu[i]))\n",
    "    ewa = 0.1*_avarage2[-1] + 0.9*bmu[i] #Exponentially Weighted Averages\n",
    "    _avarage2.append(ewa)\n",
    "_avarage.send(_avarage2)\n",
    "\n",
    "sm._pipe_paths.send(_trajectory)\n",
    "#self._main._get_neuron_xy(p[0])+self._main._get_neuron_xy(p[1])\n",
    "\n",
    "\n",
    "#_points.send(bmu)\n",
    "\n",
    "#matrix = sm._pipe.data.reshape(-1, 1) \n",
    "#self._trajectory = []\n",
    "#for i, u in enumerate(bmu):\n",
    "#   self._pipe_points.send(self._main._get_neuron_xy(u))\n",
    "#   if i>0: self._trajectory.append(self._main._get_neuron_xy(bmu[i-1])+self._main._get_neuron_xy(bmu[i]))\n",
    "#   self._dfstream.send(pd.DataFrame(np.vstack([i, u, matrix[u]]).T, columns=['time', 'neurons', 'color']))\n",
    "#   ewa = 0.01*self._controls.betta*self._avarage_points.data.neurons.iloc[-1] + (1-0.01*self._controls.betta)*u if self._avarage_points.data.neurons.size>0 else u #Exponentially Weighted Averages\n",
    "#   self._avarage_points.send(pd.DataFrame([(i, ewa)], columns=['time', 'neurons']))\n",
    "#   time.sleep(self._controls.speed)\n",
    "#   if self.stop:\n",
    "#      self.stop = False\n",
    "#      break\n"
   ]
  },
  {
   "cell_type": "code",
   "execution_count": null,
   "id": "af8ae8db",
   "metadata": {},
   "outputs": [],
   "source": [
    "print(Vis.param)"
   ]
  },
  {
   "cell_type": "code",
   "execution_count": null,
   "id": "7d61f900",
   "metadata": {},
   "outputs": [],
   "source": [
    "import holoviews as hv\n",
    "import panel as pn\n",
    "import param\n",
    "hv.extension('bokeh')\n",
    "def sss():\n",
    "    print('awd')\n",
    "class Vis(param.Parameterized):\n",
    "    curve_vis     = param.Boolean(False, label='Show curve')\n",
    "    visible       = param.Boolean(label='X-range')\n",
    "\n",
    "        \n",
    "vis = Vis()\n",
    "\n",
    "plot1 = hv.Curve([1,2,3,4,5,6]).apply.opts(visible=vis.param.visible)\n",
    "pn.Row(plot1, vis)\n",
    "    "
   ]
  },
  {
   "cell_type": "code",
   "execution_count": null,
   "id": "a2f3f5db",
   "metadata": {},
   "outputs": [],
   "source": [
    "vis.alpha = 0.1"
   ]
  },
  {
   "cell_type": "code",
   "execution_count": null,
   "id": "94e9d5e6",
   "metadata": {},
   "outputs": [],
   "source": [
    "weights = np.load('minisom.npy')\n",
    "learn = np.load('learn.npy')\n",
    "bmu = np.apply_along_axis(lambda x: np.argmin( np.linalg.norm(weights - x.reshape((1, 5)), axis=1)), 1, learn)"
   ]
  },
  {
   "cell_type": "code",
   "execution_count": null,
   "id": "104be564",
   "metadata": {},
   "outputs": [],
   "source": [
    "import holoviews as hv\n",
    "hv.help(hv.Points)"
   ]
  },
  {
   "cell_type": "code",
   "execution_count": null,
   "id": "bf7ab0db",
   "metadata": {},
   "outputs": [],
   "source": [
    "import holoviews as hv\n",
    "\n",
    "def get_id(plot,index):\n",
    "    print('index: ')\n",
    "\n",
    "hv.Points([[1,5],[2,5],[3,6],[4,8]]).opts(tools=[\"lasso_select\"])"
   ]
  },
  {
   "cell_type": "code",
   "execution_count": null,
   "id": "af7f9f60",
   "metadata": {},
   "outputs": [],
   "source": []
  }
 ],
 "metadata": {
  "kernelspec": {
   "display_name": "Python 3 (ipykernel)",
   "language": "python",
   "name": "python3"
  },
  "language_info": {
   "codemirror_mode": {
    "name": "ipython",
    "version": 3
   },
   "file_extension": ".py",
   "mimetype": "text/x-python",
   "name": "python",
   "nbconvert_exporter": "python",
   "pygments_lexer": "ipython3",
   "version": "3.9.12"
  }
 },
 "nbformat": 4,
 "nbformat_minor": 5
}
